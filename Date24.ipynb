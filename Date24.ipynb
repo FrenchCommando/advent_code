{
 "cells": [
  {
   "cell_type": "code",
   "execution_count": 1,
   "metadata": {
    "collapsed": true
   },
   "outputs": [],
   "source": [
    "import aocd"
   ]
  },
  {
   "cell_type": "code",
   "execution_count": 2,
   "metadata": {
    "collapsed": false
   },
   "outputs": [
    {
     "name": "stdout",
     "output_type": "stream",
     "text": [
      "\u001b[31mYou are being rate-limited.\u001b[0m\n",
      "Sleeping 9.988 seconds...\u001b[0m\n",
      "Done.\u001b[0m\n"
     ]
    },
    {
     "data": {
      "text/plain": [
       "u'25/13\\n4/43\\n42/42\\n39/40\\n17/18\\n30/7\\n12/12\\n32/28\\n9/28\\n1/1\\n16/7\\n47/43\\n34/16\\n39/36\\n6/4\\n3/2\\n10/49\\n46/50\\n18/25\\n2/23\\n3/21\\n5/24\\n46/26\\n50/19\\n26/41\\n1/50\\n47/41\\n39/50\\n12/14\\n11/19\\n28/2\\n38/47\\n5/5\\n38/34\\n39/39\\n17/34\\n42/16\\n32/23\\n13/21\\n28/6\\n6/20\\n1/30\\n44/21\\n11/28\\n14/17\\n33/33\\n17/43\\n31/13\\n11/21\\n31/39\\n0/9\\n13/50\\n10/14\\n16/10\\n3/24\\n7/0\\n50/50'"
      ]
     },
     "execution_count": 2,
     "metadata": {},
     "output_type": "execute_result"
    }
   ],
   "source": [
    "day24 = aocd.get_data(day=24)\n",
    "day24"
   ]
  },
  {
   "cell_type": "code",
   "execution_count": 24,
   "metadata": {
    "collapsed": true
   },
   "outputs": [],
   "source": [
    "import re\n",
    "\n",
    "def strongest(hook, strength, remaining, bridge, length):\n",
    "    l = re.findall(r\"[0-9]+\", remaining)\n",
    "    match_index = [i for i,x in enumerate(l) if x == hook]\n",
    "    if not match_index:\n",
    "        return strength, bridge, length\n",
    "    m_strength = strength\n",
    "    m_bridge = bridge\n",
    "    m_length = length\n",
    "    for i in match_index:\n",
    "        other_index = i+1 if i%2 == 0 else i-1\n",
    "        n_hook = l[other_index]\n",
    "        n_string = \"/\".join([hook,n_hook] if i%2 == 0 else [n_hook,hook])\n",
    "        n_bridge = bridge + \"--\" + n_string\n",
    "        n_remaining = remaining.replace(\"\\n\"+n_string+\"\\n\",\"\\n\")\n",
    "        n_strength = strength + int(n_hook) + int(hook)\n",
    "        n_length = length + 1\n",
    "        nm_strength, nm_bridge, nm_length= strongest(n_hook,n_strength, n_remaining, n_bridge, n_length)\n",
    "        if nm_length > m_length:\n",
    "            m_strength = nm_strength\n",
    "            m_bridge = nm_bridge\n",
    "            m_length = nm_length\n",
    "        if (nm_length == m_length) and (nm_strength >= m_strength):\n",
    "            m_strength = nm_strength\n",
    "            m_bridge = nm_bridge\n",
    "            m_length = nm_length\n",
    "    return m_strength, m_bridge, m_length\n",
    "\n",
    "def day_twenty_four(u):\n",
    "    toto = u.split(\"\\n\")\n",
    "    u = \"\\n\" + u + \"\\n\"\n",
    "    #t = re.findall(r\"[0-9]+\",u)\n",
    "    #print t\n",
    "    return strongest(\"0\", 0 , u, \"\", 0)\n",
    "\n",
    "def day_twenty_four_bis(u):\n",
    "    toto = u.split(\"\\n\")\n",
    "    return toto"
   ]
  },
  {
   "cell_type": "code",
   "execution_count": 25,
   "metadata": {
    "collapsed": false,
    "scrolled": true
   },
   "outputs": [
    {
     "data": {
      "text/plain": [
       "(1841,\n",
       " u'--0/9--9/28--28/2--2/23--32/23--32/28--28/6--6/4--4/43--17/43--14/17--10/14--16/10--16/7--30/7--1/30--1/1--1/50--50/50--39/50--39/39--31/39--31/13--25/13--18/25--17/18--17/34--38/34--38/47--47/41--26/41--46/26--46/50--50/19--11/19--11/21--3/21--3/24--5/24--5/5',\n",
       " 40)"
      ]
     },
     "execution_count": 25,
     "metadata": {},
     "output_type": "execute_result"
    }
   ],
   "source": [
    "day_twenty_four(day24)"
   ]
  },
  {
   "cell_type": "code",
   "execution_count": 16,
   "metadata": {
    "collapsed": false,
    "scrolled": true
   },
   "outputs": [
    {
     "data": {
      "text/plain": [
       "[u'25/13',\n",
       " u'4/43',\n",
       " u'42/42',\n",
       " u'39/40',\n",
       " u'17/18',\n",
       " u'30/7',\n",
       " u'12/12',\n",
       " u'32/28',\n",
       " u'9/28',\n",
       " u'1/1',\n",
       " u'16/7',\n",
       " u'47/43',\n",
       " u'34/16',\n",
       " u'39/36',\n",
       " u'6/4',\n",
       " u'3/2',\n",
       " u'10/49',\n",
       " u'46/50',\n",
       " u'18/25',\n",
       " u'2/23',\n",
       " u'3/21',\n",
       " u'5/24',\n",
       " u'46/26',\n",
       " u'50/19',\n",
       " u'26/41',\n",
       " u'1/50',\n",
       " u'47/41',\n",
       " u'39/50',\n",
       " u'12/14',\n",
       " u'11/19',\n",
       " u'28/2',\n",
       " u'38/47',\n",
       " u'5/5',\n",
       " u'38/34',\n",
       " u'39/39',\n",
       " u'17/34',\n",
       " u'42/16',\n",
       " u'32/23',\n",
       " u'13/21',\n",
       " u'28/6',\n",
       " u'6/20',\n",
       " u'1/30',\n",
       " u'44/21',\n",
       " u'11/28',\n",
       " u'14/17',\n",
       " u'33/33',\n",
       " u'17/43',\n",
       " u'31/13',\n",
       " u'11/21',\n",
       " u'31/39',\n",
       " u'0/9',\n",
       " u'13/50',\n",
       " u'10/14',\n",
       " u'16/10',\n",
       " u'3/24',\n",
       " u'7/0',\n",
       " u'50/50']"
      ]
     },
     "execution_count": 16,
     "metadata": {},
     "output_type": "execute_result"
    }
   ],
   "source": [
    "day_twenty_four_bis(day24)"
   ]
  },
  {
   "cell_type": "code",
   "execution_count": 20,
   "metadata": {
    "collapsed": false
   },
   "outputs": [
    {
     "name": "stdout",
     "output_type": "stream",
     "text": [
      "0 0 \n",
      "2 2 --0/2\n",
      "2 6 --0/2--2/2\n",
      "3 11 --0/2--2/2--2/3\n",
      "4 18 --0/2--2/2--2/3--3/4\n",
      "5 19 --0/2--2/2--2/3--3/5\n",
      "2 6 --0/2--2/2\n",
      "3 11 --0/2--2/2--2/3\n",
      "4 18 --0/2--2/2--2/3--3/4\n",
      "5 19 --0/2--2/2--2/3--3/5\n",
      "3 7 --0/2--2/3\n",
      "4 14 --0/2--2/3--3/4\n",
      "5 15 --0/2--2/3--3/5\n",
      "1 1 --0/1\n",
      "10 12 --0/1--10/1\n",
      "9 31 --0/1--10/1--9/10\n"
     ]
    },
    {
     "data": {
      "text/plain": [
       "(31, '--0/1--10/1--9/10')"
      ]
     },
     "execution_count": 20,
     "metadata": {},
     "output_type": "execute_result"
    }
   ],
   "source": [
    "test = \"0/2\\n2/2\\n2/3\\n3/4\\n3/5\\n0/1\\n10/1\\n9/10\"\n",
    "day_twenty_four(test)"
   ]
  },
  {
   "cell_type": "code",
   "execution_count": null,
   "metadata": {
    "collapsed": true
   },
   "outputs": [],
   "source": []
  }
 ],
 "metadata": {
  "kernelspec": {
   "display_name": "Python 2",
   "language": "python",
   "name": "python2"
  },
  "language_info": {
   "codemirror_mode": {
    "name": "ipython",
    "version": 2
   },
   "file_extension": ".py",
   "mimetype": "text/x-python",
   "name": "python",
   "nbconvert_exporter": "python",
   "pygments_lexer": "ipython2",
   "version": "2.7.10"
  }
 },
 "nbformat": 4,
 "nbformat_minor": 0
}
