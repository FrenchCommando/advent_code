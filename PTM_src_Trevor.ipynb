{
 "cells": [
  {
   "cell_type": "code",
   "execution_count": 1,
   "metadata": {},
   "outputs": [
    {
     "name": "stdout",
     "output_type": "stream",
     "text": [
      "Populating the interactive namespace from numpy and matplotlib\n"
     ]
    }
   ],
   "source": [
    "%pylab inline\n",
    "import pandas as pd\n",
    "from collections import deque"
   ]
  },
  {
   "cell_type": "code",
   "execution_count": 2,
   "metadata": {},
   "outputs": [],
   "source": [
    "price = pd.read_csv('price_data.csv', index_col=0)\n",
    "price = price.fillna(method='pad')\n",
    "price.index = pd.to_datetime(price.index)\n",
    "price.columns = ['CL', 'GC','ES','TY']\n",
    "\n",
    "oi = pd.read_csv('OI_data.csv',index_col=0)\n",
    "oi = oi.fillna(method='pad')\n",
    "oi.index = pd.to_datetime(oi.index)\n",
    "oi.columns = ['CL', 'GC','ES','TY']"
   ]
  },
  {
   "cell_type": "code",
   "execution_count": 3,
   "metadata": {},
   "outputs": [],
   "source": [
    "class PainTradeMonitor(object):\n",
    "    def __init__(self, price_series, oi_series):\n",
    "        self.std_look_back = 252\n",
    "        self.signal_look_back = 30\n",
    "        self.composite = self._make_DataFrame(price_series, oi_series)\n",
    "        # processed DataFrame, which contains fields (aligned by date):\n",
    "        # 'price', 'oi', 'oi change', 'price change', \n",
    "        # 'ls', 'offside', 'caught_offside'\n",
    "        self.length = len(self.composite)\n",
    "        self.processed = None\n",
    "        self.buy_hold_pnl = 1/price_series[0]*price_series[-1] - 1\n",
    "    \n",
    "    def _make_DataFrame(self, price_series, oi_series):\n",
    "        temp = pd.concat([price_series,\n",
    "                          oi_series, \n",
    "                          price_series.diff(1)[1:],\n",
    "                          oi_series.diff(1)[1:]\n",
    "                         ], \n",
    "                         join='inner', axis=1)\n",
    "        temp.columns = ['price', 'oi', 'price change', 'oi change']\n",
    "        return temp\n",
    "    \n",
    "    def new_ls(self, start, end):\n",
    "        ''' (DataFrame with 'oi change', int, int) -> double of pct_change\n",
    "        According to the first assumption, we have four cases:\n",
    "        1. price + and oi +: new longs\n",
    "        2. price + and oi -: old shorts covered\n",
    "        3. price - and oi +: new shorts\n",
    "        4. price - and oi -: old long taken off\n",
    "        Note since we are only looking at new long vs new shorts, long position\n",
    "        taken off and short position covering from outside 30-day is not considered.\n",
    "        i.e. long_ and short_ always floored by 0\n",
    "        '''\n",
    "        long_ = 0.\n",
    "        short_ = 0.\n",
    "        for i in range(start, end):\n",
    "            oi_change = self.composite['oi change'][i]\n",
    "            price_change = self.composite['price change'][i]\n",
    "            if price_change > 0 and oi_change > 0: # case 1\n",
    "                long_ += oi_change\n",
    "            elif price_change > 0 and oi_change < 0: # case 2\n",
    "                short_ += oi_change\n",
    "                short_ = max(short_, 0)\n",
    "            elif price_change < 0 and oi_change > 0: # case 3\n",
    "                short_ += oi_change\n",
    "            else: # case 4\n",
    "                long_ += oi_change\n",
    "                long_ = max(long_, 0)\n",
    "        \n",
    "        return (long_-short_)/self.composite['oi'][end-1]\n",
    "\n",
    "    def oi_change_at_prices(self, start, end):\n",
    "        ''' (int of index, int of index) -> (d_l, d_s)\n",
    "        The long/short side oi are computed according to the 3rd assumption in paper, \n",
    "        which states offset position covers previous positions proportionally, with the \n",
    "        ratio equal to the ratio of offest position to current previous positions.\n",
    "        e.g. {40:100, 50:200}\n",
    "        if today's close is 45 and oi decreased by 150, then ratio = 150/(100+200) = 1/2,\n",
    "        new positions will be {40:50, 50:100};\n",
    "        if oi decreased by 400, then ratio > 1, all previous long in the monitor window\n",
    "        are taken off, the excess is from the older long taken off. Thus, new position\n",
    "        will be  {40:0, 50:0} or simply {}\n",
    "\n",
    "        Return a tuple of (d_l, d_s)\n",
    "        '''\n",
    "        pos_l = 0.\n",
    "        pos_s = 0.\n",
    "        d_l = {}\n",
    "        d_s = {}\n",
    "        for i in range(start, end):\n",
    "            oi_change = self.composite['oi change'][i]\n",
    "            price_change = self.composite['price change'][i]\n",
    "            price = self.composite['price'][i]\n",
    "            \n",
    "            if oi_change > 0:\n",
    "                if price_change > 0: # +long\n",
    "                    pos_l += oi_change\n",
    "                    if price not in d_l:\n",
    "                        d_l[price] = oi_change\n",
    "                    else:\n",
    "                        d_l[price] += oi_change\n",
    "                else: # +short\n",
    "                    pos_s += oi_change\n",
    "                    if price not in d_s:\n",
    "                        d_s[price] = oi_change\n",
    "                    else:\n",
    "                        d_s[price] += oi_change\n",
    "            else:\n",
    "                if price_change > 0: # -short\n",
    "                    if pos_s == 0 or abs(oi_change) > pos_s:\n",
    "                        d_s = {}\n",
    "                        pos_s = 0\n",
    "                    else:\n",
    "                        for key in d_s:\n",
    "                            d_s[key] = (1-abs(oi_change)/pos_s)*d_s[key]\n",
    "                        pos_s += oi_change\n",
    "                else: # -long\n",
    "                    if pos_l == 0 or abs(oi_change) > pos_l:\n",
    "                        d_l = {}\n",
    "                        pos_l = 0\n",
    "                    else:\n",
    "                        for key in d_l:\n",
    "                            d_l[key] = (1-abs(oi_change)/pos_l)*d_l[key]\n",
    "                        pos_l += oi_change\n",
    "        return d_l, d_s\n",
    "\n",
    "    def offside_pnl(self, start, end, last_close=None):\n",
    "        '''(int of index, int of index, double of last close price) -> double of pnl\n",
    "        All PnL's are positive numbers in this function, but it represents offside \n",
    "        loss.\n",
    "        If long PnL > short PnL, price will decrease by longs taken off\n",
    "        if long PnL < short PnL, price will increase by covering shorts\n",
    "        Return ( pnl_l - pnl_s )\n",
    "        '''\n",
    "        d_l, d_s = self.oi_change_at_prices(start, end)\n",
    "        if last_close is None:\n",
    "            last_close = self.composite['price'][end-1]\n",
    "        \n",
    "        pnl_l = sum([d_l[key]*key for key in d_l if key > last_close])\n",
    "        pnl_s = sum([d_s[key]*key for key in d_s if key < last_close])\n",
    "        \n",
    "        return pnl_l - pnl_s\n",
    "\n",
    "    def caught_offside(self, start, end):\n",
    "        ''' (int of index, int of index) -> double of pnl caught offside\n",
    "        New difference of long vs short PnL (pnl_l - pnl_s) minus the old difference\n",
    "        will give us the new PnL difference caught offside.\n",
    "        Similar to offside_pnl, positive means price will decrease, negative means\n",
    "        price will increase\n",
    "        '''\n",
    "        sig = self.return_std(end-252, end)\n",
    "        last_close = self.composite['price'][end-1]\n",
    "        d_l, d_s = self.oi_change_at_prices(start, end)\n",
    "        # current\n",
    "        cur_l = sum([d_l[key]*key for key in d_l if key > last_close])\n",
    "        cur_s = sum([d_s[key]*key for key in d_s if key < last_close])\n",
    "        \n",
    "        # exposed longside PnL if price down 2*sig\n",
    "        move_l = sum([d_l[key]*key for key in d_l if key > last_close*(1-2*sig)])\n",
    "        move_s = sum([d_s[key]*key for key in d_s if key < last_close*(1+2*sig)])\n",
    "        \n",
    "        return (move_l-cur_l) - (move_s-cur_s)\n",
    "\n",
    "    def get_signal_list(self, factor_func):\n",
    "        ''' (function of a factor) -> list of z-score signals\n",
    "        '''\n",
    "        std_, queue, s1, s2 = self.factor_std(factor_func, 0, self.std_look_back)\n",
    "        res = [queue[-1]/std_]\n",
    "        m = float(self.std_look_back)\n",
    "        n = float(self.std_look_back + 1 - self.signal_look_back)\n",
    "        for i in range(self.std_look_back+1, self.length+1):\n",
    "            factor1 = queue.popleft()\n",
    "            factor = factor_func(i-self.signal_look_back, i)\n",
    "            s1 = s1-factor1+factor\n",
    "            s2 = s2-factor1*factor1+factor*factor\n",
    "            std_ = sqrt(s2/n - s1*s1/n/n)\n",
    "            queue.append(factor)\n",
    "            res.append(factor/std_)\n",
    "        return res\n",
    "\n",
    "    def factor_std(self, factor_func, start, end):\n",
    "        ''' (function, int, int) -> double of std, deque, double, double\n",
    "        Calculate the std of a factor, also returns a queue of factors used to \n",
    "        calculate std, s1 and s2 are sums of these factors and square factors, \n",
    "        to improve get_signal_list speed.\n",
    "        '''\n",
    "        s2 = 0\n",
    "        s1 = 0\n",
    "        factor1 = deque([])\n",
    "        n = float(end+1 - start - self.signal_look_back)\n",
    "        for i in range(start+self.signal_look_back, end+1): # i is the first outside\n",
    "            factor = factor_func(i-self.signal_look_back, i)\n",
    "            s2 += factor*factor\n",
    "            s1 += factor\n",
    "            factor1.append(factor)\n",
    "        return sqrt(s2/n-s1*s1/n/n), factor1, s1, s2\n",
    "\n",
    "    def long_short(self, field_name, threshold):\n",
    "        ''' (DataFrame, string, double of threshold to trade) -> double\n",
    "        Return percentage of pnl in decimal number of signal input from field_name.\n",
    "        This strategy place 100% long/short position in short/long signal extremes if \n",
    "        no current position if the signal moves beyond the threshold. It flatten its \n",
    "        position at first reverse signal and do nothing if already has a position and \n",
    "        encounter the same type of signal. Note this treats the end of data as the \n",
    "        terminal period and clear all existing position.\n",
    "        '''\n",
    "        pnl = 0\n",
    "        pos = [0,0]\n",
    "        score = self.processed[field_name] # z-score\n",
    "        price = self.processed['price']\n",
    "        for i in range(len(score)):\n",
    "            if score[i] > threshold:\n",
    "                # do nothing if pos < 0 as its short position already\n",
    "                if pos[0] == 0:\n",
    "                    pos[0], pos[1] = -1/price[i], price[i] # take on short position\n",
    "                elif pos[0] > 0: # we have long position, time to sell\n",
    "                    pnl += pos[0]*(price[i] - pos[1])\n",
    "                    pos = [0,0]\n",
    "            elif -score[i] > threshold:\n",
    "                if pos[0] == 0:\n",
    "                    pos[0], pos[1] = 1/price[i], price[i] # take on long position\n",
    "                elif pos[0] < 0: # we have short position, time to cover\n",
    "                    pnl += pos[0]*(price[i] - pos[1])\n",
    "                    pos = [0,0]\n",
    "        if pos != [0,0]: # if still have position, clear\n",
    "            pnl += pos[0]*(price[-1]-pos[1])\n",
    "        return pnl\n",
    "    \n",
    "    def long_only(self, field_name, threshold):\n",
    "        '''(DataFrame, string of signal name, double of threshold to trade) -> double\n",
    "        A long only strategy, which buy at short extremes and sell at long extremes.\n",
    "        '''\n",
    "        pnl = 0\n",
    "        pos = [0, 0]\n",
    "        score = self.processed[field_name] # z-score\n",
    "        price = self.processed['price']\n",
    "        for i in range(len(score)):\n",
    "            if score[i] > threshold and pos[0] > 0: # have long position, time to sell\n",
    "                pnl += pos[0]*(price[i] - pos[1])\n",
    "                pos = [0,0]\n",
    "            elif -score[i] > threshold and pos[0] == 0:\n",
    "                pos[0], pos[1] = 1/price[i], price[i] # take on long position\n",
    "        if pos != [0,0]: # if still have position, clear\n",
    "            pnl += pos[0]*(price[-1]-pos[1])\n",
    "        return pnl\n",
    "    \n",
    "    def short_only(self, field_name, threshold):\n",
    "        ''' (DataFrame, string of signal name, double of threshold to trade) -> double\n",
    "        A short only strategy, which sell at long extremes and buy at long extremes.\n",
    "        '''\n",
    "        pnl = 0\n",
    "        pos = [0,0]\n",
    "        score = self.processed[field_name] # z-score\n",
    "        price = self.processed['price']\n",
    "        for i in range(len(score)):\n",
    "            if score[i] > threshold and pos[0] == 0:\n",
    "                    pos[0], pos[1] = -1/price[i], price[i] # take on short position\n",
    "            elif -score[i] > threshold and pos[0] < 0: # have short pos, time to cover\n",
    "                    pnl += pos[0]*(price[i] - pos[1])\n",
    "                    pos = [0,0]\n",
    "        if pos != [0,0]: # if still have position, clear\n",
    "            pnl += pos[0]*(price[-1]-pos[1])\n",
    "        return pnl\n",
    "\n",
    "    def return_std(self, start, end):\n",
    "        ''' (int of index, int of index) -> double of daily log return volatility\n",
    "        '''\n",
    "        ret = log(self.composite['price'][start:end])\n",
    "        ret = ret.diff(1)\n",
    "        return std(ret)\n",
    "\n",
    "    def get_sharpe_ratio(self, ret):\n",
    "        ''' (double of annualized log return) -> double of Sharpe ratio\n",
    "        Given annualized log return, compute Sharpe ratio over the whole data period\n",
    "        '''\n",
    "        return ret / (self.return_std(0,self.length)*sqrt(252))\n",
    "    \n",
    "    def process(self):\n",
    "        '''\n",
    "        Compute all three signals and produce and store a DataFrame with fields 'price',\n",
    "        'oi', 'oi change', 'ls', 'offside', 'caught_offside' in self.processed attribute\n",
    "        '''\n",
    "        signal_1 = pd.DataFrame(self.get_signal_list(self.new_ls),\n",
    "                               columns = ['ls'],\n",
    "                               index = self.composite.index[self.std_look_back-1:])\n",
    "        signal_2 = pd.DataFrame(self.get_signal_list(self.offside_pnl),\n",
    "                               columns = ['offside'],\n",
    "                               index = self.composite.index[self.std_look_back-1:])\n",
    "        signal_3 = pd.DataFrame(self.get_signal_list(self.caught_offside),\n",
    "                               columns = ['caught_offside'],\n",
    "                               index = self.composite.index[self.std_look_back-1:])\n",
    "        self.processed = pd.concat([self.composite, signal_1, signal_2, signal_3], \n",
    "                                  join='inner', axis=1)"
   ]
  },
  {
   "cell_type": "markdown",
   "metadata": {},
   "source": [
    "## Some Demos"
   ]
  },
  {
   "cell_type": "code",
   "execution_count": 4,
   "metadata": {
    "scrolled": true
   },
   "outputs": [],
   "source": [
    "# This block will take about 1min to run\n",
    "# process() computes all three signals and compile them along with the original data\n",
    "cl = PainTradeMonitor(price['CL'], oi['CL'])\n",
    "gc = PainTradeMonitor(price['GC'], oi['GC'])\n",
    "es = PainTradeMonitor(price['ES'], oi['ES'])\n",
    "ty = PainTradeMonitor(price['TY'], oi['TY'])\n",
    "cl.process()\n",
    "gc.process()\n",
    "es.process()\n",
    "ty.process()"
   ]
  },
  {
   "cell_type": "code",
   "execution_count": 5,
   "metadata": {},
   "outputs": [
    {
     "data": {
      "image/png": "[encoded data removed]",
      "text/plain": [
       "<matplotlib.figure.Figure at 0x10a5cdfd0>"
      ]
     },
     "metadata": {},
     "output_type": "display_data"
    }
   ],
   "source": [
    "# some sample plots of signals\n",
    "# plot bar chart needs more time (about 30s) than plot line, uncomment to plot line\n",
    "fig, ax = subplots(ncols=3, nrows=1, figsize=[14,3])\n",
    "ax[0].bar(arange(len(cl.processed['ls'])), cl.processed['ls']);\n",
    "ax[1].bar(arange(len(gc.processed['offside'])), gc.processed['offside']);\n",
    "ax[2].bar(arange(len(es.processed['caught_offside'])), es.processed['caught_offside']);\n",
    "# fig, ax = subplots(ncols=3, nrows=1, figsize=[14,3])\n",
    "# ax[0].plot(cl.processed['ls']);\n",
    "# ax[1].plot(gc.processed['offside']);\n",
    "# ax[2].plot(es.processed['caught_offside']);"
   ]
  },
  {
   "cell_type": "code",
   "execution_count": 6,
   "metadata": {
    "scrolled": false
   },
   "outputs": [
    {
     "name": "stdout",
     "output_type": "stream",
     "text": [
      "--------------------Passive Sharpe Ratio -0.14 --------------------\n",
      "Strategy ls: Long Short at Threshold 2:  -0.02\n",
      "Strategy ls: Long Only at Threshold 2:  0.0\n",
      "Strategy ls: Short Only at Threshold 2:  -0.06\n",
      "Strategy offside: Long Short at Threshold 2:  -0.21\n",
      "Strategy offside: Long Only at Threshold 2:  0.01\n",
      "Strategy offside: Short Only at Threshold 2:  -0.13\n",
      "Strategy caught_offside: Long Short at Threshold 2:  0.11\n",
      "Strategy caught_offside: Long Only at Threshold 2:  0.06\n",
      "Strategy caught_offside: Short Only at Threshold 2:  -0.05\n",
      "-------------------------------------------------------------------\n",
      "\n",
      "--------------------Passive Sharpe Ratio 0.21 --------------------\n",
      "Strategy ls: Long Short at Threshold 2:  -0.17\n",
      "Strategy ls: Long Only at Threshold 2:  0.03\n",
      "Strategy ls: Short Only at Threshold 2:  -0.22\n",
      "Strategy offside: Long Short at Threshold 2:  -0.07\n",
      "Strategy offside: Long Only at Threshold 2:  0.16\n",
      "Strategy offside: Short Only at Threshold 2:  -0.19\n",
      "Strategy caught_offside: Long Short at Threshold 2:  -0.47\n",
      "Strategy caught_offside: Long Only at Threshold 2:  -0.07\n",
      "Strategy caught_offside: Short Only at Threshold 2:  -0.4\n",
      "-------------------------------------------------------------------\n",
      "\n",
      "--------------------Passive Sharpe Ratio 0.78 --------------------\n",
      "Strategy ls: Long Short at Threshold 2:  -0.25\n",
      "Strategy ls: Long Only at Threshold 2:  0.0\n",
      "Strategy ls: Short Only at Threshold 2:  -0.25\n",
      "Strategy offside: Long Short at Threshold 2:  0.21\n",
      "Strategy offside: Long Only at Threshold 2:  0.23\n",
      "Strategy offside: Short Only at Threshold 2:  -0.02\n",
      "Strategy caught_offside: Long Short at Threshold 2:  0.32\n",
      "Strategy caught_offside: Long Only at Threshold 2:  0.29\n",
      "Strategy caught_offside: Short Only at Threshold 2:  0.03\n",
      "-------------------------------------------------------------------\n",
      "\n",
      "--------------------Passive Sharpe Ratio 0.14 --------------------\n",
      "Strategy ls: Long Short at Threshold 2:  -0.2\n",
      "Strategy ls: Long Only at Threshold 2:  -0.13\n",
      "Strategy ls: Short Only at Threshold 2:  -0.15\n",
      "Strategy offside: Long Short at Threshold 2:  -0.31\n",
      "Strategy offside: Long Only at Threshold 2:  -0.13\n",
      "Strategy offside: Short Only at Threshold 2:  -0.15\n",
      "Strategy caught_offside: Long Short at Threshold 2:  -0.15\n",
      "Strategy caught_offside: Long Only at Threshold 2:  -0.04\n",
      "Strategy caught_offside: Short Only at Threshold 2:  -0.07\n",
      "-------------------------------------------------------------------\n",
      "\n"
     ]
    }
   ],
   "source": [
    "assets = [cl, gc, es, ty]\n",
    "signal_names = ['ls', 'offside', 'caught_offside']\n",
    "for asset in assets:\n",
    "    print '--------------------Passive Sharpe Ratio', \\\n",
    "    round(asset.get_sharpe_ratio(log(1+asset.buy_hold_pnl)*252/float(asset.length)), 2), \\\n",
    "    '--------------------'\n",
    "    for signal in signal_names:\n",
    "        print 'Strategy', signal+':', 'Long Short at Threshold 2: ', \\\n",
    "        round(asset.get_sharpe_ratio(asset.long_short(signal, 2)*252/float(asset.length)), 2)\n",
    "        print 'Strategy', signal+':', 'Long Only at Threshold 2: ', \\\n",
    "        round(asset.get_sharpe_ratio(asset.long_only(signal, 2)*252/float(asset.length)), 2)\n",
    "        print 'Strategy', signal+':', 'Short Only at Threshold 2: ', \\\n",
    "        round(asset.get_sharpe_ratio(asset.short_only(signal, 2)*252/float(asset.length)), 2)\n",
    "    print '-------------------------------------------------------------------\\n'"
   ]
  },
  {
   "cell_type": "markdown",
   "metadata": {},
   "source": [
    "### Asset CL\n",
    "| Passive Sharpe Ratio |\n",
    "|------------|\n",
    "| -0.14         |  \n",
    "\n",
    "\n",
    "\n",
    "|  | long short | long |   short    | \n",
    "|------------|-------|-------|-------| \n",
    "| ls         | -0.02 | 0  | -0.06  | \n",
    "| offside    | -0.21 | -0.01 | -0.13  | \n",
    "| caught     | 0.11 | 0.06 | -0.05 | \n",
    "\n",
    "&nbsp;\n",
    "&nbsp;\n"
   ]
  },
  {
   "cell_type": "markdown",
   "metadata": {},
   "source": [
    "\n",
    "### Asset GC\n",
    "| Passive Sharpe Ratio |\n",
    "|------------|\n",
    "| 0.21         | \n",
    "\n",
    "|  | long short | long |   short    | \n",
    "|------------|------|-------|-------| \n",
    "| ls         | -0.17 | 0.03  | -0.22  | \n",
    "| offside    | -0.07 | 0.16  | -0.19 | \n",
    "| caught     | -0.47    | -0.07  | -0.4 | \n",
    "\n",
    "&nbsp;\n",
    "&nbsp;\n"
   ]
  },
  {
   "cell_type": "markdown",
   "metadata": {},
   "source": [
    "\n",
    "### Asset ES\n",
    "| Passive Sharpe Ratio |\n",
    "|------------|\n",
    "| 0.78 | \n",
    "\n",
    "|  | long short | long |   short    | \n",
    "|------------|------|-------|-------| \n",
    "| ls         | -0.25  | 0  | -0.25  | \n",
    "| offside    | 0.21 | 0.23  | -0.02 | \n",
    "| caught     | 0.32  | 0.29  | 0.03 | \n",
    "&nbsp;\n",
    "&nbsp;\n",
    "\n",
    "\n"
   ]
  },
  {
   "cell_type": "markdown",
   "metadata": {},
   "source": [
    "\n",
    "### Asset TY\n",
    "| Passive Sharpe Ratio |\n",
    "|------------|\n",
    "| 0.14 | \n",
    "\n",
    "|  | long short | long |   short    | \n",
    "|------------|-------|-------|-------| \n",
    "| ls         | -0.2 | -0.13 | -0.15 | \n",
    "| offside    | -0.31  | -0.13  | -0.15  | \n",
    "| caught     | -0.15 | -0.04 | -0.07 | \n",
    "\n",
    "&nbsp;\n",
    "&nbsp;\n",
    "\n",
    "\n",
    "\n",
    "\n"
   ]
  },
  {
   "cell_type": "code",
   "execution_count": 7,
   "metadata": {},
   "outputs": [
    {
     "data": {
      "text/plain": [
       "0.1423507671184763"
      ]
     },
     "execution_count": 7,
     "metadata": {},
     "output_type": "execute_result"
    }
   ],
   "source": [
    "# can directly get new_ls, oi_change_at_prices, offside_pnl, and caught_offside stats\n",
    "# between interested period\n",
    "\n",
    "# new short/long positions as percentage to current oi\n",
    "cl.new_ls(cl.length-252, cl.length)  "
   ]
  },
  {
   "cell_type": "code",
   "execution_count": 8,
   "metadata": {},
   "outputs": [
    {
     "data": {
      "text/plain": [
       "({52.469999999999999: 3054.3033278274797,\n",
       "  52.640000000000001: 7754.2423973102377,\n",
       "  53.899999999999999: 17650.100396589169,\n",
       "  54.149999999999999: 12024.332254521369,\n",
       "  54.380000000000003: 7180.2622854603542,\n",
       "  54.539999999999999: 27.130522273554295,\n",
       "  55.640000000000001: 10384.207400202908,\n",
       "  57.170000000000002: 25561.191125793386,\n",
       "  57.350000000000001: 17482.230290021551},\n",
       " {52.18: 14744.033398283933,\n",
       "  54.299999999999997: 4808.5915632584683,\n",
       "  56.090000000000003: 66.0,\n",
       "  56.740000000000002: 10574.664000273475,\n",
       "  56.810000000000002: 2386.9403138139674,\n",
       "  57.200000000000003: 7046.7707243701498})"
      ]
     },
     "execution_count": 8,
     "metadata": {},
     "output_type": "execute_result"
    }
   ],
   "source": [
    "# open interest at price levels (long, short)\n",
    "cl.oi_change_at_prices(cl.length-30, cl.length)"
   ]
  },
  {
   "cell_type": "code",
   "execution_count": 9,
   "metadata": {},
   "outputs": [
    {
     "data": {
      "text/plain": [
       "1433489.0191869535"
      ]
     },
     "execution_count": 9,
     "metadata": {},
     "output_type": "execute_result"
    }
   ],
   "source": [
    "# the offside pnl compared to last close\n",
    "cl.offside_pnl(cl.length-30, cl.length)"
   ]
  },
  {
   "cell_type": "code",
   "execution_count": 10,
   "metadata": {},
   "outputs": [
    {
     "data": {
      "text/plain": [
       "-172666.07852183748"
      ]
     },
     "execution_count": 10,
     "metadata": {},
     "output_type": "execute_result"
    }
   ],
   "source": [
    "# the pnl caught offside if last close moves 2 std\n",
    "cl.caught_offside(cl.length-30, cl.length)"
   ]
  },
  {
   "cell_type": "code",
   "execution_count": 11,
   "metadata": {},
   "outputs": [
    {
     "data": {
      "text/html": [
       "<div>\n",
       "<table border=\"1\" class=\"dataframe\">\n",
       "  <thead>\n",
       "    <tr style=\"text-align: right;\">\n",
       "      <th></th>\n",
       "      <th>price</th>\n",
       "      <th>oi</th>\n",
       "      <th>price change</th>\n",
       "      <th>oi change</th>\n",
       "    </tr>\n",
       "  </thead>\n",
       "  <tbody>\n",
       "    <tr>\n",
       "      <th>2008-01-03</th>\n",
       "      <td>99.18</td>\n",
       "      <td>1413302.0</td>\n",
       "      <td>-0.44</td>\n",
       "      <td>31102.0</td>\n",
       "    </tr>\n",
       "    <tr>\n",
       "      <th>2008-01-04</th>\n",
       "      <td>97.91</td>\n",
       "      <td>1418444.0</td>\n",
       "      <td>-1.27</td>\n",
       "      <td>5142.0</td>\n",
       "    </tr>\n",
       "    <tr>\n",
       "      <th>2008-01-07</th>\n",
       "      <td>95.09</td>\n",
       "      <td>1405234.0</td>\n",
       "      <td>-2.82</td>\n",
       "      <td>-13210.0</td>\n",
       "    </tr>\n",
       "    <tr>\n",
       "      <th>2008-01-08</th>\n",
       "      <td>96.33</td>\n",
       "      <td>1413956.0</td>\n",
       "      <td>1.24</td>\n",
       "      <td>8722.0</td>\n",
       "    </tr>\n",
       "    <tr>\n",
       "      <th>2008-01-09</th>\n",
       "      <td>95.67</td>\n",
       "      <td>1423139.0</td>\n",
       "      <td>-0.66</td>\n",
       "      <td>9183.0</td>\n",
       "    </tr>\n",
       "  </tbody>\n",
       "</table>\n",
       "</div>"
      ],
      "text/plain": [
       "            price         oi  price change  oi change\n",
       "2008-01-03  99.18  1413302.0         -0.44    31102.0\n",
       "2008-01-04  97.91  1418444.0         -1.27     5142.0\n",
       "2008-01-07  95.09  1405234.0         -2.82   -13210.0\n",
       "2008-01-08  96.33  1413956.0          1.24     8722.0\n",
       "2008-01-09  95.67  1423139.0         -0.66     9183.0"
      ]
     },
     "execution_count": 11,
     "metadata": {},
     "output_type": "execute_result"
    }
   ],
   "source": [
    "# check original data\n",
    "cl.composite.head(5)"
   ]
  },
  {
   "cell_type": "code",
   "execution_count": 12,
   "metadata": {},
   "outputs": [
    {
     "data": {
      "text/plain": [
       "-0.43184099578397916"
      ]
     },
     "execution_count": 12,
     "metadata": {},
     "output_type": "execute_result"
    }
   ],
   "source": [
    "# passive pnl\n",
    "cl.buy_hold_pnl"
   ]
  },
  {
   "cell_type": "code",
   "execution_count": 13,
   "metadata": {},
   "outputs": [
    {
     "data": {
      "text/html": [
       "<div>\n",
       "<table border=\"1\" class=\"dataframe\">\n",
       "  <thead>\n",
       "    <tr style=\"text-align: right;\">\n",
       "      <th></th>\n",
       "      <th>price</th>\n",
       "      <th>oi</th>\n",
       "      <th>price change</th>\n",
       "      <th>oi change</th>\n",
       "      <th>ls</th>\n",
       "      <th>offside</th>\n",
       "      <th>caught_offside</th>\n",
       "    </tr>\n",
       "  </thead>\n",
       "  <tbody>\n",
       "    <tr>\n",
       "      <th>2008-12-22</th>\n",
       "      <td>39.91</td>\n",
       "      <td>1135539.0</td>\n",
       "      <td>6.04</td>\n",
       "      <td>3128.0</td>\n",
       "      <td>-1.576129</td>\n",
       "      <td>0.000000</td>\n",
       "      <td>-0.166149</td>\n",
       "    </tr>\n",
       "    <tr>\n",
       "      <th>2008-12-23</th>\n",
       "      <td>38.98</td>\n",
       "      <td>1133973.0</td>\n",
       "      <td>-0.93</td>\n",
       "      <td>-1566.0</td>\n",
       "      <td>-1.445355</td>\n",
       "      <td>0.038676</td>\n",
       "      <td>-0.242374</td>\n",
       "    </tr>\n",
       "    <tr>\n",
       "      <th>2008-12-24</th>\n",
       "      <td>35.35</td>\n",
       "      <td>1142552.0</td>\n",
       "      <td>-3.63</td>\n",
       "      <td>8579.0</td>\n",
       "      <td>-1.361243</td>\n",
       "      <td>0.038676</td>\n",
       "      <td>-0.188122</td>\n",
       "    </tr>\n",
       "    <tr>\n",
       "      <th>2008-12-26</th>\n",
       "      <td>37.71</td>\n",
       "      <td>1146031.0</td>\n",
       "      <td>2.36</td>\n",
       "      <td>3479.0</td>\n",
       "      <td>-1.291056</td>\n",
       "      <td>-0.149462</td>\n",
       "      <td>-0.087474</td>\n",
       "    </tr>\n",
       "    <tr>\n",
       "      <th>2008-12-29</th>\n",
       "      <td>40.02</td>\n",
       "      <td>1164760.0</td>\n",
       "      <td>2.31</td>\n",
       "      <td>18729.0</td>\n",
       "      <td>-0.911351</td>\n",
       "      <td>-0.188112</td>\n",
       "      <td>0.346217</td>\n",
       "    </tr>\n",
       "  </tbody>\n",
       "</table>\n",
       "</div>"
      ],
      "text/plain": [
       "            price         oi  price change  oi change        ls   offside  \\\n",
       "2008-12-22  39.91  1135539.0          6.04     3128.0 -1.576129  0.000000   \n",
       "2008-12-23  38.98  1133973.0         -0.93    -1566.0 -1.445355  0.038676   \n",
       "2008-12-24  35.35  1142552.0         -3.63     8579.0 -1.361243  0.038676   \n",
       "2008-12-26  37.71  1146031.0          2.36     3479.0 -1.291056 -0.149462   \n",
       "2008-12-29  40.02  1164760.0          2.31    18729.0 -0.911351 -0.188112   \n",
       "\n",
       "            caught_offside  \n",
       "2008-12-22       -0.166149  \n",
       "2008-12-23       -0.242374  \n",
       "2008-12-24       -0.188122  \n",
       "2008-12-26       -0.087474  \n",
       "2008-12-29        0.346217  "
      ]
     },
     "execution_count": 13,
     "metadata": {},
     "output_type": "execute_result"
    }
   ],
   "source": [
    "# processed DataFrame is directly accessible\n",
    "cl.processed.head(5)"
   ]
  },
  {
   "cell_type": "code",
   "execution_count": 14,
   "metadata": {},
   "outputs": [
    {
     "data": {
      "text/plain": [
       "0.12834273084196093"
      ]
     },
     "execution_count": 14,
     "metadata": {},
     "output_type": "execute_result"
    }
   ],
   "source": [
    "# given annual log return, get sharpe ratio\n",
    "cl.get_sharpe_ratio(.05)"
   ]
  },
  {
   "cell_type": "code",
   "execution_count": 15,
   "metadata": {},
   "outputs": [
    {
     "name": "stdout",
     "output_type": "stream",
     "text": [
      "ls std within last 252 days is 0.0345379524344\n",
      "offside_pnl std within last 252 days is 2646747.58933\n",
      "caught_offside std within last 252 days is 1989590.17949\n"
     ]
    }
   ],
   "source": [
    "# get factor std\n",
    "print 'ls std within last 252 days is', cl.factor_std(cl.new_ls, cl.length-252, cl.length)[0]\n",
    "\n",
    "print 'offside_pnl std within last 252 days is', \\\n",
    "cl.factor_std(cl.offside_pnl, cl.length-252, cl.length)[0]\n",
    "\n",
    "print 'caught_offside std within last 252 days is', \\\n",
    "cl.factor_std(cl.caught_offside, cl.length-252, cl.length)[0]"
   ]
  },
  {
   "cell_type": "code",
   "execution_count": 16,
   "metadata": {},
   "outputs": [
    {
     "name": "stdout",
     "output_type": "stream",
     "text": [
      "ls std within last 252 days, after monitor window changed to 10 days 0.0197496280745\n"
     ]
    }
   ],
   "source": [
    "# can modify the signal_look_back to change monitor window\n",
    "cl.signal_look_back = 10\n",
    "print 'ls std within last 252 days, after monitor window changed to 10 days', \\\n",
    "cl.factor_std(cl.new_ls, cl.length-252, cl.length)[0]"
   ]
  },
  {
   "cell_type": "code",
   "execution_count": 17,
   "metadata": {},
   "outputs": [],
   "source": [
    "cl.signal_look_back = 30 # change back"
   ]
  },
  {
   "cell_type": "code",
   "execution_count": 18,
   "metadata": {},
   "outputs": [],
   "source": [
    "# similarly can modify std_look_back adjust z-score denominator std period, \n",
    "# such as quarterly\n",
    "\n",
    "# cl.std_look_back = 252/4"
   ]
  }
 ],
 "metadata": {
  "kernelspec": {
   "display_name": "Python 2",
   "language": "python",
   "name": "python2"
  },
  "language_info": {
   "codemirror_mode": {
    "name": "ipython",
    "version": 2
   },
   "file_extension": ".py",
   "mimetype": "text/x-python",
   "name": "python",
   "nbconvert_exporter": "python",
   "pygments_lexer": "ipython2",
   "version": "2.7.13"
  }
 },
 "nbformat": 4,
 "nbformat_minor": 2
}
