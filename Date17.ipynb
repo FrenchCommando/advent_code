{
 "cells": [
  {
   "cell_type": "code",
   "execution_count": 35,
   "metadata": {
    "collapsed": true
   },
   "outputs": [],
   "source": [
    "import aocd"
   ]
  },
  {
   "cell_type": "code",
   "execution_count": 36,
   "metadata": {
    "collapsed": false
   },
   "outputs": [
    {
     "data": {
      "text/plain": [
       "u'303'"
      ]
     },
     "execution_count": 36,
     "metadata": {},
     "output_type": "execute_result"
    }
   ],
   "source": [
    "day17 = aocd.get_data(day=17)\n",
    "day17"
   ]
  },
  {
   "cell_type": "code",
   "execution_count": 37,
   "metadata": {
    "collapsed": true
   },
   "outputs": [],
   "source": [
    "def day_seventeen(u):\n",
    "    uu = int(u)\n",
    "#     uu = 3\n",
    "    n = 2017\n",
    "#     n = 6\n",
    "    l = [0]\n",
    "    position = 0\n",
    "    for i in range(1,n+1):\n",
    "        position = (position + uu)%(len(l)) + 1\n",
    "        l.insert(position,i)\n",
    "#         print l\n",
    "#         print position\n",
    "#         position = i\n",
    "#         print position\n",
    "    ind = l.index(n)\n",
    "#     print l\n",
    "    print ind\n",
    "    return l[(ind + 1) % (len(l))]"
   ]
  },
  {
   "cell_type": "code",
   "execution_count": 38,
   "metadata": {
    "collapsed": false,
    "scrolled": false
   },
   "outputs": [
    {
     "name": "stdout",
     "output_type": "stream",
     "text": [
      "65\n"
     ]
    },
    {
     "data": {
      "text/plain": [
       "1971"
      ]
     },
     "execution_count": 38,
     "metadata": {},
     "output_type": "execute_result"
    }
   ],
   "source": [
    "day_seventeen(day17)"
   ]
  },
  {
   "cell_type": "code",
   "execution_count": 39,
   "metadata": {
    "collapsed": true
   },
   "outputs": [],
   "source": [
    "def day_seventeen_bis(u):\n",
    "    uu = int(u)\n",
    "    n = 50000000\n",
    "    position = 0\n",
    "    for i in range(1,n+1):\n",
    "        position = (position + uu)%(i) + 1\n",
    "        if position == 1:\n",
    "            print i"
   ]
  },
  {
   "cell_type": "code",
   "execution_count": 32,
   "metadata": {
    "collapsed": false
   },
   "outputs": [
    {
     "name": "stdout",
     "output_type": "stream",
     "text": [
      "1\n",
      "2\n",
      "5\n",
      "7\n",
      "8\n",
      "12\n",
      "94\n",
      "1214\n",
      "1327\n",
      "2119\n",
      "2190\n",
      "16026\n",
      "29677\n",
      "46455\n",
      "460237\n",
      "570156\n",
      "1615012\n",
      "4103327\n",
      "5611473\n",
      "10221408\n",
      "17202899\n"
     ]
    }
   ],
   "source": [
    "day_seventeen_bis(day17)"
   ]
  },
  {
   "cell_type": "code",
   "execution_count": null,
   "metadata": {
    "collapsed": true
   },
   "outputs": [],
   "source": []
  }
 ],
 "metadata": {
  "kernelspec": {
   "display_name": "Python 2",
   "language": "python",
   "name": "python2"
  },
  "language_info": {
   "codemirror_mode": {
    "name": "ipython",
    "version": 2
   },
   "file_extension": ".py",
   "mimetype": "text/x-python",
   "name": "python",
   "nbconvert_exporter": "python",
   "pygments_lexer": "ipython2",
   "version": "2.7.10"
  }
 },
 "nbformat": 4,
 "nbformat_minor": 0
}
