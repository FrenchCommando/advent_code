{
 "cells": [
  {
   "cell_type": "code",
   "execution_count": 1,
   "metadata": {
    "collapsed": true
   },
   "outputs": [],
   "source": [
    "import aocd"
   ]
  },
  {
   "cell_type": "code",
   "execution_count": 2,
   "metadata": {
    "collapsed": false
   },
   "outputs": [
    {
     "name": "stdout",
     "output_type": "stream",
     "text": [
      "\u001b[31mYou are being rate-limited.\u001b[0m\n",
      "Sleeping 1.309 seconds...\u001b[0m\n",
      "Done.\u001b[0m\n"
     ]
    },
    {
     "data": {
      "text/plain": [
       "u'a dec -511 if x >= -4\\npq inc -45 if cfa == 7\\nvby dec 69 if tl < 1\\nyg dec 844 if v > -6\\ntl inc -756 if u != 9\\nl inc -267 if f == 0\\nhnd dec 74 if qcg < 9\\npq inc 4 if f >= 0\\npq dec -168 if u < 2\\nvby inc -778 if jus == 0\\nyg inc 676 if pq < 179\\nf dec 12 if u == 0\\nzo dec 347 if e == 0\\nq inc -934 if u >= -5\\njus dec 40 if ewg > -2\\nf inc 8 if t != -7\\nu inc 610 if pq > 170\\npq dec 565 if pq >= 176\\nss dec 948 if x != -6\\na dec 387 if ewg == 0\\nqcg inc -513 if v < 7\\nf dec -289 if uwm != -7\\newg dec 269 if u == 610\\nt dec 614 if ewg <= -263\\nf dec 411 if cfa <= 9\\nyg inc -62 if l != -271\\nx dec 210 if ss == -948\\ne dec 376 if l >= -259\\njus dec 709 if v < 9\\newg inc -787 if l <= -266\\ntl inc -643 if vby == -847\\nzo inc 201 if e == 0\\nf dec -379 if t == -614\\njus inc -963 if zo <= -147\\nv inc 653 if tl == -1399\\nss dec 238 if v > 652\\njus inc 551 if u <= 614\\nqcg inc 731 if ss > -1190\\na inc 503 if x < -200\\nvby inc 209 if x != -204\\nf dec 434 if f > 260\\nt dec -364 if uwm > -6\\nvpd dec 616 if vpd < 8\\nv inc 100 if ss <= -1182\\nf dec -825 if a != 623\\nvby dec -51 if vpd > -620\\nv dec 861 if ss < -1184\\nhnd inc 270 if u >= 607\\nvpd dec -111 if a >= 637\\na dec -720 if vpd < -615\\nl dec 882 if qcg < 215\\nzo inc -720 if ewg != -1062\\nq inc 109 if yg <= -229\\na dec -599 if vby <= -586\\nvpd inc -111 if q != -827\\ncfa dec -775 if pq == 172\\nhnd dec -402 if txc == 0\\nt dec -886 if txc > -9\\nt dec -805 if ewg >= -1057\\ne dec -483 if yg < -224\\npq dec 400 if pq == 172\\nt dec 125 if vby < -583\\nqos dec 318 if q <= -821\\nq dec 882 if qos <= -313\\npq inc 333 if pq >= -232\\nv dec -378 if u <= 611\\ntxc dec 863 if l != -260\\nvby dec 60 if x <= -218\\nu dec 386 if u != 610\\nq dec 876 if l == -267\\nl dec -884 if e == 483\\nu dec -445 if qos != -318\\ncfa dec -412 if v > 260\\nhnd dec -376 if q == -2580\\nyg dec -458 if a >= 1942\\ntl dec 783 if l <= 614\\nqos inc -864 if f <= 1081\\nuwm dec 872 if x > -211\\nt dec 988 if qos < -1187\\njus dec -489 if x >= -212\\newg inc 410 if cfa < 1181\\nx inc 694 if vby == -587\\nq dec -185 if f <= 1084\\ntxc dec -801 if v >= 263\\nuwm inc -52 if ewg > -1065\\ntl dec 535 if u <= 607\\nv dec 252 if yg == 228\\njus dec 671 if t == 1319\\nyg inc 386 if l != 609\\nf dec 914 if cfa > 1185\\nyg inc -365 if zo > -870\\newg dec -439 if tl > -1393\\nqcg dec -325 if pq < 110\\npq inc 303 if v >= 18\\nu inc -85 if vpd != -727\\npq inc 41 if qos >= -1182\\nuwm inc -824 if cfa < 1178\\ntxc inc 85 if hnd >= 591\\nhnd inc -107 if vpd == -727\\nx inc -73 if uwm < -917\\ne inc -257 if pq <= 458\\nv dec 122 if jus == 291\\nv inc 886 if qcg > 538\\nhnd inc -348 if cfa == 1187\\nyg dec 350 if u == 610\\na dec 516 if ewg != -1051\\nqos dec 68 if f > 158\\nt dec 277 if qcg != 538\\ntxc inc 594 if f == 164\\newg dec 873 if uwm == -932\\nyg dec 152 if l < 621\\newg inc 930 if v > 774\\nss dec -229 if zo != -858\\ne inc 275 if ss >= -963\\ne inc -649 if tl != -1409\\nzo inc 976 if uwm >= -928\\nv dec -812 if e == -150\\nhnd inc -207 if v > 789\\npq inc -614 if uwm >= -927\\nss dec 16 if txc > 608\\nqos dec 312 if ss == -973\\nyg inc 615 if u <= 619\\ne inc -842 if ewg < -125\\ntxc inc 109 if f <= 171\\nf dec 179 if t > 1045\\npq dec 806 if ss <= -969\\na inc -665 if hnd == 143\\nqos dec 31 if yg > 361\\nq dec -924 if uwm == -924\\na dec 590 if pq > -975\\ncfa inc -56 if qos > -1597\\nvpd inc 318 if qcg != 548\\ncfa dec 755 if t > 1030\\nu inc -853 if vpd >= -414\\nuwm dec 247 if v != 789\\nqcg inc -746 if v < 784\\nvby dec -290 if u >= -247\\nv inc 474 if t != 1049\\nu dec -681 if q < -1464\\nuwm inc 290 if e < -983\\nf dec 220 if tl > -1393\\nss inc 241 if l >= 615\\newg inc -502 if tl <= -1390\\nvby inc -960 if zo <= 113\\na dec -112 if tl <= -1397\\nqos dec 787 if q <= -1470\\nx dec 836 if ewg > -631\\newg inc -665 if f <= 166\\nqcg inc 56 if pq >= -978\\nqcg dec -441 if vby >= -1257\\nl inc 176 if l != 615\\njus dec -403 if cfa > 383\\nvpd dec 428 if qos <= -2371\\nu dec 232 if t < 1048\\nv dec 254 if f >= 158\\ntxc inc 590 if vpd != -829\\na dec -882 if txc > 1314\\nv inc -610 if v < 1007\\ne inc -388 if yg >= 357\\nqcg inc 229 if x != -419\\nhnd dec 873 if cfa <= 377\\nf dec -699 if vby > -1265\\ntxc inc 38 if yg != 360\\nv dec -794 if jus == 291\\ntxc inc -382 if jus <= 294\\nf inc 4 if uwm == -881\\nvpd inc -853 if hnd == -730\\na inc 872 if cfa < 383\\nss inc -131 if f > 858\\njus dec -389 if txc > 978\\nvpd inc -61 if hnd >= -735\\nuwm dec -961 if cfa <= 384\\nf dec -264 if q <= -1481\\nf dec 946 if cfa >= 371\\nuwm dec 376 if pq > -978\\nqcg dec 652 if x == -425\\nvpd dec 285 if qcg <= -128\\nt dec -750 if l <= 799\\ncfa inc 638 if yg < 367\\ne inc -139 if hnd != -738\\nf inc 510 if qcg <= -128\\nv dec 114 if zo >= 107\\nzo inc -783 if uwm != -302\\npq dec 116 if tl < -1397\\ntl inc 83 if uwm > -297\\nl inc 400 if qos >= -2383\\nl dec 0 if ss != -872\\nqcg inc -62 if tl != -1312\\nvby dec -417 if uwm == -303\\newg inc 356 if uwm == -296\\nzo dec 138 if hnd == -730\\nqcg inc 58 if cfa <= 1014\\ntxc inc 283 if qos < -2379\\nqcg dec 572 if cfa <= 1017\\nx dec 213 if qos <= -2374\\nzo dec -884 if yg > 367\\nuwm dec 868 if q != -1483\\nzo dec -983 if ss == -863\\nss inc -635 if tl == -1316\\nzo dec 383 if ewg == -931\\nss inc -911 if q != -1469\\ntxc inc -569 if v < 1079\\nv inc 372 if ewg > -947\\nv dec 936 if yg != 353\\nx dec -972 if a == 2041\\nyg dec 756 if q != -1467\\nvpd dec -696 if vpd >= -2034\\ntxc dec -822 if cfa != 1021\\nl inc -211 if pq >= -1088\\nqcg dec -770 if e > -1520\\nqcg inc -787 if hnd != -725\\nvpd dec -689 if uwm <= -1161\\nl dec -219 if vpd >= -1347\\nl dec -344 if uwm <= -1163\\nf inc -545 if e > -1526\\nhnd dec 856 if e > -1518\\ncfa dec 993 if jus == 291\\ne dec -559 if txc > 1505\\ne inc -179 if txc < 1510\\nyg inc -230 if tl <= -1324\\nss inc 117 if vby == -1257\\nf inc -398 if a >= 2035\\nx inc 302 if zo == 181\\nvpd dec 739 if vpd != -1355\\nt inc -165 if hnd <= -1585\\npq inc 948 if ewg <= -930\\nss dec -489 if cfa >= 15\\newg dec -937 if qos < -2377\\nq dec 209 if pq == -139\\nf dec -911 if v <= 515\\nzo dec -437 if x > 336\\nvpd inc 907 if jus < 300\\ne dec 957 if q == -1683\\njus inc 153 if tl <= -1320\\nv inc 752 if qcg <= -717\\ntl inc -884 if q != -1688\\na inc 363 if txc >= 1502\\nqos inc 469 if vpd > -1183\\ntl inc -524 if l > 1540\\ncfa dec -632 if e > -2102\\nf dec -31 if e < -2091\\nhnd inc 602 if hnd > -1594\\ne dec -373 if v == 1260\\nqcg dec 61 if t <= 1630\\nv inc -982 if vpd == -1183\\nuwm dec -308 if a != 2408\\nl dec 996 if qos > -1912\\nyg dec 977 if qcg != -775\\ntl inc 56 if t == 1624\\npq dec -106 if l != 554\\nhnd dec 770 if ewg == 0\\nqos inc 553 if zo <= 180\\nf inc -879 if hnd < -1749\\ne dec -556 if f > -450\\nzo inc 564 if e >= -1166\\nqcg dec 937 if f <= -449\\nv inc -552 if q > -1693\\na dec 450 if uwm != -854\\na inc 18 if e <= -1162\\newg dec 754 if v <= 698\\newg dec -47 if uwm != -847\\ncfa inc 374 if vby < -1251\\ne dec 369 if e > -1162\\nhnd dec -203 if yg != -1371\\nss dec -919 if q < -1677\\ntxc dec 937 if qcg >= -1729\\nvby inc -105 if a >= 1972\\nss inc -204 if txc <= 573\\njus inc 626 if a >= 1968\\nss dec 783 if v != 708\\nt inc -734 if cfa >= 1021\\nvby inc 899 if qcg == -1720\\njus inc -5 if pq > -32\\nuwm dec -717 if zo <= 733\\nhnd inc -613 if x > 332\\nl inc -854 if pq <= -28\\ne inc 615 if u != 206\\nss dec 944 if uwm > -862\\na inc -491 if f > -451\\nyg inc 595 if txc < 580\\ncfa dec -628 if uwm < -849\\nuwm dec 171 if uwm <= -848\\ne dec 397 if vpd != -1171\\ntl dec -491 if l != -297\\nt dec 610 if q >= -1692\\nv inc 634 if vby < -456\\njus dec 401 if vby != -471\\nss inc 576 if a != 1481\\nf inc 885 if pq > -36\\nhnd dec 102 if x == 334\\nx dec -578 if e != -1567\\ntxc inc -122 if cfa != 1660\\ne inc -915 if txc <= 451\\nuwm dec 683 if v >= 1336\\na dec -523 if yg <= -771\\njus dec 72 if cfa != 1650\\nu dec 524 if vpd != -1171\\ne inc 786 if qcg <= -1711\\ne inc -254 if q <= -1687\\ntl dec 992 if ewg > 50\\nvby dec 157 if u != -309\\nx dec -774 if cfa == 1655\\nv inc 842 if vby <= -612\\nt inc 64 if uwm < -1703\\ne inc 928 if f < 440\\na dec -150 if hnd <= -2463\\nvpd inc -685 if yg == -776\\ntl inc -963 if a == 2154\\newg inc -804 if qos != -1363\\ntl dec -363 if ewg > -762\\ntl inc -769 if zo < 730\\nyg inc 635 if zo <= 732\\ntl inc -283 if jus < 447\\nuwm dec -918 if tl >= -3069\\nq dec -216 if jus != 452\\na dec 727 if e == -763\\nq dec 467 if hnd > -2470\\nqos dec -420 if u <= -316\\ncfa dec 686 if q < -1930\\ntl dec 953 if v > 2182\\nf dec 473 if a != 1427\\na inc 110 if uwm < -784\\nu inc -543 if qos == -938\\nx inc 591 if qcg != -1721\\nx dec 58 if f > 435\\na dec -670 if yg < -774\\npq inc -119 if hnd < -2468\\newg dec -254 if ss == -2031\\ncfa dec 279 if pq < -151\\npq inc 274 if uwm > -801\\ntl inc -361 if cfa != 697\\nss inc 797 if v > 2174\\nuwm inc -8 if x >= 2218\\nl dec -769 if u != -861\\newg inc -899 if vby >= -610\\nhnd inc -950 if qcg < -1712\\njus inc 905 if e != -757\\nv dec 825 if vby >= -610\\nuwm dec -905 if a <= 2214\\nvpd inc -154 if l <= -301\\nvpd dec -345 if pq == 122\\nyg inc 75 if ss >= -1240\\npq inc 208 if ewg <= -761\\nu dec -569 if qos >= -942\\nvby inc -840 if l >= -297\\nuwm inc 219 if u != -285\\ntl dec 956 if vby >= -625\\nzo inc -885 if vpd != -1673\\newg inc 536 if a < 2212\\nu inc -628 if ss > -1244\\nq inc 94 if ewg >= -216\\ncfa dec 212 if uwm >= 316\\npq inc 776 if q != -1943\\nx dec 244 if zo < 745\\nvby inc 267 if pq <= 899\\njus inc 512 if vby < -352\\nv inc 942 if jus < 1852\\nqos dec 364 if t > 341\\nqcg inc -695 if cfa <= 483\\nzo dec 221 if e < -758\\nu inc 218 if vby == -353\\ne inc -423 if hnd != -3419\\nf inc 631 if ss >= -1244\\nss inc -487 if t < 352\\ntxc dec 351 if l == -308\\npq inc 581 if qos > -1305\\nq inc -740 if uwm != 324\\nv dec -929 if x <= 1981\\njus dec -782 if u == -702\\nyg inc 197 if vpd < -1663\\newg inc 604 if ss != -1721\\ntl dec -426 if qos == -1308\\nzo inc 627 if q < -1941\\nf inc 815 if ewg == 383\\nf dec -567 if x != 1981\\nu inc 836 if tl > -5332\\newg inc -787 if ss >= -1715\\nuwm dec -513 if qcg <= -2423\\nl dec 396 if zo != 511\\nf dec 928 if u <= 139\\ntxc inc -2 if cfa == 478\\nvpd dec -936 if t != 352\\nzo inc -269 if q <= -1931\\nzo inc -600 if zo != 246\\nf dec 723 if hnd > -3416\\nv inc -707 if vby < -348\\na dec -205 if l <= -710\\nqos dec -396 if jus < 2651\\ncfa dec 107 if qos > -913\\na inc 861 if txc >= 456\\nuwm inc -700 if hnd == -3420\\nx dec -347 if uwm >= 331\\nt dec -857 if qcg < -2408\\na dec -876 if a >= 2204\\nqos inc 563 if pq < 1487\\nx dec -11 if cfa >= 363\\nyg inc -114 if e <= -759\\nvby inc 439 if pq < 1485\\na inc 394 if x < 1989\\nzo inc -996 if zo <= 246\\njus dec -685 if hnd != -3426\\nt dec 465 if q != -1929\\ntxc inc 728 if vpd >= -742\\nvby dec -134 if hnd < -3412\\njus inc -485 if e >= -765\\nv inc 220 if l == -697\\nf inc 470 if txc <= 1175\\ne dec 783 if uwm == 324\\njus dec -697 if cfa >= 369\\nqos dec 790 if vpd >= -737\\njus inc 654 if l < -693\\ntl dec -803 if a >= 3470\\ntxc dec -738 if vpd <= -745\\nuwm inc 67 if cfa != 371\\nf dec -702 if l < -692\\nx dec -280 if qos == -1133\\njus inc 917 if ewg == 383\\ne inc -198 if yg <= -610\\nv dec -387 if hnd <= -3415\\nu inc 751 if uwm >= 318\\na dec -432 if pq >= 1485\\nt inc -946 if vby >= 218\\npq dec -76 if f >= 2690\\ntxc dec 16 if qcg >= -2415\\nt dec 302 if txc != 1158\\npq dec -818 if uwm <= 316\\nq dec -404 if zo < -748\\nf inc -563 if yg != -625\\nx inc -686 if e != -1750\\ntxc dec -413 if vby >= 214\\nuwm dec 968 if vpd != -730\\ne dec 908 if txc <= 1575\\ncfa dec -787 if a >= 3470\\nyg inc -393 if qcg >= -2417\\ncfa inc -874 if uwm == -644\\nss inc 466 if ewg < 387\\nzo dec -858 if vpd < -731\\nss dec 566 if txc <= 1562\\nvpd dec -237 if tl != -4529\\nyg inc -486 if vpd < -494\\ncfa dec 635 if qos >= -1131\\njus dec -62 if x > 1572\\ncfa dec 76 if e >= -2643\\na inc -207 if ewg == 383\\npq inc -674 if yg < -1497\\nzo inc -952 if jus != 5182\\ntl inc -258 if yg <= -1488\\ncfa dec -818 if txc <= 1580\\ntl inc 695 if pq >= 1548\\ne inc 919 if q == -1530\\nt inc -340 if u >= 881\\ne dec -449 if vby >= 218\\newg dec -468 if cfa == 1102\\nyg inc 617 if pq != 1548\\nzo dec 809 if pq <= 1563\\nvby dec -685 if uwm == -644\\ncfa inc -157 if e < -1283\\nzo inc 65 if uwm <= -640\\nf dec 729 if e != -1278\\nl inc -313 if hnd > -3423\\njus dec 180 if x >= 1574\\njus inc -520 if ss < -1255\\nhnd dec -493 if f >= 1403\\njus inc -783 if qos < -1136\\ne dec -486 if t <= -848\\nu dec 248 if q >= -1530\\nu inc -379 if vby != 901\\npq inc 590 if qcg > -2408\\nl inc 757 if uwm <= -644\\nq dec 283 if uwm >= -644\\nt inc 681 if tl > -4097\\nuwm inc 359 if ss < -1248\\nv dec -725 if ss > -1260\\nx dec 584 if txc != 1573\\nss dec 938 if x < 1002\\ncfa dec -19 if ewg <= 851\\nf dec 909 if u == 258\\nv dec -295 if f < 498\\nl inc -132 if uwm >= -291\\nu inc 921 if l >= -390\\npq inc -253 if u == 1189\\nl inc -431 if jus != 4473\\nqos dec -855 if qos <= -1132\\nqos dec 691 if yg >= -882\\njus inc 117 if cfa >= 955\\nqcg dec 438 if yg < -875\\ntl dec -922 if tl <= -4088\\newg dec -424 if qcg == -2862\\nl dec 249 if x < 1004\\ntl inc 388 if e >= -800\\nss inc -962 if q > -1820\\nzo inc -141 if ss <= -3147\\npq inc -508 if vby < 908\\nt inc -64 if l == -638\\ncfa dec 534 if qos <= -968\\nv inc 906 if tl == -2780\\nhnd inc -830 if f != 497\\nqcg dec -186 if vby >= 907\\nuwm dec -155 if t < -242\\nss dec -312 if hnd <= -4251\\ntl inc -619 if x == 996\\ntxc inc -620 if e == -798\\nuwm dec 861 if l == -638\\nt inc 715 if t > -233\\ncfa dec 603 if zo > -1726\\ncfa inc -523 if pq > 1042\\na dec 547 if uwm == -1151\\nl dec -8 if jus < 4593\\ne inc -601 if t <= -230\\nqcg dec -637 if yg >= -879\\nl dec 814 if qos != -969\\njus inc 204 if tl < -3399\\nyg dec 111 if pq > 1050\\nqcg inc -188 if qos >= -971\\na dec 760 if vpd > -504\\njus dec -523 if hnd != -4247\\nq dec 664 if e <= -1398\\ntxc inc -8 if q >= -2477\\ne inc -333 if yg >= -888\\ntxc inc -222 if u >= 1173\\njus dec 304 if x < 987\\na inc -766 if vby < 912\\nqos inc 464 if pq > 1037\\ncfa inc 500 if q >= -2479\\njus dec 49 if u < 1187\\nhnd inc -440 if cfa >= 403\\ntxc inc -741 if yg <= -873\\newg inc 836 if hnd > -4696\\nv dec -890 if vpd != -500\\nq dec 954 if vpd != -509\\nt inc 846 if e > -1739\\newg dec -458 if vpd == -500\\nt inc -995 if e <= -1732\\nu dec -987 if q < -3427\\nl dec -303 if pq < 1054\\nt dec 527 if qos <= -498\\newg inc 607 if hnd >= -4689\\nl dec 203 if e >= -1733\\nzo dec -961 if qcg != -3032\\nt dec 880 if a >= 1741\\nx dec -447 if t != -1787\\npq inc 735 if pq > 1043\\nf inc 386 if u > 2167\\nt dec 886 if hnd != -4689\\ne inc 395 if yg < -889\\na dec -361 if txc != -24\\nq inc 837 if e >= -1732\\nuwm inc 779 if qcg >= -3050\\newg dec -506 if ewg <= 2761\\ne inc 367 if v >= 4717\\njus dec 710 if vby <= 908\\nv inc 956 if l != -531\\ne inc -724 if cfa != 417\\na dec -54 if v < 5685\\nqos inc -463 if tl >= -3405\\na inc 634 if hnd < -4695\\ntxc dec -613 if x <= 1450\\nt inc -595 if txc > 602\\nzo inc 807 if yg < -870\\nuwm dec -253 if x != 1444\\nv dec 249 if u != 2173\\ncfa dec 286 if pq != 1791\\njus dec 340 if ewg < 3261\\ne inc 391 if yg <= -879\\nv inc -554 if qos >= -961\\nu inc 118 if a < 2168\\nss dec -898 if txc == 590\\newg inc 757 if l > -525\\ntl dec -250 if u != 2284\\nf inc -51 if l > -525\\nf inc 574 if x >= 1437\\ne inc -55 if yg >= -881\\nyg dec -832 if tl == -3391\\nyg dec 176 if vby <= 899\\nu dec 215 if a <= 2155\\nx inc -411 if ewg <= 3264\\nu inc -76 if vby <= 912\\nq dec -479 if ss > -3163\\nqos dec -136 if tl < -3398\\nss inc -631 if qos <= -839\\ncfa dec 561 if pq < 1786\\nss inc -817 if uwm > -119\\nqos dec -544 if l >= -522\\nqos dec -82 if u != 2205\\nvpd dec 427 if qcg >= -3049\\nu dec 296 if uwm > -115\\nx inc -533 if tl >= -3405\\nss inc -529 if q > -2125\\ne inc 745 if uwm < -109\\ncfa inc -488 if l == -530\\nvpd inc 778 if txc > 593\\njus dec -399 if l < -526\\nu inc 144 if x < 500\\nt dec -554 if u < 2066\\ntxc inc -200 if u > 2055\\nzo inc 382 if qos != -750\\npq inc -191 if jus != 4409\\nvby dec 602 if a >= 2150\\nqcg dec -517 if tl < -3397\\njus dec -416 if jus == 4413\\nuwm inc 157 if f != 1066\\nvpd dec -888 if yg == -880\\ntl dec 79 if qcg > -2533\\npq dec 604 if e < -1006\\nhnd dec -901 if l != -522\\nqcg dec 328 if qos != -744\\nyg inc -412 if cfa != -938\\newg dec -571 if vpd < 744\\ncfa inc -925 if qos == -750\\nqcg dec -605 if yg < -1284\\nx inc 470 if pq >= 987\\nhnd dec 82 if yg < -1286\\nqcg dec -874 if pq != 987\\nx dec 457 if hnd <= -3862\\newg dec -591 if qos > -752\\nss dec -820 if zo >= 39\\nv inc -967 if tl != -3482\\nv inc 742 if jus > 4825\\nf dec -381 if cfa != -1862\\nqcg inc -868 if cfa <= -1850\\nqcg dec -358 if x < 518\\ntxc inc -23 if x != 503\\nl dec -239 if jus <= 4830\\nqcg inc -771 if pq == 996\\nhnd dec -724 if vby <= 310\\ncfa inc -823 if hnd > -3140\\nv dec -558 if x > 504\\nt inc -89 if uwm > -118\\njus inc 432 if ss <= -3678\\njus inc -343 if zo >= 31\\nyg dec 474 if ewg == 4420\\nq dec 330 if jus >= 4915\\nqos dec 805 if zo == 46\\nqcg inc 670 if t >= -1326\\nf dec 945 if vby > 310\\njus inc -68 if q <= -2440\\ntl dec -424 if a == 2159\\ntl inc 460 if u <= 2063\\nf dec -759 if uwm != -120\\nv inc 507 if qcg == -2078\\nzo inc 881 if pq <= 990\\nqcg inc -792 if yg <= -1769\\nqos dec -730 if ewg <= 4420\\nf inc 968 if pq <= 989\\ntl dec -539 if txc < 376\\nvpd dec 823 if ewg >= 4429\\nqos dec -476 if ss <= -3692\\nqos dec 609 if vby > 303\\nu inc -266 if x == 506\\nv inc -99 if pq < 990\\nq dec -627 if ss <= -3680\\nqos dec 372 if t >= -1334\\ncfa inc 959 if qcg >= -2086\\nx dec -893 if hnd > -3156\\nx inc 69 if vby > 300\\nqcg inc 333 if ss <= -3673\\ne dec 525 if u < 2064\\nyg inc 402 if tl == -2055\\newg dec 938 if u > 2050\\ntl dec 989 if e != -1526\\nf inc 894 if cfa != -1854\\nt inc -834 if txc >= 370\\nyg dec 197 if ss != -3682\\nf inc -741 if zo >= 926\\nl dec -257 if v != 5659\\na dec -713 if a > 2158\\njus inc -279 if ewg <= 3487\\nv dec -910 if ss < -3673\\ne dec -601 if cfa >= -1854\\ntl dec -106 if ewg > 3477\\nx inc -144 if yg < -1361\\nzo dec -454 if ss != -3678\\na inc -887 if l > -43\\nss inc 184 if ewg >= 3490\\njus dec 865 if txc == 371\\nq dec 156 if cfa == -1853\\nss inc 435 if a != 1989\\nl inc -121 if a < 1995\\nqos dec 846 if f < 4076\\njus inc -580 if q == -1974\\nvby inc 11 if e != -938\\nq dec -355 if hnd >= -3146\\nvpd dec -49 if jus <= 3132\\ncfa inc -311 if uwm != -123\\nvby inc -541 if a >= 1990\\nf dec -11 if ss < -3238\\ne inc 964 if zo == 1374\\npq inc -380 if yg > -1369\\nq dec -140 if x > 1320\\njus inc -605 if yg < -1362\\nss inc -520 if pq > 616\\nuwm inc -686 if jus != 2528\\njus inc 523 if e <= 32\\npq inc 658 if x >= 1329\\npq inc -513 if vby >= 320\\nq dec 161 if x != 1330\\nu dec 943 if a == 1985\\nyg inc 785 if cfa < -2156\\nhnd dec -969 if txc > 362\\nss inc 74 if l < -146\\nss dec 63 if cfa >= -2171\\ntxc inc 331 if ss > -3246\\nqcg dec 229 if uwm <= -792\\nu inc -497 if v == 6570\\nuwm dec -725 if cfa >= -2163\\nf dec -439 if u != 616\\na dec 11 if v >= 6563\\ne dec 176 if u != 618\\nv inc 921 if e < -138\\ne dec 656 if a == 1974\\nhnd dec 64 if qcg == -1983\\nhnd inc 779 if v > 7481\\ntl inc 421 if cfa == -2157\\newg dec -732 if uwm == -800\\nx dec 223 if q <= -1473\\nzo inc 74 if ss == -3242\\nss dec -594 if uwm <= -793\\nx inc -507 if ss < -2639\\nf dec -68 if e == -800\\ncfa dec -763 if jus == 3044\\nt inc 931 if a <= 1978\\npq inc -602 if ewg <= 4217\\nss dec 512 if l <= -154\\nt dec 145 if qcg > -1989\\ncfa inc -621 if f == 4147\\ne inc 430 if f > 4145\\nf dec -800 if ss > -3157\\na dec 496 if v > 7482\\nqcg dec 289 if t <= -1369\\nyg inc -634 if vpd >= 783\\ne dec 722 if ewg <= 4214\\newg dec 506 if qcg != -2272\\nq dec 911 if f == 4947\\nf inc -515 if tl < -2932\\nx dec 788 if qcg >= -2280\\na dec -542 if yg != -1218\\nyg inc -124 if ss != -3155\\nv dec 510 if vpd != 795\\nl inc 920 if vpd == 783\\nu dec 314 if tl != -2940\\ntl dec 375 if pq == 663\\ntl inc 358 if jus != 3049\\nx dec 41 if uwm <= -805\\nzo inc 844 if yg != -1343\\nv inc -463 if ss <= -3148\\nhnd dec 99 if hnd >= -1462\\nv dec 357 if pq > 670\\nv dec 974 if u < 294\\ne inc -375 if e < -1090\\nu inc -501 if yg <= -1336\\nzo inc -563 if a <= 2018\\nt inc -602 if v == 6518\\nqos inc 366 if vby >= 316\\njus inc -366 if t >= -1985\\nf inc -218 if u > -202\\nzo inc 932 if jus >= 2676\\nl inc -50 if qcg > -2268\\newg inc 170 if pq == 670\\nhnd dec 605 if f < 4221\\npq inc 746 if u <= -205\\nf inc 582 if uwm == -800\\nx dec -43 if tl != -2955\\nss dec -420 if q >= -2395\\njus dec -493 if ss > -2736\\nx dec 977 if ss >= -2736\\nuwm inc 956 if e < -1461\\nl dec -397 if vpd <= 791\\nvpd inc 548 if pq > 655\\nvby dec -958 if t != -1976\\npq dec -565 if jus >= 3163\\nq dec -667 if yg >= -1345\\ncfa dec -6 if jus < 3179\\ne inc 842 if tl <= -2953\\nq inc 680 if jus > 3166\\ntxc dec -618 if l > 238\\ncfa dec -494 if l >= 242\\nt dec -969 if uwm <= 163\\nss dec 421 if ss != -2734\\nt inc -548 if tl <= -2949\\nuwm dec -835 if t >= -1546\\ntl inc -393 if f == 4796\\nvpd dec 643 if cfa == -1530\\nx inc 768 if vby == 314\\na inc -252 if jus == 3171\\nf inc 177 if f >= 4797\\nv dec -352 if e >= -615\\nyg inc -913 if jus < 3181\\nqos dec -893 if l == 242\\na inc -627 if vby <= 321\\ntxc dec -351 if tl != -3343\\ncfa dec -913 if zo < 3150\\ntxc dec -750 if txc < 1672\\na inc 803 if hnd == -2176\\njus dec 188 if jus < 3178\\nzo dec -350 if ewg > 4206\\nf dec -941 if ewg >= 4206\\npq inc -603 if hnd > -2175\\nq inc 360 if t <= -1547\\npq dec 475 if pq >= 630\\nyg inc 931 if l >= 235\\nt dec 361 if x > -399\\na dec -383 if yg <= -1313\\nf dec -777 if t != -1914\\nyg inc 169 if uwm > 149\\nqos inc 239 if t >= -1920\\nvby dec -903 if txc < 2424\\njus dec 889 if jus >= 2983\\nv inc -172 if cfa <= -1514\\nv inc -278 if e >= -633\\nt dec -929 if hnd != -2164\\na inc 918 if t >= -996\\nx inc -690 if vby == 1217\\nzo dec 268 if txc >= 2420\\nv dec -591 if t >= -989\\nx inc -620 if vpd != 1332\\nl inc 51 if ewg < 4220\\nf inc -518 if qcg != -2267\\nvby dec 898 if uwm == 156\\njus dec -53 if l == 293\\nhnd dec -127 if qos == -105\\nuwm dec -99 if q >= -692\\nq inc 340 if hnd >= -2175\\nvpd dec 740 if vby <= 321\\na inc -931 if qos > -105\\nhnd inc -25 if qos < -100\\npq dec 366 if tl >= -3353\\nf dec -126 if a <= 2449\\nyg dec 642 if ss >= -2739\\nss inc 735 if jus > 2156\\nt dec -329 if qos <= -104\\nq inc -292 if x > -1714\\nvpd inc -406 if hnd != -2183\\ne dec -367 if tl != -3343\\nyg inc 891 if x == -1707\\nuwm dec -520 if vpd >= 184\\nyg inc -180 if jus == 2147\\nuwm inc -767 if l >= 300\\ntxc inc -728 if jus == 2147\\nq dec -876 if zo == 3232\\nss dec -255 if vpd > 187\\nqcg inc -360 if t > -667\\njus dec 357 if v != 6658\\nss dec 239 if t > -652\\ncfa inc 349 if txc < 1701\\ncfa inc 185 if hnd <= -2188\\nq dec 858 if vby <= 323\\nss dec 290 if yg == -1081\\ncfa dec -473 if yg > -1073\\nqcg inc -333 if ss < -2766\\nl dec 539 if hnd > -2200\\nv inc -210 if hnd <= -2190\\ne inc 531 if a < 2447\\nyg dec -156 if e != 265\\nt dec -188 if q < -610\\nvpd inc 757 if qos == -106\\nzo dec 801 if x > -1713\\nu dec -49 if a < 2445\\nqos inc -451 if tl >= -3352\\nq dec -531 if x >= -1712\\na inc 32 if jus > 1784\\nss inc -258 if pq != 261\\ncfa dec 445 if l >= -251\\nt inc 897 if l <= -256\\ne dec -199 if hnd < -2182\\nvby inc 309 if v == 6449\\newg dec 839 if qos == -565\\nhnd inc 961 if hnd >= -2199\\ncfa inc -780 if qcg == -2974\\newg dec 443 if qcg == -2965\\nhnd inc -901 if uwm < 780\\nss inc 597 if vpd == 947\\ntxc inc 453 if yg > -930\\nu dec -871 if a < 2468\\nx dec -789 if u > -160\\njus dec 702 if f >= 6127\\nv inc -298 if u < -141\\nuwm dec 424 if uwm == 775\\ncfa dec -497 if pq == 259\\newg dec 984 if t == -470\\nvpd dec -287 if t > -478\\nq dec -288 if zo == 2431\\na dec -402 if l < -240\\ncfa dec 560 if cfa == -926\\nu inc -127 if jus == 1790\\nyg dec -832 if yg > -930\\nuwm inc 366 if hnd < -2128\\ntl dec 18 if l > -252\\nvby dec -423 if vpd < 1239\\nu dec -879 if ewg == 2780\\nuwm inc 204 if uwm >= 711\\nl inc 545 if ewg > 2794\\nt dec 383 if uwm == 921\\nt inc 464 if vby != 1054\\njus inc -997 if vby < 1060\\nu inc 347 if uwm <= 926\\nv inc 468 if tl >= -3372\\nv dec 797 if v <= 6626\\nu inc 971 if l >= -252\\newg dec -319 if vpd < 1239\\nhnd dec 893 if x < -913\\ntl inc -593 if txc <= 2148\\nqcg inc 382 if q >= 193\\npq dec -987 if tl >= -3951\\nyg inc -111 if jus == 793\\ntl dec -780 if uwm != 919\\npq inc -914 if tl < -3176\\nt dec 677 if jus >= 789\\newg dec -842 if cfa <= -944\\nuwm inc 736 if pq >= -648\\newg inc 106 if jus > 784\\nf dec -472 if jus != 785\\ne inc 382 if qos != -549\\nvpd inc 955 if yg < -197\\ntxc dec -976 if pq == -660\\na inc 453 if x != -908\\nq inc 287 if t >= -1072\\nuwm inc 422 if l > -255\\nhnd dec -230 if qcg <= -2580\\nv dec 868 if ewg == 3212\\nx dec -567 if l < -238\\ntl dec 595 if jus != 788\\nu dec -860 if pq != -662\\ne inc -541 if cfa >= -940\\nf dec 330 if vby < 1059\\ntl dec -41 if qcg == -2583\\nf inc -394 if u != 1899\\na dec -962 if x < -353\\na dec 303 if vpd != 2189\\nu inc -371 if q < 493\\nyg inc 0 if tl < -3734\\nhnd dec -273 if e >= 311\\nt dec -138 if qcg > -2588\\ne dec 644 if f == 5877\\nqcg dec 968 if yg < -202\\nx dec 208 if tl <= -3730\\nu dec -776 if txc < 2153\\nq inc -432 if vpd == 2189\\ncfa dec -325 if uwm != 1344\\ne dec -384 if zo >= 2429\\nss dec -879 if a < 3332\\nu inc -571 if t != -925\\nt dec 970 if l >= -244\\newg dec 713 if uwm > 1333\\na dec 527 if uwm < 1348\\nf inc -962 if u == 1737\\ncfa dec -790 if e < 704\\ncfa inc 516 if yg > -210\\nuwm dec 654 if zo == 2428\\nqcg inc -176 if ewg != 2507\\nu inc -92 if e >= 696\\na inc -14 if yg == -204\\nvby inc -72 if v < 4956\\na dec -983 if q <= 62\\nyg inc 422 if cfa > 696\\njus inc 685 if t > -938\\ne inc 449 if jus < 1483\\nv dec 593 if t >= -932\\nv dec 595 if q >= 55\\ne inc 332 if e <= 1154\\ntl dec -34 if ewg == 2499\\newg inc 24 if f < 5872\\newg dec -129 if txc == 2146\\npq dec 815 if hnd != -2531\\ntl inc 456 if a == 3764\\ntl dec 942 if a <= 3773\\nx inc 610 if x >= -558\\nu inc -68 if txc < 2150\\newg dec -897 if jus == 1474\\nvpd inc -158 if jus != 1475\\ne inc 852 if v != 3775\\npq inc 169 if zo >= 2427\\nzo dec -82 if v >= 3765\\nqcg inc 221 if u < 1584\\nss dec 958 if tl > -4640\\na inc -545 if f >= 5868\\nss dec -864 if qcg != -3515\\nt inc 980 if cfa < 698\\nzo dec 58 if f > 5867\\nq dec 43 if u == 1575\\nqos dec -992 if vpd == 2031\\nt dec -823 if x >= -564\\nx inc 647 if qos != 445\\nl inc 231 if l == -246\\newg inc -776 if zo < 2464\\nq dec 367 if q > 13\\njus dec 956 if v != 3770\\ntxc dec 952 if v != 3766\\nx inc 145 if qcg >= -3507\\ne dec 597 if x <= 236\\ncfa inc -860 if f <= 5878\\nf inc -649 if jus != 512\\ntl inc -885 if f != 5227\\nqcg inc -610 if q == -353\\newg dec 342 if txc <= 2137\\nhnd dec 495 if yg >= -207\\nvby dec -713 if q < -345\\newg dec 72 if cfa > -174\\njus inc 897 if zo == 2455\\nv dec -582 if zo > 2452\\nx dec 368 if f >= 5212'"
      ]
     },
     "execution_count": 2,
     "metadata": {},
     "output_type": "execute_result"
    }
   ],
   "source": [
    "day8 = aocd.get_data(day=8)\n",
    "day8"
   ]
  },
  {
   "cell_type": "code",
   "execution_count": 29,
   "metadata": {
    "collapsed": true
   },
   "outputs": [],
   "source": [
    "def day_eight(u):\n",
    "    toto = u.split(\"\\n\")\n",
    "    mapping = {}\n",
    "    \n",
    "    def parse_instr(u):\n",
    "        toto = u.split(\" \")\n",
    "        reg_condition = toto[4]\n",
    "        if reg_condition not in mapping:\n",
    "            mapping[reg_condition] = 0\n",
    "        sign_condition = toto[5]\n",
    "        value_condition = int(toto[6])\n",
    "        if parse_cond(mapping[reg_condition], sign_condition, value_condition):\n",
    "            reg_name = toto[0]\n",
    "            if reg_name not in mapping:\n",
    "                mapping[reg_name] = 0\n",
    "            reg_way = toto[1]\n",
    "            reg_val = int(toto[2])\n",
    "            if reg_way =='dec':\n",
    "                mapping[reg_name] -= reg_val\n",
    "                return\n",
    "            mapping[reg_name] += reg_val\n",
    "    def parse_cond(reg_condition, sign_condition, value_condition):\n",
    "        if sign_condition == \"==\":\n",
    "            return reg_condition == value_condition\n",
    "        if sign_condition == \">=\":\n",
    "            return reg_condition >= value_condition\n",
    "        if sign_condition == \"!=\":\n",
    "            return reg_condition != value_condition\n",
    "        if sign_condition == \"<=\":\n",
    "            return reg_condition <= value_condition\n",
    "        if sign_condition == \"<\":\n",
    "            return reg_condition < value_condition\n",
    "        if sign_condition == \">\":\n",
    "            return reg_condition > value_condition\n",
    "        else:\n",
    "            print sign_condition\n",
    "        \n",
    "    current = 0\n",
    "    for t in toto:\n",
    "        parse_instr(t)\n",
    "        ttt = max(mapping.values())\n",
    "        current = max(current, ttt)\n",
    "        \n",
    "#     print mapping\n",
    "#     return max(mapping.values())\n",
    "    return current\n",
    "    "
   ]
  },
  {
   "cell_type": "code",
   "execution_count": 30,
   "metadata": {
    "collapsed": false
   },
   "outputs": [
    {
     "data": {
      "text/plain": [
       "7491"
      ]
     },
     "execution_count": 30,
     "metadata": {},
     "output_type": "execute_result"
    }
   ],
   "source": [
    "day_eight(day8)"
   ]
  },
  {
   "cell_type": "code",
   "execution_count": null,
   "metadata": {
    "collapsed": true
   },
   "outputs": [],
   "source": []
  }
 ],
 "metadata": {
  "kernelspec": {
   "display_name": "Python 2",
   "language": "python",
   "name": "python2"
  },
  "language_info": {
   "codemirror_mode": {
    "name": "ipython",
    "version": 2
   },
   "file_extension": ".py",
   "mimetype": "text/x-python",
   "name": "python",
   "nbconvert_exporter": "python",
   "pygments_lexer": "ipython2",
   "version": "2.7.10"
  }
 },
 "nbformat": 4,
 "nbformat_minor": 0
}
