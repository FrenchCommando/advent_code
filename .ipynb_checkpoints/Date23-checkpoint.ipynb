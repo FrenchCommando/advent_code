{
 "cells": [
  {
   "cell_type": "code",
   "execution_count": 221,
   "metadata": {
    "collapsed": true
   },
   "outputs": [],
   "source": [
    "import aocd"
   ]
  },
  {
   "cell_type": "code",
   "execution_count": 222,
   "metadata": {
    "collapsed": false,
    "scrolled": true
   },
   "outputs": [
    {
     "data": {
      "text/plain": [
       "u'set b 67\\nset c b\\njnz a 2\\njnz 1 5\\nmul b 100\\nsub b -100000\\nset c b\\nsub c -17000\\nset f 1\\nset d 2\\nset e 2\\nset g d\\nmul g e\\nsub g b\\njnz g 2\\nset f 0\\nsub e -1\\nset g e\\nsub g b\\njnz g -8\\nsub d -1\\nset g d\\nsub g b\\njnz g -13\\njnz f 2\\nsub h -1\\nset g b\\nsub g c\\njnz g 2\\njnz 1 3\\nsub b -17\\njnz 1 -23'"
      ]
     },
     "execution_count": 222,
     "metadata": {},
     "output_type": "execute_result"
    }
   ],
   "source": [
    "day23 = aocd.get_data(day=23)\n",
    "day23"
   ]
  },
  {
   "cell_type": "code",
   "execution_count": 225,
   "metadata": {
    "collapsed": false
   },
   "outputs": [],
   "source": [
    "def c_set(a,v,tt, pos):\n",
    "    try:\n",
    "        tt[a] = int(v)\n",
    "    except:\n",
    "        tt[a] = tt[v]\n",
    "    pos[0] += 1\n",
    "def c_sub(a,v,tt, pos):\n",
    "    try:\n",
    "        tt[a] -= int(v)\n",
    "    except:\n",
    "        tt[a] -= tt[v]\n",
    "    pos[0] += 1\n",
    "def c_mul(a,v,tt, pos, count):\n",
    "    count[0] += 1\n",
    "    try:\n",
    "        tt[a] *= int(v)\n",
    "    except:\n",
    "        tt[a] *= tt[v]\n",
    "    pos[0] += 1\n",
    "def c_jnz(a,v,tt, pos):\n",
    "    val = 0\n",
    "    try:\n",
    "        val = int(v)\n",
    "    except:\n",
    "        val = tt[v]\n",
    "    vala = 0\n",
    "    try:\n",
    "        vala = int(a)\n",
    "    except:\n",
    "        vala = tt[a]\n",
    "    if vala != 0:\n",
    "        pos[0] += val\n",
    "    else:\n",
    "        pos[0] += 1\n",
    "#     print vala, val\n",
    "        \n",
    "def run(u, tt, pos, count):\n",
    "    t = u[pos[0]].split(\" \")\n",
    "    c = t[0]\n",
    "    a = t[1]\n",
    "    v = t[2]\n",
    "    if c == \"set\":\n",
    "        c_set(a,v,tt, pos)\n",
    "    if c == \"sub\":\n",
    "        c_sub(a,v,tt, pos)\n",
    "    if c == \"mul\":\n",
    "        c_mul(a,v,tt, pos, count)\n",
    "    if c == \"jnz\":\n",
    "        c_jnz(a,v,tt, pos)\n",
    "    return u\n",
    "    \n",
    "def move(u):\n",
    "    return u\n",
    "\n",
    "def day_twenty_three(u):\n",
    "    toto = u.split(\"\\n\")\n",
    "    for sss in range(len(toto)):\n",
    "#         pass\n",
    "        print sss, toto[sss]\n",
    "    tt = {}\n",
    "    for i in range(8):\n",
    "        tt[chr(ord('a') + i)] = 0\n",
    "    tt['a'] = 0\n",
    "    tt['b'] = 0\n",
    "    tt['c'] = 0\n",
    "    tt['d'] = 0\n",
    "    tt['e'] = 0\n",
    "    tt['f'] = 0\n",
    "    tt['g'] = 0\n",
    "    tt['h'] = 0\n",
    "#     print tt\n",
    "    pos = [0]\n",
    "    count = [0]\n",
    "#     for ttt in range(200):\n",
    "    while pos[0] < len(toto):\n",
    "        run(toto, tt, pos, count)\n",
    "#         print tt, pos, count\n",
    "#         print tt['h']\n",
    "#         print pos, tt\n",
    "#     return tt['h']\n",
    "    print count\n",
    "\n",
    "import sys\n",
    "for i in range(8):\n",
    "    exec((chr(ord('a') + i)) + \" = 0\")\n",
    "ccc=0\n",
    "toto = []\n",
    "\n",
    "# def call(u,i):\n",
    "#     print 'one call', i\n",
    "#     print ('\\n\\t'.join(u[i:]))\n",
    "#     exec('\\n'.join(u[i:]))\n",
    "\n",
    "def correct_indent(u):\n",
    "    r = []\n",
    "    for i in u:\n",
    "        for j in i.split(\"\\n\"):\n",
    "            r.append(j)\n",
    "    return r\n",
    "def convert(u):\n",
    "    totoo = u.split(\" \")\n",
    "    if totoo[0] == \"set\":\n",
    "        return totoo[1] + \" = \" + totoo[2]\n",
    "    if totoo[0] == \"sub\":\n",
    "        return totoo[1] + \" -= \" + totoo[2]\n",
    "    if totoo[0] == \"mul\":\n",
    "        return \"ccc += 1;\" + totoo[1] + \" *= \" + totoo[2]\n",
    "    return u\n",
    "\n",
    "def convert_j_if(u,t,i):\n",
    "    if not u.startswith(\"jnz\"):\n",
    "        return u\n",
    "    toto = u.split(\" \")\n",
    "    z = toto[1] # don't cast it , it's gonna remain strings\n",
    "    v = int(toto[2])\n",
    "    # build if's from bottom to top,\n",
    "    if v > 0:\n",
    "        ttt = t[i+1:i+v]\n",
    "#         ttt = t[i+v:]\n",
    "        if z != '1':\n",
    "            ttt.insert(0, \"if {} == 0:\".format(z))        \n",
    "            rep = \"\\n\\t\".join(correct_indent(ttt))\n",
    "        else: # plain wrong\n",
    "            rep = \"\\n\".join(correct_indent(ttt))\n",
    "        for x in range(i+1,i+v):\n",
    "            t[x] = \"pass\"\n",
    "        return rep\n",
    "    else:\n",
    "        return u\n",
    "    # and while's from top to bottom\n",
    "    # to avoid freaking recursions\n",
    "    # and we have to check that there are no overlap this way\n",
    "    # Otherwise just take care of them\n",
    "def convert_j_while(u,t,i):\n",
    "    if not u.startswith(\"jnz\"):\n",
    "        return u\n",
    "    toto = u.split(\" \")\n",
    "    z = toto[1] # don't cast it , it's gonna remain strings\n",
    "    v = int(toto[2])\n",
    "    # build if's from bottom to top,\n",
    "    if v > 0:\n",
    "        print \"something's wrong here\"\n",
    "        return u\n",
    "    else:\n",
    "        ttt = t[i+v:i]\n",
    "        ttt.insert(0, \"while {} != 0:\".format(z))\n",
    "        rep = \"\\n\\t\".join(correct_indent(ttt))\n",
    "        for x in range(i+v,i):\n",
    "            t[x] = \"pass\"\n",
    "            return rep\n",
    "            \n",
    "    # and while's from top to bottom\n",
    "    # to avoid freaking recursions\n",
    "    \n",
    "    \n",
    "def day_twenty_three_bis(u):\n",
    "    toto[:] = u.split(\"\\n\")\n",
    "    for i in range(len(toto)):\n",
    "        toto[i] = convert(toto[i])\n",
    "    for j in range(len(toto)):\n",
    "        i = len(toto) - j - 1\n",
    "        toto[i] = convert_j_if(toto[i], toto, i)\n",
    "    for i in range(len(toto)):\n",
    "        toto[i] = convert_j_while(toto[i], toto, i)\n",
    "\n",
    "    toto.insert(0, \"def run():\")\n",
    "    toto.insert(1, \"global ccc,a,b,c,d,e,f,g,h\")\n",
    "    toto.append(\"print ccc;print \\\"I\\'m out\\\";return\")\n",
    "    \n",
    "    for i in range(8):\n",
    "        exec((chr(ord('a') + i)) + \" = 0\")\n",
    "#     print a,b,c,d,e,f,g,h\n",
    "    print(\"\\n\\t\".join(correct_indent(toto)))\n",
    "    exec(\"\\n\\t\".join(correct_indent(toto)))\n",
    "#     run()\n",
    "#     return totoexec"
   ]
  },
  {
   "cell_type": "code",
   "execution_count": 224,
   "metadata": {
    "collapsed": false,
    "scrolled": false
   },
   "outputs": [
    {
     "name": "stdout",
     "output_type": "stream",
     "text": [
      "def run():\n",
      "\tglobal ccc,a,b,c,d,e,f,g,h\n",
      "\tb = 67\n",
      "\tc = b\n",
      "\tif a == 0:\n",
      "\t\tccc += 1;b *= 100\n",
      "\t\tb -= -100000\n",
      "\t\tc = b\n",
      "\t\tc -= -17000\n",
      "\tpass\n",
      "\tpass\n",
      "\tpass\n",
      "\tpass\n",
      "\tpass\n",
      "\tf = 1\n",
      "\td = 2\n",
      "\tpass\n",
      "\tpass\n",
      "\tccc += 1;g *= e\n",
      "\tg -= b\n",
      "\tif g == 0:\n",
      "\t\tf = 0\n",
      "\tpass\n",
      "\te -= -1\n",
      "\tg = e\n",
      "\tg -= b\n",
      "\twhile g != 0:\n",
      "\t\tg = d\n",
      "\t\tccc += 1;g *= e\n",
      "\t\tg -= b\n",
      "\t\tif g == 0:\n",
      "\t\t\tf = 0\n",
      "\t\tpass\n",
      "\t\te -= -1\n",
      "\t\tg = e\n",
      "\t\tg -= b\n",
      "\td -= -1\n",
      "\tg = d\n",
      "\tg -= b\n",
      "\twhile g != 0:\n",
      "\t\te = 2\n",
      "\t\tpass\n",
      "\t\tccc += 1;g *= e\n",
      "\t\tg -= b\n",
      "\t\tif g == 0:\n",
      "\t\t\tf = 0\n",
      "\t\tpass\n",
      "\t\te -= -1\n",
      "\t\tg = e\n",
      "\t\tg -= b\n",
      "\t\twhile g != 0:\n",
      "\t\t\tg = d\n",
      "\t\t\tccc += 1;g *= e\n",
      "\t\t\tg -= b\n",
      "\t\t\tif g == 0:\n",
      "\t\t\t\tf = 0\n",
      "\t\t\tpass\n",
      "\t\t\te -= -1\n",
      "\t\t\tg = e\n",
      "\t\t\tg -= b\n",
      "\t\td -= -1\n",
      "\t\tg = d\n",
      "\t\tg -= b\n",
      "\tif f == 0:\n",
      "\t\th -= -1\n",
      "\tpass\n",
      "\tg = b\n",
      "\tg -= c\n",
      "\tif g == 0:\n",
      "\t\tb -= -17\n",
      "\t\tjnz 1 -23\n",
      "\tpass\n",
      "\tpass\n",
      "\tpass\n",
      "\tprint ccc;print \"I'm out\";return\n"
     ]
    },
    {
     "ename": "SyntaxError",
     "evalue": "invalid syntax (<string>, line 71)",
     "output_type": "error",
     "traceback": [
      "\u001b[1;36m  File \u001b[1;32m\"<string>\"\u001b[1;36m, line \u001b[1;32m71\u001b[0m\n\u001b[1;33m    jnz 1 -23\u001b[0m\n\u001b[1;37m        ^\u001b[0m\n\u001b[1;31mSyntaxError\u001b[0m\u001b[1;31m:\u001b[0m invalid syntax\n"
     ]
    }
   ],
   "source": [
    "day_twenty_three_bis(day23)"
   ]
  },
  {
   "cell_type": "code",
   "execution_count": 153,
   "metadata": {
    "collapsed": false,
    "scrolled": false
   },
   "outputs": [
    {
     "name": "stdout",
     "output_type": "stream",
     "text": [
      "0 set b 67\n",
      "1 set c b\n",
      "2 jnz a 2\n",
      "3 jnz 1 5\n",
      "4 mul b 100\n",
      "5 sub b -100000\n",
      "6 set c b\n",
      "7 sub c -17000\n",
      "8 set f 1\n",
      "9 set d 2\n",
      "10 set e 2\n",
      "11 set g d\n",
      "12 mul g e\n",
      "13 sub g b\n",
      "14 jnz g 2\n",
      "15 set f 0\n",
      "16 sub e -1\n",
      "17 set g e\n",
      "18 sub g b\n",
      "19 jnz g -8\n",
      "20 sub d -1\n",
      "21 set g d\n",
      "22 sub g b\n",
      "23 jnz g -13\n",
      "24 jnz f 2\n",
      "25 sub h -1\n",
      "26 set g b\n",
      "27 sub g c\n",
      "28 jnz g 2\n",
      "29 jnz 1 3\n",
      "30 sub b -17\n",
      "31 jnz 1 -23\n",
      "[4225]\n"
     ]
    }
   ],
   "source": [
    "day_twenty_three(day23)"
   ]
  },
  {
   "cell_type": "code",
   "execution_count": 107,
   "metadata": {
    "collapsed": true
   },
   "outputs": [],
   "source": [
    "b = 106700\n",
    "c = 123700"
   ]
  },
  {
   "cell_type": "code",
   "execution_count": 108,
   "metadata": {
    "collapsed": false
   },
   "outputs": [
    {
     "name": "stdout",
     "output_type": "stream",
     "text": [
      "96\n"
     ]
    }
   ],
   "source": [
    "def prime(u):\n",
    "    for i in range(2,u):\n",
    "        if u%i ==0:\n",
    "            return False\n",
    "    return True\n",
    "count = 0\n",
    "for i in range(1000):\n",
    "    if prime(i *17 + 106700):\n",
    "        count +=1\n",
    "print count"
   ]
  },
  {
   "cell_type": "code",
   "execution_count": 109,
   "metadata": {
    "collapsed": false
   },
   "outputs": [
    {
     "data": {
      "text/plain": [
       "905"
      ]
     },
     "execution_count": 109,
     "metadata": {},
     "output_type": "execute_result"
    }
   ],
   "source": [
    "1001 - 96"
   ]
  }
 ],
 "metadata": {
  "kernelspec": {
   "display_name": "Python 2",
   "language": "python",
   "name": "python2"
  },
  "language_info": {
   "codemirror_mode": {
    "name": "ipython",
    "version": 2
   },
   "file_extension": ".py",
   "mimetype": "text/x-python",
   "name": "python",
   "nbconvert_exporter": "python",
   "pygments_lexer": "ipython2",
   "version": "2.7.10"
  }
 },
 "nbformat": 4,
 "nbformat_minor": 0
}
