{
 "cells": [
  {
   "cell_type": "code",
   "execution_count": 5,
   "metadata": {
    "collapsed": true
   },
   "outputs": [],
   "source": [
    "import aocd"
   ]
  },
  {
   "cell_type": "code",
   "execution_count": 9,
   "metadata": {
    "collapsed": false
   },
   "outputs": [
    {
     "data": {
      "text/plain": [
       "u'Generator A starts with 512\\nGenerator B starts with 191'"
      ]
     },
     "execution_count": 9,
     "metadata": {},
     "output_type": "execute_result"
    }
   ],
   "source": [
    "day15 = aocd.get_data(day=15)\n",
    "day15"
   ]
  },
  {
   "cell_type": "code",
   "execution_count": 19,
   "metadata": {
    "collapsed": true
   },
   "outputs": [],
   "source": [
    "one = 16807\n",
    "two = 48271\n",
    "def next_one(u):\n",
    "    def oone(u):\n",
    "        toto = one * u\n",
    "        return toto % 2147483647\n",
    "    r = oone(u)\n",
    "    while r%4 != 0:\n",
    "        r = oone(r)\n",
    "    return r\n",
    "def next_two(u):\n",
    "    def ttwo(u):\n",
    "        toto = two * u\n",
    "        return toto % 2147483647\n",
    "    r = ttwo(u)\n",
    "    while r%8 !=0:\n",
    "        r =ttwo(r)\n",
    "    return r\n",
    "def day_fifteen(u):\n",
    "    target = 5000000\n",
    "    count = 0\n",
    "    one_val = 512\n",
    "    two_val = 191\n",
    "    for i in range(target):\n",
    "        one_val = next_one(one_val)\n",
    "        two_val = next_two(two_val)\n",
    "        if (one_val - two_val) % 2 ** 16 == 0:\n",
    "            count += 1\n",
    "    return count"
   ]
  },
  {
   "cell_type": "code",
   "execution_count": 20,
   "metadata": {
    "collapsed": false
   },
   "outputs": [
    {
     "data": {
      "text/plain": [
       "323"
      ]
     },
     "execution_count": 20,
     "metadata": {},
     "output_type": "execute_result"
    }
   ],
   "source": [
    "day_fifteen(day15)"
   ]
  },
  {
   "cell_type": "code",
   "execution_count": 18,
   "metadata": {
    "collapsed": false
   },
   "outputs": [
    {
     "data": {
      "text/plain": [
       "65536"
      ]
     },
     "execution_count": 18,
     "metadata": {},
     "output_type": "execute_result"
    }
   ],
   "source": [
    "2**16"
   ]
  },
  {
   "cell_type": "code",
   "execution_count": null,
   "metadata": {
    "collapsed": true
   },
   "outputs": [],
   "source": []
  }
 ],
 "metadata": {
  "kernelspec": {
   "display_name": "Python 2",
   "language": "python",
   "name": "python2"
  },
  "language_info": {
   "codemirror_mode": {
    "name": "ipython",
    "version": 2
   },
   "file_extension": ".py",
   "mimetype": "text/x-python",
   "name": "python",
   "nbconvert_exporter": "python",
   "pygments_lexer": "ipython2",
   "version": "2.7.10"
  }
 },
 "nbformat": 4,
 "nbformat_minor": 0
}
