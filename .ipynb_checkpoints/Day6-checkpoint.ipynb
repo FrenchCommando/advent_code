{
 "cells": [
  {
   "cell_type": "code",
   "execution_count": 10,
   "metadata": {
    "collapsed": false
   },
   "outputs": [],
   "source": [
    "import aocd"
   ]
  },
  {
   "cell_type": "code",
   "execution_count": 16,
   "metadata": {
    "collapsed": false
   },
   "outputs": [
    {
     "data": {
      "text/plain": [
       "u'10\\t3\\t15\\t10\\t5\\t15\\t5\\t15\\t9\\t2\\t5\\t8\\t5\\t2\\t3\\t6'"
      ]
     },
     "execution_count": 16,
     "metadata": {},
     "output_type": "execute_result"
    }
   ],
   "source": [
    "day6 = aocd.get_data(day=6)\n",
    "day6"
   ]
  },
  {
   "cell_type": "code",
   "execution_count": 34,
   "metadata": {
    "collapsed": true
   },
   "outputs": [],
   "source": [
    "def get_next(u):\n",
    "    toto = max(u)\n",
    "    i=0\n",
    "    while u[i] != toto:\n",
    "        i +=1\n",
    "    # i is index of max\n",
    "    rr = u[i]\n",
    "    u[i] = 0\n",
    "    while rr>0:\n",
    "        i+=1\n",
    "        rr-=1\n",
    "        u[i%len(u)] +=1\n",
    "    return u\n",
    "def day_six(u):\n",
    "    uu = map(lambda x: int(x), u.split(\"\\t\"))\n",
    "    my_dict = [\"\\t\".join([str(e) for e in uu])]\n",
    "    count = 0\n",
    "    while(len(my_dict) == len(list(set(my_dict)))):\n",
    "        tutu = get_next(uu)\n",
    "        my_dict.append(\"\\t\".join([str(e) for e in uu]))\n",
    "        count +=1\n",
    "    match = my_dict[-1]\n",
    "    i=0\n",
    "    while my_dict[i] != match:\n",
    "        i +=1\n",
    "    return count - i # count for first problem"
   ]
  },
  {
   "cell_type": "code",
   "execution_count": 35,
   "metadata": {
    "collapsed": false
   },
   "outputs": [
    {
     "data": {
      "text/plain": [
       "2765"
      ]
     },
     "execution_count": 35,
     "metadata": {},
     "output_type": "execute_result"
    }
   ],
   "source": [
    "day_six(day6)"
   ]
  },
  {
   "cell_type": "code",
   "execution_count": null,
   "metadata": {
    "collapsed": true
   },
   "outputs": [],
   "source": []
  },
  {
   "cell_type": "code",
   "execution_count": null,
   "metadata": {
    "collapsed": true
   },
   "outputs": [],
   "source": []
  },
  {
   "cell_type": "code",
   "execution_count": null,
   "metadata": {
    "collapsed": true
   },
   "outputs": [],
   "source": []
  }
 ],
 "metadata": {
  "kernelspec": {
   "display_name": "Python 2",
   "language": "python",
   "name": "python2"
  },
  "language_info": {
   "codemirror_mode": {
    "name": "ipython",
    "version": 2
   },
   "file_extension": ".py",
   "mimetype": "text/x-python",
   "name": "python",
   "nbconvert_exporter": "python",
   "pygments_lexer": "ipython2",
   "version": "2.7.10"
  }
 },
 "nbformat": 4,
 "nbformat_minor": 0
}
