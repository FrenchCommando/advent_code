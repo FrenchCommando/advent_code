{
 "cells": [
  {
   "cell_type": "code",
   "execution_count": 1,
   "metadata": {
    "collapsed": true
   },
   "outputs": [],
   "source": [
    "import aocd"
   ]
  },
  {
   "cell_type": "code",
   "execution_count": 2,
   "metadata": {
    "collapsed": false
   },
   "outputs": [
    {
     "data": {
      "text/plain": [
       "u'..######.###...######...#\\n.##..##.#....#..##.#....#\\n.##.#....###..##.###.#.#.\\n#.#.###.#####.###.##.##.#\\n.###.#.#.###.####..##.###\\n..####.##..#.#.#####...##\\n....##.###..#.#..#...####\\n.#.##.##.#..##...##.###..\\n.######..#..#.#####....##\\n###.##.###.########...###\\n.#.#.#..#.##.#..###...#..\\n.#.##.#.####.#.#.....###.\\n##..###.###..##...#.##.##\\n##.#.##..#...##...#...###\\n##..#..###.#..##.#.#.#.#.\\n.##.#####..##....#.#.#..#\\n..#.######.##...#..#.##..\\n#.##...#.#....###.#.##.#.\\n.#..#.#.#..#.####..#.####\\n.##...##....##..#.#.###..\\n..##.#.#.##..##.#.#....#.\\n###.###.######.#.########\\n..#.####.#.#.##..####...#\\n#.##..#.#.####...#..#..##\\n###.###.#..##..#.###....#'"
      ]
     },
     "execution_count": 2,
     "metadata": {},
     "output_type": "execute_result"
    }
   ],
   "source": [
    "day22 = aocd.get_data(day=22)\n",
    "day22"
   ]
  },
  {
   "cell_type": "code",
   "execution_count": 66,
   "metadata": {
    "collapsed": false
   },
   "outputs": [],
   "source": [
    "def forward(u,p,d):\n",
    "#     print p,d\n",
    "    dd = d%4\n",
    "    if dd == 0:\n",
    "        if p[0] == 0:\n",
    "            p[0] = 1\n",
    "            u.insert(0,'.'*len(u[0]))\n",
    "        p[0] -= 1\n",
    "    if dd == 1:\n",
    "        if p[1] == len(u[0])-1:\n",
    "            for ii in range(len(u)):\n",
    "                u[ii] += \".\"\n",
    "        p[1] += 1\n",
    "    if dd == 2:\n",
    "        if p[0] == len(u) -1:\n",
    "            u.append('.'*len(u[0]))\n",
    "        p[0] += 1\n",
    "    if dd == 3:\n",
    "        if p[1] == 0:\n",
    "            p[1] = 1\n",
    "            for ii in range(len(u)):\n",
    "                u[ii] = \".\" + u[ii]\n",
    "        p[1] -= 1\n",
    "#     print \"post\", p,d, len(u), len(u[0])\n",
    "    \n",
    "def move(u,p, d, b):\n",
    "    if u[p[0]][p[1]] == \"#\":\n",
    "        d[0] += 1\n",
    "        target = \"F\"\n",
    "    if u[p[0]][p[1]] == \".\":\n",
    "        d[0] -= 1\n",
    "        target = \"W\"\n",
    "    if u[p[0]][p[1]] == \"W\":\n",
    "        target = \"#\"\n",
    "    if u[p[0]][p[1]] == \"F\":\n",
    "        d[0] += 2\n",
    "        target = \".\"\n",
    "#     target = \"#\" if u[p[0]][p[1]] == \".\" else \".\"\n",
    "    u[p[0]] = u[p[0]][:p[1]] + target + u[p[0]][p[1]+1:]\n",
    "    if target == \"#\":\n",
    "        b[0] += 1\n",
    "    forward(u,p,d[0])\n",
    "#     for iii in u:\n",
    "#         print iii\n",
    "    pass\n",
    "def day_twenty_two(u):\n",
    "    toto = u.split(\"\\n\")\n",
    "    n = len(toto)\n",
    "    nn = len(toto[0])\n",
    "    print n, nn\n",
    "    position = [n/2, nn/2]\n",
    "    print position\n",
    "    direction = [0] # 0 means up, 1 means right, 2 means down, 3 means left\n",
    "    print direction\n",
    "    count = 10000000\n",
    "    infected = \"\".join(toto).count(\"#\")\n",
    "    burst_count = [0]\n",
    "    print \"infected\", infected\n",
    "    for i in range(count):\n",
    "        move(toto, position, direction, burst_count)\n",
    "    print i, \"\".join(toto).count(\"#\") - infected,  \"hih\" , position, direction, burst_count\n",
    "    return burst_count\n",
    "\n",
    "def day_twenty_two_bis(u):\n",
    "    toto = u.split(\"\\n\")\n",
    "    return toto"
   ]
  },
  {
   "cell_type": "code",
   "execution_count": 64,
   "metadata": {
    "collapsed": false,
    "scrolled": false
   },
   "outputs": [
    {
     "name": "stdout",
     "output_type": "stream",
     "text": [
      "3 3\n",
      "[1, 1]\n",
      "[0]\n",
      "infected 2\n",
      "99 7 hih [4, 4] [0] [26]\n"
     ]
    },
    {
     "data": {
      "text/plain": [
       "[26]"
      ]
     },
     "execution_count": 64,
     "metadata": {},
     "output_type": "execute_result"
    }
   ],
   "source": [
    "day_twenty_two(\"..#\\n#..\\n...\")"
   ]
  },
  {
   "cell_type": "code",
   "execution_count": 67,
   "metadata": {
    "collapsed": false,
    "scrolled": false
   },
   "outputs": [
    {
     "name": "stdout",
     "output_type": "stream",
     "text": [
      "25 25\n",
      "[12, 12]\n",
      "[0]\n",
      "infected 348\n",
      "9999999 23767 hih [191, 81] [4878828] [2511702]\n"
     ]
    },
    {
     "data": {
      "text/plain": [
       "[2511702]"
      ]
     },
     "execution_count": 67,
     "metadata": {},
     "output_type": "execute_result"
    }
   ],
   "source": [
    "day_twenty_two(day22)"
   ]
  },
  {
   "cell_type": "code",
   "execution_count": 7,
   "metadata": {
    "collapsed": false
   },
   "outputs": [
    {
     "data": {
      "text/plain": [
       "[u'..######.###...######...#',\n",
       " u'.##..##.#....#..##.#....#',\n",
       " u'.##.#....###..##.###.#.#.',\n",
       " u'#.#.###.#####.###.##.##.#',\n",
       " u'.###.#.#.###.####..##.###',\n",
       " u'..####.##..#.#.#####...##',\n",
       " u'....##.###..#.#..#...####',\n",
       " u'.#.##.##.#..##...##.###..',\n",
       " u'.######..#..#.#####....##',\n",
       " u'###.##.###.########...###',\n",
       " u'.#.#.#..#.##.#..###...#..',\n",
       " u'.#.##.#.####.#.#.....###.',\n",
       " u'##..###.###..##...#.##.##',\n",
       " u'##.#.##..#...##...#...###',\n",
       " u'##..#..###.#..##.#.#.#.#.',\n",
       " u'.##.#####..##....#.#.#..#',\n",
       " u'..#.######.##...#..#.##..',\n",
       " u'#.##...#.#....###.#.##.#.',\n",
       " u'.#..#.#.#..#.####..#.####',\n",
       " u'.##...##....##..#.#.###..',\n",
       " u'..##.#.#.##..##.#.#....#.',\n",
       " u'###.###.######.#.########',\n",
       " u'..#.####.#.#.##..####...#',\n",
       " u'#.##..#.#.####...#..#..##',\n",
       " u'###.###.#..##..#.###....#']"
      ]
     },
     "execution_count": 7,
     "metadata": {},
     "output_type": "execute_result"
    }
   ],
   "source": [
    "day_twenty_two_bis(day22)"
   ]
  },
  {
   "cell_type": "code",
   "execution_count": null,
   "metadata": {
    "collapsed": true
   },
   "outputs": [],
   "source": []
  }
 ],
 "metadata": {
  "kernelspec": {
   "display_name": "Python 2",
   "language": "python",
   "name": "python2"
  },
  "language_info": {
   "codemirror_mode": {
    "name": "ipython",
    "version": 2
   },
   "file_extension": ".py",
   "mimetype": "text/x-python",
   "name": "python",
   "nbconvert_exporter": "python",
   "pygments_lexer": "ipython2",
   "version": "2.7.10"
  }
 },
 "nbformat": 4,
 "nbformat_minor": 0
}
