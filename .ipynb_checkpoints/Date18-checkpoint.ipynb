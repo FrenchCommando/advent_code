{
 "cells": [
  {
   "cell_type": "code",
   "execution_count": 9,
   "metadata": {
    "collapsed": true
   },
   "outputs": [],
   "source": [
    "import aocd"
   ]
  },
  {
   "cell_type": "code",
   "execution_count": 10,
   "metadata": {
    "collapsed": false
   },
   "outputs": [
    {
     "data": {
      "text/plain": [
       "u'set i 31\\nset a 1\\nmul p 17\\njgz p p\\nmul a 2\\nadd i -1\\njgz i -2\\nadd a -1\\nset i 127\\nset p 464\\nmul p 8505\\nmod p a\\nmul p 129749\\nadd p 12345\\nmod p a\\nset b p\\nmod b 10000\\nsnd b\\nadd i -1\\njgz i -9\\njgz a 3\\nrcv b\\njgz b -1\\nset f 0\\nset i 126\\nrcv a\\nrcv b\\nset p a\\nmul p -1\\nadd p b\\njgz p 4\\nsnd a\\nset a b\\njgz 1 3\\nsnd b\\nset f 1\\nadd i -1\\njgz i -11\\nsnd a\\njgz f -16\\njgz a -19'"
      ]
     },
     "execution_count": 10,
     "metadata": {},
     "output_type": "execute_result"
    }
   ],
   "source": [
    "day18 = aocd.get_data(day=18)\n",
    "day18"
   ]
  },
  {
   "cell_type": "code",
   "execution_count": 28,
   "metadata": {
    "collapsed": false
   },
   "outputs": [],
   "source": [
    "def app(move,reg, sound, index, last_sound):\n",
    "    command = move[:3]\n",
    "    ttt = move.split(\" \")\n",
    "    if command == 'snd':\n",
    "        sound[ttt[1]] = reg[ttt[1]]\n",
    "        last_sound[0] = reg[ttt[1]]\n",
    "        return index + 1, False\n",
    "    if command == 'set':\n",
    "        key = ttt[1]\n",
    "        try:\n",
    "            reg[key] = int(ttt[2])\n",
    "        except:\n",
    "            try:\n",
    "                reg[key] = reg[ttt[2]]\n",
    "            except: \n",
    "                pass\n",
    "        return index + 1, False\n",
    "    if command == 'add':\n",
    "        key = ttt[1]\n",
    "        try:\n",
    "            reg[key] += int(ttt[2])\n",
    "        except:\n",
    "            try:\n",
    "                reg[key] += reg[ttt[2]]\n",
    "            except: \n",
    "                pass\n",
    "        return index + 1, False\n",
    "    if command == 'mul':\n",
    "        key = ttt[1]\n",
    "        try:\n",
    "            reg[key] *= int(ttt[2])\n",
    "        except:\n",
    "            try:\n",
    "                reg[key] *= reg[ttt[2]]\n",
    "            except: \n",
    "                pass\n",
    "        return index + 1, False\n",
    "    if command == 'mod':\n",
    "        key = ttt[1]\n",
    "        try:\n",
    "            reg[key] = reg[key] % int(ttt[2])\n",
    "        except:\n",
    "            try:\n",
    "                reg[key] = reg[key] % reg[ttt[2]]\n",
    "            except: \n",
    "                pass\n",
    "        return index + 1, False\n",
    "    if command == 'rcv':\n",
    "        key = ttt[1]\n",
    "        if (key in reg) and (reg[key] != 0) and (key in sound):\n",
    "            return index + 1, True\n",
    "        return index + 1, True\n",
    "    if command == 'jgz':\n",
    "        key = ttt[1]\n",
    "        if (key in reg) and (reg[key] > 0):\n",
    "            try:\n",
    "                jump = int(ttt[2])\n",
    "            except:\n",
    "                jump = reg[ttt[2]]\n",
    "            index += jump\n",
    "            return index, False\n",
    "        return index + 1, False\n",
    "            \n",
    "def day_eighteen(u):\n",
    "    reg = {}\n",
    "    sound = {}\n",
    "    last_sound = [0]\n",
    "    moves = u.split(\"\\n\")\n",
    "#     for ii in range(len(moves)):\n",
    "#         print ii, moves[ii]\n",
    "    print len(moves)\n",
    "    index = 0\n",
    "    recovered = False\n",
    "    while not recovered:\n",
    "        index, recovered = app(moves[index], reg, sound, index, last_sound)\n",
    "#         print index, '\\t', sound\n",
    "    return last_sound[0]"
   ]
  },
  {
   "cell_type": "code",
   "execution_count": 29,
   "metadata": {
    "collapsed": false,
    "scrolled": false
   },
   "outputs": [
    {
     "name": "stdout",
     "output_type": "stream",
     "text": [
      "41\n"
     ]
    },
    {
     "data": {
      "text/plain": [
       "1187L"
      ]
     },
     "execution_count": 29,
     "metadata": {},
     "output_type": "execute_result"
    }
   ],
   "source": [
    "day_eighteen(day18)"
   ]
  },
  {
   "cell_type": "code",
   "execution_count": 24,
   "metadata": {
    "collapsed": false
   },
   "outputs": [],
   "source": [
    "def app_bis(move, reg, send, index, count_sound, receiv_list):\n",
    "    command = move[:3]\n",
    "    ttt = move.split(\" \")\n",
    "    if command == 'snd':\n",
    "        send.append(reg[ttt[1]])\n",
    "        count_sound[0] += 1\n",
    "        index[0] += 1\n",
    "        return False\n",
    "    if command == 'set':\n",
    "        key = ttt[1]\n",
    "        try:\n",
    "            reg[key] = int(ttt[2])\n",
    "        except:\n",
    "            try:\n",
    "                reg[key] = reg[ttt[2]]\n",
    "            except: \n",
    "                pass\n",
    "        index[0] += 1\n",
    "        return False\n",
    "    if command == 'add':\n",
    "        key = ttt[1]\n",
    "        try:\n",
    "            reg[key] += int(ttt[2])\n",
    "        except:\n",
    "            try:\n",
    "                reg[key] += reg[ttt[2]]\n",
    "            except: \n",
    "                pass\n",
    "        index[0] += 1\n",
    "        return False\n",
    "    if command == 'mul':\n",
    "        key = ttt[1]\n",
    "        try:\n",
    "            reg[key] *= int(ttt[2])\n",
    "        except:\n",
    "            try:\n",
    "                reg[key] *= reg[ttt[2]]\n",
    "            except: \n",
    "                pass\n",
    "        index[0] += 1\n",
    "        return False\n",
    "    if command == 'mod':\n",
    "        key = ttt[1]\n",
    "        try:\n",
    "            reg[key] = reg[key] % int(ttt[2])\n",
    "        except:\n",
    "            try:\n",
    "                reg[key] = reg[key] % reg[ttt[2]]\n",
    "            except: \n",
    "                pass\n",
    "        index[0] += 1\n",
    "        return False\n",
    "    if command == 'rcv':\n",
    "        if not receiv_list:\n",
    "            return True\n",
    "        key = ttt[1]\n",
    "        reg[key] = receiv_list.pop(0)\n",
    "        index[0] += 1\n",
    "        return False\n",
    "    if command == 'jgz':\n",
    "        key = ttt[1]\n",
    "        try:\n",
    "            val = int(ttt[1])\n",
    "        except:\n",
    "            val = 0\n",
    "        if (val > 0) or ((key in reg) and (reg[key] > 0)):\n",
    "            try:\n",
    "                jump = int(ttt[2])\n",
    "            except:\n",
    "                jump = reg[ttt[2]]\n",
    "            index[0] += jump\n",
    "            return False\n",
    "        index[0] += 1\n",
    "        return False\n",
    "            \n",
    "def day_eighteen_bis(u):\n",
    "    reg = {0: {'p': 0}, 1: {'p': 1}}\n",
    "    send = {0: [], 1: []}\n",
    "    moves = u.split(\"\\n\")\n",
    "    index = {0: [0], 1: [0]}\n",
    "    receivings = [False, False]\n",
    "    count_snd = {0: [0], 1: [0]}\n",
    "\n",
    "    for program in [0,1]:\n",
    "        while not (receivings[program]):\n",
    "            receivings[program] = app_bis(\n",
    "                moves[index[program][0]], \n",
    "                reg[program], \n",
    "                send[program], \n",
    "                index[program], \n",
    "                count_snd[program], \n",
    "                send[0 if program == 1 else 1])\n",
    "#         print index, len(send[0]), len(send[1]), '\\t', reg\n",
    "        receivings[program] = False\n",
    "    while send[1]:\n",
    "        for program in [0,1]:\n",
    "            while not (receivings[program]):\n",
    "                receivings[program] = app_bis(\n",
    "                    moves[index[program][0]], \n",
    "                    reg[program], \n",
    "                    send[program], \n",
    "                    index[program], \n",
    "                    count_snd[program], \n",
    "                    send[0 if program == 1 else 1])\n",
    "            receivings[program] = False\n",
    "#             print index, '\\t', send\n",
    "#             print index, len(send[0]), len(send[1]), '\\t', reg\n",
    "#             for ttt in send[program]:\n",
    "#                 print ttt\n",
    "    return count_snd[1]"
   ]
  },
  {
   "cell_type": "code",
   "execution_count": 25,
   "metadata": {
    "collapsed": false,
    "scrolled": false
   },
   "outputs": [
    {
     "data": {
      "text/plain": [
       "[5969]"
      ]
     },
     "execution_count": 25,
     "metadata": {},
     "output_type": "execute_result"
    }
   ],
   "source": [
    "day_eighteen_bis(day18)"
   ]
  },
  {
   "cell_type": "code",
   "execution_count": null,
   "metadata": {
    "collapsed": true
   },
   "outputs": [],
   "source": []
  }
 ],
 "metadata": {
  "kernelspec": {
   "display_name": "Python 2",
   "language": "python",
   "name": "python2"
  },
  "language_info": {
   "codemirror_mode": {
    "name": "ipython",
    "version": 2
   },
   "file_extension": ".py",
   "mimetype": "text/x-python",
   "name": "python",
   "nbconvert_exporter": "python",
   "pygments_lexer": "ipython2",
   "version": "2.7.10"
  }
 },
 "nbformat": 4,
 "nbformat_minor": 0
}
