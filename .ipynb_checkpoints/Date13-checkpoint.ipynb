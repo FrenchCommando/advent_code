{
 "cells": [
  {
   "cell_type": "code",
   "execution_count": 3,
   "metadata": {
    "collapsed": true
   },
   "outputs": [],
   "source": [
    "import aocd"
   ]
  },
  {
   "cell_type": "code",
   "execution_count": 4,
   "metadata": {
    "collapsed": false
   },
   "outputs": [
    {
     "data": {
      "text/plain": [
       "u'0: 3\\n1: 2\\n2: 4\\n4: 4\\n6: 5\\n8: 6\\n10: 6\\n12: 6\\n14: 6\\n16: 8\\n18: 8\\n20: 8\\n22: 8\\n24: 10\\n26: 8\\n28: 8\\n30: 12\\n32: 14\\n34: 12\\n36: 10\\n38: 12\\n40: 12\\n42: 9\\n44: 12\\n46: 12\\n48: 12\\n50: 12\\n52: 14\\n54: 14\\n56: 14\\n58: 12\\n60: 14\\n62: 14\\n64: 12\\n66: 14\\n70: 14\\n72: 14\\n74: 14\\n76: 14\\n80: 18\\n88: 20\\n90: 14\\n98: 17'"
      ]
     },
     "execution_count": 4,
     "metadata": {},
     "output_type": "execute_result"
    }
   ],
   "source": [
    "day13 = aocd.get_data(day=13)\n",
    "day13"
   ]
  },
  {
   "cell_type": "code",
   "execution_count": 49,
   "metadata": {
    "collapsed": true
   },
   "outputs": [],
   "source": [
    "def day_thirteen(u):\n",
    "    d = dict(map(lambda x: int(x), tuple(t.split(\": \"))) for t in u.split(\"\\n\"))\n",
    "    return sum([u * v for u,v in d.iteritems() if (u+92544)%(2*(v-1))==0])"
   ]
  },
  {
   "cell_type": "code",
   "execution_count": 50,
   "metadata": {
    "collapsed": false
   },
   "outputs": [
    {
     "data": {
      "text/plain": [
       "0"
      ]
     },
     "execution_count": 50,
     "metadata": {},
     "output_type": "execute_result"
    }
   ],
   "source": [
    "day_thirteen(day13)"
   ]
  },
  {
   "cell_type": "code",
   "execution_count": 55,
   "metadata": {
    "collapsed": true
   },
   "outputs": [],
   "source": [
    "def day_thirteen_bis(u):\n",
    "    d = dict(map(lambda x: int(x), tuple(t.split(\": \"))) for t in u.split(\"\\n\"))\n",
    "    print d\n",
    "    shift = 0\n",
    "    s = sum([u * v for u,v in d.iteritems() if (u+shift)%(2*(v-1))==0])\n",
    "    while s != 0:\n",
    "        shift += 1\n",
    "        s = sum([v for u,v in d.iteritems() if (u+shift)%(2*(v-1))==0])\n",
    "    return shift"
   ]
  },
  {
   "cell_type": "code",
   "execution_count": 54,
   "metadata": {
    "collapsed": false
   },
   "outputs": [
    {
     "name": "stdout",
     "output_type": "stream",
     "text": [
      "{0: 3, 1: 2, 2: 4, 4: 4, 6: 5, 8: 6, 10: 6, 12: 6, 14: 6, 16: 8, 18: 8, 20: 8, 22: 8, 24: 10, 26: 8, 28: 8, 30: 12, 32: 14, 34: 12, 36: 10, 38: 12, 40: 12, 42: 9, 44: 12, 46: 12, 48: 12, 50: 12, 52: 14, 54: 14, 56: 14, 58: 12, 60: 14, 62: 14, 64: 12, 66: 14, 70: 14, 72: 14, 74: 14, 76: 14, 80: 18, 88: 20, 90: 14, 98: 17}\n"
     ]
    },
    {
     "data": {
      "text/plain": [
       "3966414"
      ]
     },
     "execution_count": 54,
     "metadata": {},
     "output_type": "execute_result"
    }
   ],
   "source": [
    "day_thirteen_bis(day13)"
   ]
  },
  {
   "cell_type": "code",
   "execution_count": null,
   "metadata": {
    "collapsed": true
   },
   "outputs": [],
   "source": []
  }
 ],
 "metadata": {
  "kernelspec": {
   "display_name": "Python 2",
   "language": "python",
   "name": "python2"
  },
  "language_info": {
   "codemirror_mode": {
    "name": "ipython",
    "version": 2
   },
   "file_extension": ".py",
   "mimetype": "text/x-python",
   "name": "python",
   "nbconvert_exporter": "python",
   "pygments_lexer": "ipython2",
   "version": "2.7.10"
  }
 },
 "nbformat": 4,
 "nbformat_minor": 0
}
