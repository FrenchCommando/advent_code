{
 "cells": [
  {
   "cell_type": "code",
   "execution_count": 1,
   "metadata": {
    "collapsed": true
   },
   "outputs": [],
   "source": [
    "import aocd"
   ]
  },
  {
   "cell_type": "code",
   "execution_count": 2,
   "metadata": {
    "collapsed": false
   },
   "outputs": [
    {
     "data": {
      "text/plain": [
       "u'Begin in state A.\\nPerform a diagnostic checksum after 12386363 steps.\\n\\nIn state A:\\n  If the current value is 0:\\n    - Write the value 1.\\n    - Move one slot to the right.\\n    - Continue with state B.\\n  If the current value is 1:\\n    - Write the value 0.\\n    - Move one slot to the left.\\n    - Continue with state E.\\n\\nIn state B:\\n  If the current value is 0:\\n    - Write the value 1.\\n    - Move one slot to the left.\\n    - Continue with state C.\\n  If the current value is 1:\\n    - Write the value 0.\\n    - Move one slot to the right.\\n    - Continue with state A.\\n\\nIn state C:\\n  If the current value is 0:\\n    - Write the value 1.\\n    - Move one slot to the left.\\n    - Continue with state D.\\n  If the current value is 1:\\n    - Write the value 0.\\n    - Move one slot to the right.\\n    - Continue with state C.\\n\\nIn state D:\\n  If the current value is 0:\\n    - Write the value 1.\\n    - Move one slot to the left.\\n    - Continue with state E.\\n  If the current value is 1:\\n    - Write the value 0.\\n    - Move one slot to the left.\\n    - Continue with state F.\\n\\nIn state E:\\n  If the current value is 0:\\n    - Write the value 1.\\n    - Move one slot to the left.\\n    - Continue with state A.\\n  If the current value is 1:\\n    - Write the value 1.\\n    - Move one slot to the left.\\n    - Continue with state C.\\n\\nIn state F:\\n  If the current value is 0:\\n    - Write the value 1.\\n    - Move one slot to the left.\\n    - Continue with state E.\\n  If the current value is 1:\\n    - Write the value 1.\\n    - Move one slot to the right.\\n    - Continue with state A.'"
      ]
     },
     "execution_count": 2,
     "metadata": {},
     "output_type": "execute_result"
    }
   ],
   "source": [
    "day25 = aocd.get_data(day=25)\n",
    "day25"
   ]
  },
  {
   "cell_type": "code",
   "execution_count": 66,
   "metadata": {
    "collapsed": true
   },
   "outputs": [],
   "source": [
    "import re\n",
    "import collections\n",
    "\n",
    "def day_twenty_five(u):\n",
    "    global position, state, v\n",
    "    \n",
    "    toto = u.split(\"\\n\")\n",
    "    n = int(re.findall(r\"[0-9]+\", toto[1])[0])\n",
    "    print n\n",
    "    state = toto[0][-2]\n",
    "    print state\n",
    "    v = set()\n",
    "    # v = collections.defaultdict(int)\n",
    "    position = 0\n",
    "    \n",
    "    trunc = \"\\n\".join(toto[3:])\n",
    "    exec(modify(trunc))\n",
    "    \n",
    "    #n = 100000\n",
    "    for i in range(n):\n",
    "        exec(\"{}()\".format(state))\n",
    "        #print i\n",
    "        #print state, position , v\n",
    "    \n",
    "    #print v\n",
    "    return len(v)\n",
    "    \n",
    "def modify(u):\n",
    "    for i in range(6):\n",
    "        c = chr(ord('A')+i)\n",
    "        # print c\n",
    "        #print \"In state {}:\".format(c)\n",
    "        #print \"def {}():\".format(c)\n",
    "        u = u.replace(\"In state {}:\".format(c), \"def {}():\\n  global position, state, v\".format(c))\n",
    "        u = u.replace(\"- Continue with state {}.\".format(c), \"state = \\'{}\\'\\n    return\".format(c))\n",
    "    #for i in range(2):\n",
    "    #    u = u.replace(\"If the current value is {}:\".format(str(i)), \"if v[position] == {}:\".format(str(i)))\n",
    "    #    u = u.replace(\"- Write the value {}.\".format(str(i)), \"v[position] = {}\".format(str(i)))\n",
    "    for i in range(1):\n",
    "        u = u.replace(\"If the current value is {}:\".format(str(i)), \"if position not in v:\")\n",
    "        u = u.replace(\"- Write the value {}.\".format(str(i)), \"v.remove(position)\")\n",
    "    for i in range(1,2):\n",
    "        u = u.replace(\"If the current value is {}:\".format(str(i)), \"if position in v:\")\n",
    "        u = u.replace(\"- Write the value {}.\".format(str(i)), \"v.add(position)\")\n",
    "    u = u.replace(\"- Move one slot to the right.\", \"position += 1\")\n",
    "    u = u.replace(\"- Move one slot to the left.\", \"position -= 1\")\n",
    "    #print u\n",
    "    return u\n",
    "\n",
    "def day_twenty_five_bis(u):\n",
    "    toto = u.split(\"\\n\")\n",
    "    return toto"
   ]
  },
  {
   "cell_type": "code",
   "execution_count": 67,
   "metadata": {
    "collapsed": false,
    "scrolled": false
   },
   "outputs": [
    {
     "name": "stdout",
     "output_type": "stream",
     "text": [
      "12386363\n",
      "A\n"
     ]
    },
    {
     "data": {
      "text/plain": [
       "4385"
      ]
     },
     "execution_count": 67,
     "metadata": {},
     "output_type": "execute_result"
    }
   ],
   "source": [
    "day_twenty_five(day25)"
   ]
  },
  {
   "cell_type": "code",
   "execution_count": 41,
   "metadata": {
    "collapsed": false
   },
   "outputs": [
    {
     "data": {
      "text/plain": [
       "[u'Begin in state A.',\n",
       " u'Perform a diagnostic checksum after 12386363 steps.',\n",
       " u'',\n",
       " u'In state A:',\n",
       " u'  If the current value is 0:',\n",
       " u'    - Write the value 1.',\n",
       " u'    - Move one slot to the right.',\n",
       " u'    - Continue with state B.',\n",
       " u'  If the current value is 1:',\n",
       " u'    - Write the value 0.',\n",
       " u'    - Move one slot to the left.',\n",
       " u'    - Continue with state E.',\n",
       " u'',\n",
       " u'In state B:',\n",
       " u'  If the current value is 0:',\n",
       " u'    - Write the value 1.',\n",
       " u'    - Move one slot to the left.',\n",
       " u'    - Continue with state C.',\n",
       " u'  If the current value is 1:',\n",
       " u'    - Write the value 0.',\n",
       " u'    - Move one slot to the right.',\n",
       " u'    - Continue with state A.',\n",
       " u'',\n",
       " u'In state C:',\n",
       " u'  If the current value is 0:',\n",
       " u'    - Write the value 1.',\n",
       " u'    - Move one slot to the left.',\n",
       " u'    - Continue with state D.',\n",
       " u'  If the current value is 1:',\n",
       " u'    - Write the value 0.',\n",
       " u'    - Move one slot to the right.',\n",
       " u'    - Continue with state C.',\n",
       " u'',\n",
       " u'In state D:',\n",
       " u'  If the current value is 0:',\n",
       " u'    - Write the value 1.',\n",
       " u'    - Move one slot to the left.',\n",
       " u'    - Continue with state E.',\n",
       " u'  If the current value is 1:',\n",
       " u'    - Write the value 0.',\n",
       " u'    - Move one slot to the left.',\n",
       " u'    - Continue with state F.',\n",
       " u'',\n",
       " u'In state E:',\n",
       " u'  If the current value is 0:',\n",
       " u'    - Write the value 1.',\n",
       " u'    - Move one slot to the left.',\n",
       " u'    - Continue with state A.',\n",
       " u'  If the current value is 1:',\n",
       " u'    - Write the value 1.',\n",
       " u'    - Move one slot to the left.',\n",
       " u'    - Continue with state C.',\n",
       " u'',\n",
       " u'In state F:',\n",
       " u'  If the current value is 0:',\n",
       " u'    - Write the value 1.',\n",
       " u'    - Move one slot to the left.',\n",
       " u'    - Continue with state E.',\n",
       " u'  If the current value is 1:',\n",
       " u'    - Write the value 1.',\n",
       " u'    - Move one slot to the right.',\n",
       " u'    - Continue with state A.']"
      ]
     },
     "execution_count": 41,
     "metadata": {},
     "output_type": "execute_result"
    }
   ],
   "source": [
    "day_twenty_five_bis(day25)"
   ]
  },
  {
   "cell_type": "code",
   "execution_count": 57,
   "metadata": {
    "collapsed": false,
    "scrolled": false
   },
   "outputs": [
    {
     "name": "stdout",
     "output_type": "stream",
     "text": [
      "6\n",
      "A\n",
      "A 0 set([])\n",
      "set([1, -2, -1])\n"
     ]
    },
    {
     "data": {
      "text/plain": [
       "3"
      ]
     },
     "execution_count": 57,
     "metadata": {},
     "output_type": "execute_result"
    }
   ],
   "source": [
    "test = \"Begin in state A.\\nPerform a diagnostic checksum after 6 steps.\\n\\nIn state A:\\n  If the current value is 0:\\n    - Write the value 1.\\n    - Move one slot to the right.\\n    - Continue with state B.\\n  If the current value is 1:\\n    - Write the value 0.\\n    - Move one slot to the left.\\n    - Continue with state B.\\n\\nIn state B:\\n  If the current value is 0:\\n    - Write the value 1.\\n    - Move one slot to the left.\\n    - Continue with state A.\\n  If the current value is 1:\\n    - Write the value 1.\\n    - Move one slot to the right.\\n    - Continue with state A.\\n\"\n",
    "day_twenty_five(test)"
   ]
  },
  {
   "cell_type": "code",
   "execution_count": null,
   "metadata": {
    "collapsed": true
   },
   "outputs": [],
   "source": []
  }
 ],
 "metadata": {
  "kernelspec": {
   "display_name": "Python 2",
   "language": "python",
   "name": "python2"
  },
  "language_info": {
   "codemirror_mode": {
    "name": "ipython",
    "version": 2
   },
   "file_extension": ".py",
   "mimetype": "text/x-python",
   "name": "python",
   "nbconvert_exporter": "python",
   "pygments_lexer": "ipython2",
   "version": "2.7.10"
  }
 },
 "nbformat": 4,
 "nbformat_minor": 0
}
