{
 "cells": [
  {
   "cell_type": "code",
   "execution_count": 1,
   "metadata": {
    "collapsed": false
   },
   "outputs": [],
   "source": [
    "import aocd"
   ]
  },
  {
   "cell_type": "code",
   "execution_count": 20,
   "metadata": {
    "collapsed": false
   },
   "outputs": [
    {
     "data": {
      "text/plain": [
       "u'31813174349235972159811869755166343882958376474278437681632495222499211488649543755655138842553867246131245462881756862736922925752647341673342756514856663979496747158241792857625471323535183222497949751644488277317173496124473893452425118133645984488759128897146498831373795721661696492622276282881218371273973538163779782435211491196616375135472517935481964439956844536136823757764494967297251545389464472794474447941564778733926532741752757865243946976266426548341889873514383464142659425122786667399143335772174973128383869893325977319651839516694295534146668728822393452626321892357192574444856264721585365164945647254645264693957898373214897848424966266582991272496771159583715456714645585576641458358326521858518319315233857473695712238323787254556597566461188452279853766184333696344395818615215846348586541164194624371353556812548945447432787795489443312941687221314432694115847863129826532628228386894683392352799514942665396273726821936346663485499159141368443782475714679953213388375939519711591262489869326145476958378464652451441434846382474578535468433514121336844727988128998543975147649823215332929623574231738442281161294838499441799996857746549441142859199799125595761724782225452394593514388571187279266291364278184761833324476838939898258225748562345853633364314923186685534864178665214135631494876474186833392929124337161222959459117554238429216916532175247326391321525832362274683763488347654497889261543959591212539851835354335598844669618391876623638137926893582131945361264841733341247646125278489995838369127582438419889922365596554237153412394494932582424222479798382932335239274297663365164912953364777876187522324991837775492621675953397843833247525599771974555545348388871578347332456586949283657613841414576976542343934911424716613479249893113961925713317644349946444271959375981158445151659431844142242547191181944395897963146947935463718145169266129118413523541222444997678726644615185324461293228124456118853885552279849917342474792984425629248492847827653133583215539325866881662159421987315186914769478947389188382383546881622246793781846254253759714573354544997853153798862436887889318646643359555663135476261863'"
      ]
     },
     "execution_count": 20,
     "metadata": {},
     "output_type": "execute_result"
    }
   ],
   "source": [
    "day1 = aocd.get_data(day=1)\n",
    "day1"
   ]
  },
  {
   "cell_type": "code",
   "execution_count": 14,
   "metadata": {
    "collapsed": false
   },
   "outputs": [],
   "source": [
    "def circular(u):\n",
    "    return u[-1]+ u[0:-1]\n",
    "def day_one(u):\n",
    "    if len(u) == 0:\n",
    "        return 0\n",
    "    v = circular(u)\n",
    "    if u == v:\n",
    "        return int(u[0]) * len(u)\n",
    "    if u[0] == u[-1]:\n",
    "        return day_one(v)\n",
    "    return sum([int(u[i]) for i in range(len(u)-1) if u[i] == u[i+1] ])"
   ]
  },
  {
   "cell_type": "code",
   "execution_count": 15,
   "metadata": {
    "collapsed": false
   },
   "outputs": [
    {
     "data": {
      "text/plain": [
       "1203"
      ]
     },
     "execution_count": 15,
     "metadata": {},
     "output_type": "execute_result"
    }
   ],
   "source": [
    "day_one(day1)"
   ]
  },
  {
   "cell_type": "code",
   "execution_count": 18,
   "metadata": {
    "collapsed": true
   },
   "outputs": [],
   "source": [
    "def day_one_bis(u):\n",
    "    if len(u) == 0:\n",
    "        return 0\n",
    "    return sum([int(u[i]) for i in range(len(u)/2) if u[i] == u[i+len(u)/2] ]) * 2"
   ]
  },
  {
   "cell_type": "code",
   "execution_count": 19,
   "metadata": {
    "collapsed": false
   },
   "outputs": [
    {
     "data": {
      "text/plain": [
       "1146"
      ]
     },
     "execution_count": 19,
     "metadata": {},
     "output_type": "execute_result"
    }
   ],
   "source": [
    "day_one_bis(day1)"
   ]
  },
  {
   "cell_type": "code",
   "execution_count": 21,
   "metadata": {
    "collapsed": false
   },
   "outputs": [
    {
     "data": {
      "text/plain": [
       "u'1208\\t412\\t743\\t57\\t1097\\t53\\t71\\t1029\\t719\\t133\\t258\\t69\\t1104\\t373\\t367\\t365\\n4011\\t4316\\t1755\\t4992\\t228\\t240\\t3333\\t208\\t247\\t3319\\t4555\\t717\\t1483\\t4608\\t1387\\t3542\\n675\\t134\\t106\\t115\\t204\\t437\\t1035\\t1142\\t195\\t1115\\t569\\t140\\t1133\\t190\\t701\\t1016\\n4455\\t2184\\t5109\\t221\\t3794\\t246\\t5214\\t4572\\t3571\\t3395\\t2054\\t5050\\t216\\t878\\t237\\t3880\\n4185\\t5959\\t292\\t2293\\t118\\t5603\\t2167\\t5436\\t3079\\t167\\t243\\t256\\t5382\\t207\\t5258\\t4234\\n94\\t402\\t126\\t1293\\t801\\t1604\\t1481\\t1292\\t1428\\t1051\\t345\\t1510\\t1417\\t684\\t133\\t119\\n120\\t1921\\t115\\t3188\\t82\\t334\\t366\\t3467\\t103\\t863\\t3060\\t2123\\t3429\\t1974\\t557\\t3090\\n53\\t446\\t994\\t71\\t872\\t898\\t89\\t982\\t957\\t789\\t1040\\t100\\t133\\t82\\t84\\t791\\n2297\\t733\\t575\\t2896\\t1470\\t169\\t2925\\t1901\\t195\\t2757\\t1627\\t1216\\t148\\t3037\\t392\\t221\\n1343\\t483\\t67\\t1655\\t57\\t71\\t1562\\t447\\t58\\t1561\\t889\\t1741\\t1338\\t88\\t1363\\t560\\n2387\\t3991\\t3394\\t6300\\t2281\\t6976\\t234\\t204\\t6244\\t854\\t1564\\t210\\t195\\t7007\\t3773\\t3623\\n1523\\t77\\t1236\\t1277\\t112\\t171\\t70\\t1198\\t86\\t1664\\t1767\\t75\\t315\\t143\\t1450\\t1610\\n168\\t2683\\t1480\\t200\\t1666\\t1999\\t3418\\t2177\\t156\\t430\\t2959\\t3264\\t2989\\t136\\t110\\t3526\\n8702\\t6973\\t203\\t4401\\t8135\\t7752\\t1704\\t8890\\t182\\t9315\\t255\\t229\\t6539\\t647\\t6431\\t6178\\n2290\\t157\\t2759\\t3771\\t4112\\t2063\\t153\\t3538\\t3740\\t130\\t3474\\t1013\\t180\\t2164\\t170\\t189\\n525\\t1263\\t146\\t954\\t188\\t232\\t1019\\t918\\t268\\t172\\t1196\\t1091\\t1128\\t234\\t650\\t420'"
      ]
     },
     "execution_count": 21,
     "metadata": {},
     "output_type": "execute_result"
    }
   ],
   "source": [
    "day2 = aocd.get_data(day=2)\n",
    "day2"
   ]
  },
  {
   "cell_type": "code",
   "execution_count": 38,
   "metadata": {
    "collapsed": true
   },
   "outputs": [],
   "source": [
    "def check_diff(u):\n",
    "    toto = map(lambda x: int(x), u.split(\"\\t\"))\n",
    "    return max(toto) - min(toto)\n",
    "def day_two(u):\n",
    "    return sum(map(check_diff, u.split(\"\\n\")))"
   ]
  },
  {
   "cell_type": "code",
   "execution_count": 39,
   "metadata": {
    "collapsed": false
   },
   "outputs": [
    {
     "data": {
      "text/plain": [
       "54426"
      ]
     },
     "execution_count": 39,
     "metadata": {},
     "output_type": "execute_result"
    }
   ],
   "source": [
    "day_two(day2)"
   ]
  },
  {
   "cell_type": "code",
   "execution_count": 42,
   "metadata": {
    "collapsed": true
   },
   "outputs": [],
   "source": [
    "def divides(a,b):\n",
    "    aa = int(a)\n",
    "    bb = int(b)\n",
    "    if (aa* 1.0 / bb == aa/bb):\n",
    "        return aa/bb\n",
    "    return False\n",
    "def check_diff(u):\n",
    "    toto = u.split(\"\\t\")\n",
    "    for t in toto:\n",
    "        for tt in toto:\n",
    "            if t != tt:\n",
    "                t1 = divides(t,tt)\n",
    "                t2 = divides(tt,t)\n",
    "                if t1:\n",
    "                    return t1\n",
    "                if t2:\n",
    "                    return t2\n",
    "    return 1"
   ]
  },
  {
   "cell_type": "code",
   "execution_count": 44,
   "metadata": {
    "collapsed": false
   },
   "outputs": [
    {
     "data": {
      "text/plain": [
       "333"
      ]
     },
     "execution_count": 44,
     "metadata": {},
     "output_type": "execute_result"
    }
   ],
   "source": [
    "day_two(day2)"
   ]
  },
  {
   "cell_type": "code",
   "execution_count": 45,
   "metadata": {
    "collapsed": false
   },
   "outputs": [
    {
     "data": {
      "text/plain": [
       "u'289326'"
      ]
     },
     "execution_count": 45,
     "metadata": {},
     "output_type": "execute_result"
    }
   ],
   "source": [
    "day3 = aocd.get_data(day=3)\n",
    "day3"
   ]
  },
  {
   "cell_type": "code",
   "execution_count": 54,
   "metadata": {
    "collapsed": true
   },
   "outputs": [],
   "source": [
    "import math\n",
    "def day_three(u):\n",
    "    uu = int(u)\n",
    "    toto = int(math.sqrt(uu))\n",
    "    ttt = uu - toto * toto\n",
    "    rest = ttt % (toto+1)\n",
    "    d = toto /2 +1\n",
    "    return d + abs(d - rest)"
   ]
  },
  {
   "cell_type": "code",
   "execution_count": 55,
   "metadata": {
    "collapsed": false
   },
   "outputs": [
    {
     "data": {
      "text/plain": [
       "419"
      ]
     },
     "execution_count": 55,
     "metadata": {},
     "output_type": "execute_result"
    }
   ],
   "source": [
    "day_three(day3)"
   ]
  },
  {
   "cell_type": "code",
   "execution_count": 70,
   "metadata": {
    "collapsed": false
   },
   "outputs": [
    {
     "ename": "SyntaxError",
     "evalue": "invalid syntax (<ipython-input-70-e184319d099e>, line 2)",
     "output_type": "error",
     "traceback": [
      "\u001b[1;36m  File \u001b[1;32m\"<ipython-input-70-e184319d099e>\"\u001b[1;36m, line \u001b[1;32m2\u001b[0m\n\u001b[1;33m    r1 = [1 2 4 5 10 11 23 25]\u001b[0m\n\u001b[1;37m            ^\u001b[0m\n\u001b[1;31mSyntaxError\u001b[0m\u001b[1;31m:\u001b[0m invalid syntax\n"
     ]
    }
   ],
   "source": [
    "r0 = [1]\n",
    "r1 = [1,2,4,5,10,11,23,25]\n",
    "def build_sub_ring(u, curr):\n",
    "    # u contains a construction from the lower level subgrid\n",
    "    rep = []\n",
    "    for i in range(len(u)):\n",
    "        curr += sum(u[max(i-1,0):i+1])\n",
    "        rep.append(curr)\n",
    "    return rep    \n",
    "    \n",
    "def ring(r): # returns the next ring from the previous ring\n",
    "    n = len(r) / 4 # this must be the index\n",
    "    rep = []\n",
    "    print n\n",
    "    \n",
    "    curr = 0\n",
    "    vect = r[-1].append(r[0:n]).append(0)\n",
    "    rep.append(build_sub_ring(u,curr))\n",
    "    curr = rep[-1]\n",
    "    \n",
    "    vect = r[n:2n]\n",
    "    rep.append(build_sub_ring(u,curr))\n",
    "    curr = rep[-1]\n",
    "    \n",
    "    vect = r[-1].append(r[0:n]).append(0)\n",
    "    rep.append(build_sub_ring(u,curr))\n",
    "    curr = rep[-1]\n",
    "    \n",
    "    vect = r[-1].append(r[0:n]).append(0)\n",
    "    rep.append(build_sub_ring(u,curr))\n",
    "    \n",
    "    \n",
    "        \n",
    "    return r\n",
    "def day_three_bis(u):\n",
    "    uu = int(u)\n",
    "    r = r0\n",
    "    while(u > r[-1]):\n",
    "        r = ring(r)\n",
    "    rep = r[0]\n",
    "    for rr in r:\n",
    "        if rr < uu:\n",
    "            rep = rr\n",
    "        if rr == uu:\n",
    "            return rr\n",
    "        if rr > uu:\n",
    "            return rep"
   ]
  },
  {
   "cell_type": "code",
   "execution_count": 69,
   "metadata": {
    "collapsed": false,
    "scrolled": true
   },
   "outputs": [
    {
     "ename": "KeyboardInterrupt",
     "evalue": "",
     "output_type": "error",
     "traceback": [
      "\u001b[1;31m---------------------------------------------------------------------------\u001b[0m",
      "\u001b[1;31mKeyboardInterrupt\u001b[0m                         Traceback (most recent call last)",
      "\u001b[1;32m<ipython-input-69-7079bc79a8dd>\u001b[0m in \u001b[0;36m<module>\u001b[1;34m()\u001b[0m\n\u001b[1;32m----> 1\u001b[1;33m \u001b[0mday_three_bis\u001b[0m\u001b[1;33m(\u001b[0m\u001b[0mday3\u001b[0m\u001b[1;33m)\u001b[0m\u001b[1;33m\u001b[0m\u001b[0m\n\u001b[0m",
      "\u001b[1;32m<ipython-input-68-ae12436fc3a9>\u001b[0m in \u001b[0;36mday_three_bis\u001b[1;34m(u)\u001b[0m\n\u001b[0;32m      6\u001b[0m     \u001b[0muu\u001b[0m \u001b[1;33m=\u001b[0m \u001b[0mint\u001b[0m\u001b[1;33m(\u001b[0m\u001b[0mu\u001b[0m\u001b[1;33m)\u001b[0m\u001b[1;33m\u001b[0m\u001b[0m\n\u001b[0;32m      7\u001b[0m     \u001b[0mr\u001b[0m \u001b[1;33m=\u001b[0m \u001b[0mr0\u001b[0m\u001b[1;33m\u001b[0m\u001b[0m\n\u001b[1;32m----> 8\u001b[1;33m     \u001b[1;32mwhile\u001b[0m\u001b[1;33m(\u001b[0m\u001b[0mu\u001b[0m \u001b[1;33m>\u001b[0m \u001b[0mr\u001b[0m\u001b[1;33m[\u001b[0m\u001b[1;33m-\u001b[0m\u001b[1;36m1\u001b[0m\u001b[1;33m]\u001b[0m\u001b[1;33m)\u001b[0m\u001b[1;33m:\u001b[0m\u001b[1;33m\u001b[0m\u001b[0m\n\u001b[0m\u001b[0;32m      9\u001b[0m         \u001b[0mr\u001b[0m \u001b[1;33m=\u001b[0m \u001b[0mring\u001b[0m\u001b[1;33m(\u001b[0m\u001b[0mr\u001b[0m\u001b[1;33m)\u001b[0m\u001b[1;33m\u001b[0m\u001b[0m\n\u001b[0;32m     10\u001b[0m     \u001b[0mrep\u001b[0m \u001b[1;33m=\u001b[0m \u001b[0mr\u001b[0m\u001b[1;33m[\u001b[0m\u001b[1;36m0\u001b[0m\u001b[1;33m]\u001b[0m\u001b[1;33m\u001b[0m\u001b[0m\n",
      "\u001b[1;31mKeyboardInterrupt\u001b[0m: "
     ]
    }
   ],
   "source": [
    "day_three_bis(day3)"
   ]
  },
  {
   "cell_type": "code",
   "execution_count": 66,
   "metadata": {
    "collapsed": false
   },
   "outputs": [
    {
     "data": {
      "text/plain": [
       "880"
      ]
     },
     "execution_count": 66,
     "metadata": {},
     "output_type": "execute_result"
    }
   ],
   "source": [
    "905-25"
   ]
  },
  {
   "cell_type": "code",
   "execution_count": 57,
   "metadata": {
    "collapsed": false
   },
   "outputs": [
    {
     "data": {
      "text/plain": [
       "u'bdwdjjo avricm cjbmj ran lmfsom ivsof\\nmxonybc fndyzzi gmdp gdfyoi inrvhr kpuueel wdpga vkq\\nbneh ylltsc vhryov lsd hmruxy ebnh pdln vdprrky\\nfumay zbccai qymavw zwoove hqpd rcxyvy\\nbcuo khhkkro mpt dxrebym qwum zqp lhmbma esmr qiyomu\\nqjs giedut mzsubkn rcbugk voxk yrlp rqxfvz kspz vxg zskp\\nsrceh xdwao reshc shecr\\ndcao isz wwse bbdgn ewsw qkze pwu\\nlbnvl lviftmr zqiv iadanl fdhrldn dlaani lxy dhfndrl fkoukx\\nraovmz pdysjsw hqps orsyqw rrwnzcz vrzoam jjljt\\nwgt gzi icpwp qeefgbe msadakj jbbrma sbj dufuujx zex\\ncfzx bvyu eswr hafcfy klw bgnhynv qrf aop\\nrzlq atrzcpb hpl pajjw cdxep ean aptzcrb rzcbapt\\nxogpf ucc nsukoz umtfbw xfvth ozusnk fopxg ubp iflb\\nxot nqcdyu kpwix szo cyxv hpmp hwtrc zso nyuqdc aha\\nmkzf cat tkjprc izxdggf obspan lmlbg bsyspf twox\\nlfmfrd ooclx tcl clt\\ndxvnyd nxwojj arutn eyqocj swzao tmh juvpezm\\nteu eman rlmdmk xkbodv fvrcm zorgy wmwe\\nhmo fdayx duciqf cgt duciqf\\nimjnv vfmsha cyrusow xjswoq nclrmjy sjxowq ynjrcml\\nrwbsay alsi bmzpvw ozq aduui nihwx glwdiz ixmkgfx\\nvtjzc ntkh zekj qrbkjhn zekj lyfnbg\\nafaig jqhli oie lhwyduh kqfnraz nfrzaqk mayfg iljqh\\ninb zum zmu dnl zjxg vrdziq ypdnsvt\\nuhbzmre mpdxm alkbmsq aopjmkl mqxenry ayvkrf zxvs qkfqva\\nfimjr ccv cnug crdsv\\nbqyve lhxdj ydu qbyve vihwjr vyodhc\\nvmng dyttyf noagpji tdtyfy ewiest ogg\\nkgscfj klmsv vmksl vmlks\\nqlvh veo wruft wtm fbrlvjr evo wvwmny dhp bvrlrfj lvt vgzuyyw\\nmxuro orxmu tivu tjdq ojjvju cdd\\nkjexme gxbysxp yxrum hinrklv fxehytd qkt tqk umryx nim\\nkywnux wab tzrft dsaz jgwuw dubarmi fle wjguvr umjp uzncwj mzz\\nqokwh zrda xywufk tbxhhj eejqaoa hwoqk zer hwt hbjxth xyf hmh\\neregs qdx tdequa agrlrg mwwpba qjie yrjvhr txujk\\niyot fxwdcb zvwfv vfzwv wvkw ncwbr wdejrr ltcdza\\nwaix eza znmonya ldfghws ialwfvc dey ubsz uhbnh svgekg nonzyam\\nbryz tfbqn xznfmw xiplgww wwxigpl jxzcgxl rzyb\\ncqvl rrcoqxs staeuqr hzzow cwv tsvol dio coc ddavii uuojy\\ntxbn qvkkyh gbqnjtq ndpkqr srt bkpqfmm ytycev ypcv bpqmmfk\\nuqkjmul dour zgq ztango yrrjhrg ufxnmuw\\nekxbcv vkxbec xbcevk jiq bar\\nwczff qdu cwffz hhk wlvyg\\nzjlconc osgsro dajzo hqih ehml\\nhnio shccluw cpu ivaby tormn vkef abv vkef ivaby\\nxgbdeso xiizs omqwy sbtnnt khago evviclw xyu dtvg wsyxfuc humewp\\ncnzu bia vdyqrf wwb qveum hmh ouupgc owli\\npjpmfxa dvd lxgh ndy gwph oebfkqv vtlxdg efl ekj dyn\\nmvan nmdkc ucyshia mavn ecst poo\\noybm pjwm bmyo wovgu xykziaq obmy eiirhqd\\nxkvomx yxvv oxxpth elh vxvy lhe ycn\\nokxglw gmaangx gnxaamg yduzrr nzwxtnd rcxcu xjjvno yat cin gaxnamg yss\\noicgs rrol zvnbna rrol\\nabb edpnxuo peoudxn bab ceay\\nncpkfz gvwunb fckpzn caafx pkcfzn tsfl\\nfnrt ymenkpq wodubcm niv nvi ziluu cuowbdm zocg pdakwt mlzxkex nuxqclo\\nuouxcgl stgua otadr ideannq wizxunv iqsdpj mxddt ldst ucxogul\\nrbrwyhk wqoz zqwo ikwgexl atpu iza\\nsmo yolp pcahlu muljxkq cbkljmz zlbcmkj zvbmgz eaiv ncv zplifm yplo\\nocutdhz zmnaap llgv llzpl loavju guzkfq saay rxyhng cwxzx lcv anrnzs\\netyzx tcm upxrtvd imyoiu rdpj fed dmm\\ngonqa szteh szteh razdqh phyff upf knfqfaf knfqfaf fpsgl kakag\\nmcju mixskop isrwat lcr nfyi lcr aaevr nfyi pqrbk gnful\\nxfmr fkmnq fbnhd mxrf litniid xbae frxm zcenf\\nyuh lzojtj rqsh hyu\\nvbjgql yeshsuv lokt efqota wpwjfu ykyq rxc fxxh ycqfkk gndts vdf\\nwnylmr kkuruxm azr xukrkum dohkwx dmdb\\nbjiyrwf dvf fdv vdf gnokekr\\njsaq hcww iayqtu llv gdpxdrd hwlo nosjit wpm lcab fcgwr\\nfxjp bys nnf xzllckh bys hvojw zcwtgwz wye ccyvjv\\ngrafa hbb ghk wkdpsf ufa uoqmysd\\nyvacf kssbff iovrm mvrio cfbpb avh zzje\\ngqd qmsen wkvrfz vhtsa zrwfkv gul zkvwrf\\nhrbi svaogb aogsvb bgrk hibr jbtkr\\nljl ryc mrewrge yky\\nfcqyymt emk qcmyytf mcfvusb luy qany cbsvumf\\noknt mcozuc ccmuoz uoccmz\\nuziil xobutwf acnof iqgwl diso\\nsekq fxbtsuv ddnnqg rnemlt dngnqd hhgjfus stxvubf\\nlajcp qgiw fyz blrlcd pviwv buh wnkk\\nwolqfk nvpapfc rwcqxfz xobno yzjfz irpj wolqfk wbnwjt\\nvmabj noiljne hhqf holxkbk swwzx ylgj lnmxy lqodhk abjvm bmsrf\\nbpnp yrz pjepxxs jlmhuy vihlx zacm inuazhc xsxjepp\\ntryl kryh eonvaad ucevssk umkxg lqej nswopjj svkeucs bmh stosxxz\\ncfdwd dmfdrvm ibuhsz nwtgmb pjt dmfdrvm cqdcm fzjjz afa ibuhsz\\nerwp abn jwx ynmkkj rhgg abn epd atqhs rst rhgg\\njtnp cegdsoy gfuvfbg gdmn ahlsc\\njgrp diu jrgp onjnml nojmnl vxockc\\nlakqyuw khq dcpiwt ykwlqua hkq plklx ujbckec hjcvur jnp pvyf\\nusuvoo jkih ylafyy yhio jureyj\\nuazisdf cnwlfnf ewodatr woaddkd wbla qmn atdrowe\\nbnyepaa ntqh xppe ydtsw ppex\\nyewjwsp jxylmtk ijese ewry ijese kbja nfml zeuwcsh juimz\\nqbvmf nca zsfreo uurgaiz twe fbqmv ncwi etdcsk atowfp\\njeotslx kgdpzp wxlcww pdd dcn ddp\\nmacllv ldl kyluine lbt hbxbr wxcaspp ezwvc qxkeu\\nivg gxv zsf ucr uff yrz\\ntdlwbny bqlrlz tbynwdl lwtbdny\\ntnekq pdaievs ttwpfh xfm fcaa\\nzqqhl zbf fbz uqrv bfz ffwavhk foccg\\nvcw ebqdd cwv eddbq nrmq\\nhpiusz sizphu xzq sgyehk wgagkv hsygek\\nvagkxa iou frqdnnr ipcg uxvh vvh eskf katgpiq aqktigp gzvseyi\\nxkwgd kzfxk pgdy fmtvq ngf rshx zti pamviob ely knz\\nhwo rteohu qzwoe rotuhe wzb\\nbsqgg tid dti gtats dit\\nsjtux djwxv dljwjq xwvjd xnqfvx veqdrtl uxtsj nnkjn wnhilaf unirrp\\nfruuqjk gtote gooklg bzwhim zfnccmm ezipnf cxwdxa wfu fdca\\nzcyxb byzxc cxbyz pgcqco ivlxz\\nwrjh zfdinsf ihw xwosiah hdg xpiabno bilyy azdeczg javuwa\\nrinlv dcpt qhencba mmb njxw gadc\\nqwcpua qzyzt cxjsgh kumh byiimas qhsgf qytzz rqqruwp ismyiba xydcxz rwkscqa\\nxbzefi hltca ibzxfe fkx xizbfe wvaynts\\noyuce vzk ouxvj gfh efgbv ubc nyb bxnbhd mtwboe whksy ovmrt\\nljrebp tacn bpjler utphw wmfw rcnha\\ndrdnic eyodes rcnidd yseeod\\numxmsf kfroz ukhjin awpnnnu ooyyohh tuv rafano jze\\nbakz lfzpjyg gfkqcgn kzh zwpvk gqfngck\\njpaony ojpnya hmro xaaz tovary aaxz iel pbg\\nswvbgc bbhjp yvrcddd rhj clfu eao afrkegn qvvb yvcx nxjmdo rcvtx\\nconbjy jeqtri wvujt jeqtri rkhllgw tsdt zowreo qxr qbpragn kuzmplw wvujt\\njrpxyp hchljy rkowqb eeaf ltllebb gtksrwx iazx vnsfmc zzrxw hlcjyh\\npiehb cjdzt eqn kuje rls oaewoz lrqwt lcrrq\\nhdjowxv uknhlv hluknv pokxg\\ntxiqxfr fyyp pyyf xfxtrqi tvm rtvby cfx trx nwrf kqrxtat alwot\\nwdaadr stexpow ardawd uejqxc\\nwwgwjel wwgwjel mtjt wwgwjel\\nmczx uua lgceb dqru vkcea tcet ruz\\njkt yroojr qdrtdu wze ovwz fdmqnr xxsyfd kchytwl hctlkwy gyd\\neif irnrce iamhxgh bmis uxye azrwdi sznv yuowb vdlqqxu\\ndxdjyj hngqwzs yhwku qhsctfe rhbc rchb tqhcfse\\nfxyxnzs qtxevin rvtxtc iqnxtve\\nzgbpk mwzxx bgpkz wkpkn\\nrjiym iub lcyw agbtlb bzhx osv rbtf\\nemmyu uoflio tinih skpqaj rbor gezbhhv ine mij qlqte uuj ycns\\nowmwc uhxv pyho ftjh jzsg blqn bszyo bob trbycy mkru\\nmwgz bbqsmpp fgzs bihhg bbn pjxxexs qrqmt htsxfwo qltqp vqqaxi\\nlpr wcvy sxjqq ltd rftdgv pdnog ymu\\nqhcos shuy icdhucu lrikh rwslv yxbgibl rcomhn wakirz\\ncivdmee owlzocl vedecim rogmjnn pix pohcmk dsjm yworm\\nvzdpxp lvt inufv yofqt omm qfoty qrlseqy amkt kjcvg vgkjc\\nhuhq quhh levzsws sjuun ofgqr cjhp nfxbbft rnt wtbd tbzab\\ntjftkx xpfcv hvftvhw lpypbjg batrn fhwhtvv uthl arbtn brb sthv\\nogr uyuxdco bpjgir edztxv sxtgu jzfmx ihnauz zwegqkr kvkw\\nmhxthf pervvn gshy jig ezjteq ckkcpy gww\\ntiljyki rpe prcojy tjkylii moxu\\npjsdqc lgqydfd lohck emrtejw axwmo wuuv rfi qzyncmw gjijdfb bljfd xrs\\nywjab gynzi relf kziy xmsby izyk ocwoho kqnyh bwayj\\nbhjlz uonz jhmzuq eiajoos zjnbj tomj bmyv hjlbz fgw jjbnz\\nkszz xzw xzw prtznyb\\nghzk vxhwt thxwv slwpayp qxegmi dawdwo kgzh\\nibpcvuf wnuwxu sbf jsj bfjynl cdp jbylnf\\nepaxr vfhf hvff azepadz pwf sbo pgfzya hslyo rqqj rmklw hwtta\\nyyolko pwbvxvg xdwl yfje hftep kzzsr kho jeyf yvslxpw kfyv\\nxmk juyjxy eqno mdwklum reg dgn cirh wmxfyj bnxlgo dlobk\\noyv gshqyot jgcqe dsf gyohqst gqgeojo egoogjq dmqpyp\\nsypianq yss lmhu ulmh itilh ndkda lhiit\\nqbxxl bxxql ikald nfap qixwbqq\\njtqhqty ljysnl nwoj toa bmmyj pal\\nahktew sxody nkvsf pbxyt baws wgwfwej bevgzm jus hcvajfy kzrb jwgwewf\\njzsb szbj ujngwf nfuuf lfiuxdu uufnf orsy\\nvgo hto isstyul gau wsmxoqw\\nuxw itwf epaw hec wape hemol rpwyosc xzxmrll eetz zui kagca\\nmjncux muv rygdeis rygdeis\\nqgkqjvf iprzibd fkvqqgj llcrl vbh vlf lllrc zwrunt\\ndslsa wvoex eqbwj tjem gbx ayn xcan fnacl xggxon gnwjlh\\nyzosv hcxjiz yvon gcgd\\nbixpny ecln sda eymt bjiwk\\nrlcad lrdca adoqfzs rgty mds pwb kmwj\\nwkai pmryffq rrdmodc wgyx taz yxwg nkap\\nauynzwc vzg uapdv qkrh\\nldmuysp oyu kpn ejbl mfifa bzs hwyn brlw qpzqx uyilao ysdumpl\\nczoxoj pwnultl wezolbw lyk aonesgb\\nnqy nhb nle yycp lgtbo ojf dytwyh ufa\\nrwr eph obg peh pejret prjtee ovgz\\nvdqf vdqf ycjrg ovzl lelbe vdqf\\ngvagdqm gvdgqam dmb zaxe nepzwn\\nemwh bkkbgec qwdgk mhvfsrf wmdfpp ekzuua\\nmbqw lgkyazt ckyhvnq uladwo owt\\nqwiwd pbo tkjoqda zapo dygqopv zzdlwfn\\nqty dhb iinncba ytq kvh idgoevt chx waq\\nulffsvk vplsz ulffsvk uxsh cpwgxd ikgcacx nrirke uowcjvn\\ngknmxr grkxnm fco dilyyj grmxkn\\nsaqxkh uhue nvu fef xsuxq ekyyoc bcaavd\\nqltwqa vrmpv vhra nof yprauc vkreojm eaq igiy mec\\nwvheiyg uthy gpvcs nhnjrne mqaejr tfnsly zfbhn entcc nystfl cpq\\nzxv jzk dwsjgrd gqqxhp xqxu naunwc yeh qzpkz awcnnu aoosa icadax\\nvpmqmg qmvpgm tqs mvpqmg\\ninehzu zwxeoy jxia fcyzxc hwikd\\nbzwnp kamsen ajpn kdls bzh xqcb bzwnp cmjnfa wmgx\\nhbuhc qgvhxy smzkxh zzebox hbcuh net wyrdppc yvgxqh\\noeum oemu iyags xaipdi euom\\ntqljgoq ghtdhw xhnni lux qltojqg lki zxztda pcqjif acpzvwy\\nydijaq kbyjxpu onyd hsfgz geqvbg\\nrwoih xog dtbzyr ryzbdt tdbyzr\\nvcdxf zosw pardxfz bmb mscmain lwfc jvq hbszcqh fxomsmm ahnugx\\nzutsemg pqzil ddv nsstz gmeuzst bedvy xkzzjpw xlqbd\\nxxf ltnnu yeb hbml agj meovtjr qrul kexerkw xxf\\ntqrpd hhcx bmdv nlmr pnu pajdtc rpatqi yekedx oeiuew epsshog\\nttbfpv plairk toh jagfsg njnqpa tmwh vwqp irtxv\\nvdky uwc tkkkztp vdky vdky qlcw lza\\nrzie yundymy pwgx wtwtbg kpiw mewnb liveysj uvsbn\\njgfvyny hacg pzra arpz uowswu puzsfu hoe heo vrq naup\\nhqv vrl uko qgpikho lligvxa wdld qgpikho\\nwhvby yomxwj dieffc jkprinh dsaqy yfrnba woyq yexeb mjn cbszn xeswvvo\\nwowtgu rciyg rlas bra quyfec ihe thuu asxhscu bsbdpbi ogxosu\\nvydsaet tvnkjq piedkzj foeiqz zqivt iatsju tjnqvk drauaf vqitz invoz\\ncppn jqzw zmxr qksuas iifmjg xtkgf cppn cppn jpsd\\nnkifpsq cxdx bokxhm ebww kghagrp bofhrl grc cheuzyj\\nibgrlvm hrcx jjuoh ipmt\\nhcoqkh fzt rgravb cimauj jxjq blct qhc vjxw pqpg qzp\\njycxz xcv czxjy vxc\\nliljaur cgmg neldxb xfummcq yfhiukd dnqhl iolxn cmewhb\\nhpvoihj fkwokod txy uuktw vmqqb dpldzh yxmcay cyaxmy xycaym wekr\\nccnaf wuxc ecadb vbgpt ccntf sezo skjdkbf fnctc\\nhqdtwho kdhyman bjtcjvr bwllva ncyffyr\\nxprn jrrvmj pdw yvexm ewbflbe eapml rvrmjj xmevy rxyzhf\\nwjcbpy qdgtcp cfjh muww fhg sgfdleo nelpte yucqa aavev\\nrci vqypsqt xmg rzii\\ngramh wwprtc ampdhw dajr\\novrm mdyhpbl mdylbph aykz\\ncbmo fxs nuugu guunu upt ljjuhjw nituh utp kxqc\\nrhabal rhabal rhabal vah lfrs\\nnrq qway ftzp rtjcks mbygdtd hsiqbh wypqb rtjcks cllp hsiqbh\\nywa anhcf nvd puqkwg molrwck wsctx xvd molrwck\\nwox jzq jfen wcvus cswvu oxw irg lmu tpj viahm jesic\\nqenad neqad smlgi ydwzq ppdemvs ucyuf qtunm eoqx jlgv\\nsucpl nrdwbl ltvetok npbw ozzw hafyay sjmui sjmui jkqlq pyn pbuopx\\nnxgaiu ybyl meo kgh saqjaz xhbqr otelcyp vkwc\\niqrl ldjlwvl ajhrl dnhutr gkknyqs mcvluet fgyu ogiz cxo aiunl orb\\npsd cyq xpoyqny yqc kozqh vonfd uhozwz pds hcpw\\ntvaxder tulwmw qiw avddbmh irog vynjzcc refx efxr emnvk\\nmyjx npqk whm egw kpy igrrohg ukglx ldnuqw caqg ynx fckhnsh\\ndafv bkdoqg zcqvbco xgikoac cvbqczo\\nrtzhpwk ukuyp bayhzp upkuy ahbpyz\\noarcuv pnlkxvw fqdkj hwzsz nauwl lpufibz vzfbgc unkluxy rwh xuknuyl\\nvxhsaj ppdxw qrswqtu ulwv uqtqwsr ppxwd\\ncww cww cww scu\\nwiiikwa bfpewt zbgxfkl iqpk tpbwfe aazdcxj ipqk icggn fwn fjr\\nnet ovxuwpz yvzmzd yvzmzd\\nxgar czuhp vuhisaq fgrqxy evvrtf mnmar lsk\\nhld mxuedug itswju vmmejqx snzslqj toe bbmugph mgubhpb mowj nrjnzu\\nqbz ouhye hsldmp lcf hyhlrb ewvle zko\\ncke mupaq quapm eck\\nowu zdt lales tzd apjjo fhpx bmuktbw dvehpz\\nlibvl zxypk azazc vtsom ohdzycb\\nkiowxnc scxygrf ckxnwio ycxsrgf\\nvcjj fqz lfawfx mps zhv qykch vhz psu zud spu fnpvkx\\nscfvum fuktgk tua ieosetl wwmjtt exnsw wwmttj plvd pfb kku pdbom\\nwkfw snukd wkfw gyaojdf bjw htagy cdsp\\nbeh gatqxcu ibrooxr ssww orrioxb eenkqz\\njlv affah mtbemf tylh aafhf\\nzqfajd uwzrw csouuip qzadjf\\ngsnlrw tcel hha tfbzrp ild aenqa\\niirfxef kdux yvj vbzgj\\nibx pfll rgkp nancij llpf xib gbkfy\\nuvw kkbavj pznsnk okigtxl ogitxkl eobbs xhaz wroabn ltogxki\\nbivdf lotvmoh vrb kpaeeue tdab qhukcb qmy kuqf kesu\\negs hbsfeu esg twxko uib\\nocraimu qilp ijmx eco nhevqp juxf ksejr bcqqau uhpt\\npyx jmpglf juokd dxszjw cml vcjge pfg\\ngxwrt btmimse dkpbha idmz mtignka ngakmti\\ndpjhm jyalra hukf imocr lkgt rqywn quhe fukh\\nnbau xyc bdh yni xaawxm cyx xwaaxm akx gyodqe htbifc\\nbywdxe bfrp rvb rndl onal jghiwb nuta aint qlciwcx\\nfpic yrqce land soxhci qzc zoebsq hcdohcc fzhcl iyxb dqinum hchdcoc\\nzok ghgp zok lmk\\nozfz zofz dkdekzb sqc\\ngfti zuqvg cexmtyl qwuqnj stepb erduqhy cuoizcs qudyreh kqvfdd guzqv\\njrugz jzugr lmqu jgihgo hjfbz duxkn unxkd\\nckiys dbqmi ckiys ckiys\\niylp uvvdp pluifaa djo\\nesxec rwvel djxppqf jymwt ilm aiz upn aiz wrfefwi rwvel\\nnitgjr pokxuy puhdwg qtxpb veylp zqvzkbd lrvpcgu zuy rnigjt ibci\\njboyzq ogcldr hlon ywav jqqtz qjzqt vyaw cok\\naqdw jxn hqknh azbylg\\njya qpxtmsj hqrtsgg qjtpxsm\\npofcs sxw dlvru dlvur swx\\nyphvvb qqyyfsp sjkbff dqyerxe jxzes oof\\npwbya txk bbwsj ywgimd kmdpc bawpy lbnt\\nbkbazff ldmaq tyfl acqurpy ndnrp\\nasw ctiv mnxzyc weeuwb gsn bzk irbyhxl cgqomj izy zbk\\nyrxcrbt bcrryxt pofe wwzl\\nvuaqez kbtuyai vuaqez dxqud uvo gmhtg dxqud\\ntpzs gqdxpxo zzpgta uurjx xpqxodg\\ncil lsv vznqw vro zqzvjhm jhgauzw uxnwk lci zpgpu frjvyzo tsv\\nzfvcuim gwn gnw dxfppok\\nbtb goof iwadca aac tbb jha uvzi\\nqah ned ipmure kyta ffhrwe njz paq kaag xmlui\\nrkmw vrblwyy gpax hxsf zpbza gypuwf jbib ypcjwd vrlybyw\\nyfjljn uxpvg huik jsnah nkhsg yfjljn lqzsz\\nhagjlqx agnax jqalxgh rvjgtc mjrmph azznzcq gxajlqh\\nipki bhoabp rmiyl dmjyxl zzsmap aju\\ntyjrr rigrf ciq qic avmwu jtr wpq\\nvuf cosgytm toycgms ufv qzpcbrs\\nepzgxr lydrsj ezxrpg expzgr\\necm prj kmak makk jpr\\nccwyq txy okj matxa socoa\\nzrjphq gigayv ywkfmru yrwukmf fxjjrha gqkxx zhjy tisutx kufrywm izjfj igg\\nlfhgsro gsroflh wrpo lofhgsr\\nkgkgj wkhnab ubrjaoa ubrjaoa ubrjaoa ggdgh\\nhztutpn epnqmz ffcroq mnqpez niibpn kdloak xjui ozttj lyzsc pzgq inpnib\\nkruz sjqp mmd hhdxjgc mauouma asevvo upjwqi hxcgjhd etqzagp\\nzylf qime cho oraid svytv gqrjufv mker cho vnkyiin tjms\\ndotjul qyv hnh cibtg gdpauyx wzp\\nfabtira ejxoeor cqyethv ndjrq hnxn joq otng lrr csytrub\\ntxhgepd fwdaanm nawdamf pxine qqrn pronw exnip qwkimt rvy\\nkuxzhi jln urzxtw rzu ebsuylm tscru qwlhfgq nnu nuchvz vuht\\ncqgu camlr umkltcf stx izp rtdwxff wkfvs\\njhje cxix lefcrsu nebv idfzhic xqri xkft\\nutzxb znb ietupd uqgbhje aobip oawjwm hetyan uqtqv hpwzyri kwxyu\\njvzvbt xuyvp aegdkb srbw bzabpf lyfriez cruyfu\\nnhi nih aeb ihn\\nhcf zypt djcm pkjx pvhh\\nrhvxcfk exydvk ids hybme hnk yfchvs mjbo meocn\\nrpboxr rxoprb hdzje zhedj\\nziildbo apzvatr vsv isndq ebxyy ntm tdttg wkvdh qnids vkdhw xxolip\\nywu uyw ipcjz pjzci xjn kvgk vsocprw\\neuzo njlpv ndrlhi drlnhi ivmjkb fjrtxta skvgmrd\\ngbyvj dkck gevpfvb lhadhx rgjcdn yraxh bdk oen vqryd bkr\\nvgkp hncttxb wgxh gdyjo bbdfzvc xhgw rznzgda yxrrlo gxhw\\nifjlb fpecyic svhjp ilmj oxgr svhaf\\nvbqky lhccj xtmm xzjyykn oqmdq qywir bswly\\neuxxziv totzer vsxfx leo djho uoeaz edaig fbu lumbi\\nooqtwq pvo kid vpo jxin bod btqc fbyuz\\njhabi mronu htqqyz umjcbv sgnbp wyn cetmt pcjf\\ntnrkcyl dduuhxh rylkctn pwj rtynkcl mzzfomr\\nrxx ldqffi ulappk nltawbn tplhb kyb cqyi\\nvzkw gviooah vxh xeae ohvcad oaiwcj dkx\\nsdofdjt hcifv dqws sia mlwm vfich kavh myzue roops mzuye\\nuxs nlbmjp nlbmjp tlaxa tlaxa\\nynnisp twx xtw jgkc yinpns\\nkumorsm wav xhx bpvz clqc ffmadzl ndny ymslo lobv\\nljzabj tqhves mezh pwn wue dwfqq lynvtt boeknvi xqbd pkud tzlanis\\nlgq qiikzl oihnsr pivtjmu qhic yvmeebg rxu qgl yuxnqse dvu faxqez\\nldk mlwja vmdqr yzlxiua amlubt ejmzfx nonm zhkxbn gaqbnqq\\nttc ctt kneknx smtnaft abljip tct\\nuybhbiw zwojzlm cfxoopp abulenj znz zzn opllzmm yufk witwxzp\\nqvkybwi rdbxb qiuizmo fqgne jgot jxz dqhapn\\nvzinf ehaley amnk laheye invfz\\npedakl ivld agzyhr wmzba tzzzg bazwm wjwgux thrnxkn\\ncmyhae nwfs nfsw kmh pxkaffq\\nvdf szupev tyunp qiiu deevxmy wozvtt nelnr kgdexy gparqj hajavz biizn\\npwspk skpwp ontbjee pkspw cfbj\\nihsmh djxtak wkzllao oyr djxtak prc\\nuhvihqq jrgf hdfek pdrfpt tghz gthz awae wcygi wujti svq fhedk\\ngnfhsj odqlt netmsul rviio nkzw nkzw\\nxyvc clxw cyxv lxcw\\nduegck pkviu npwsp zdx wpvn dmxgnv ixv fybs xteru\\nvih kgk hads boaddu daiwo hozoufv nef vtcplc isiw\\ntzqoo dqlgvno jzlay sywx ecej addt ecej addt mnfcu\\nymgmby zegudpx ipsjai ger wcwjw brzebb\\neqekxlx itra xekelxq exqkexl\\nrciu ojaa ircu nxjga puvmwou remgu\\nsltth pprimb slnxopq avtir hvpv ppww fhfap wisn kzs jcuuuuf\\nxbppc ydpbq zhjh oym iljzvk vsb\\nueye shtps uccehi ccheiu dqm yeeu\\ngwywf lcpv qza qza gzuovj jfzffyh oybfxqv\\naawi ynsvdco azdoz cqr tnyquq xlyvbx eca kcalpes\\nzumgzhy rou kguqa vubw bwgd qprxcg etnbev nqmi\\nfyd tuoz uwclqn cgl lrpkf irz dizv nxze clg jghx jbpt\\nkwuanos eorjr tcahp kwuanos cyrpfji zxayggd kwuanos jkqt qqvbork lizk\\nvtu ovje vhg ovje vtu zcy hrhtr puawfgv\\nbliz exp wot svxv epx\\njiqgxwj yips hjsatc jgsrno msfp vxvbt bba bqmw xjgpgog\\nvpvypp ggwp wggp gndp hedpse afji hcqgof\\nhxueubt hiynoa qqzaj ohb qway\\nakq nfnes sdrlza nfnes weq\\nudxpdpx gctuv llhxuow rqtetm hdbnpte oebapv civy oeobu ftgivd pykj\\npbgbvn jgmr xrz dfn gosjobw ndf\\ngnf dtbsnc fwcmml tscdnb fgn qgadusl eifpk\\nvmnv yuxrup qcphi tanc tnca kjrv cphqi\\nhclggs sghglc fgplp odn pfglp emkrulf whwtmbs qnuyg\\nwcxtr ani ain sha hsa zxbkf bzxokat qezo ljqxi xqcwfmd dxo\\nwaiq smpbu dbyka uibxjrg nze wiqa rfpts ddjsjv jqqjez bpusm\\nlpcxf vsbj owjwc tuqj vkrgrh jsjdepv oil lxrjox frsxsi clr\\nvzunp prwk nnd rfs vpuzn\\npqpqv lvsk sqxf nhobsm hakbn ywj\\nxxu uxx szqnmi lnwtmx\\nakq nmlw fupwsth jduvhva\\nnac wwlxqck hpbce vxxqa fyp xvxqa kxwclqw yvlmv bfwi\\npzxjbj nvwv mdooiez vvftp enjrsck iypu uhru fpx omtd\\nllxgp qwf pwaj cuhb scloot hbcu jgp vjw ooclst\\nsisd akawvzd wvdzkaa gyoij ikt eeeosb jiwiup\\ntche vxj sbctqv jvx gosur usgor ibo yqxo qqgd zspl\\ncidd welisl fxblxqk qxbklfx fbdoqcz glhq iylodvz zvds ghlq\\ncnsa hrxst mrnkqtj bptq jmi cpbcofs kveyeur uzmga modphm rtx kntqjrm\\ndvyup usfaq rtghoec bvcos fqsua zohwwg\\nonf vncybi dlaxni oqyqqkn\\nokfwa qyyx ebnv llql nphq etdt ytgivlo jwgwz kiob\\nann vqnqvpx wth lpwid bjvzw xpwqxcj azg ioeyzzp onwf\\nsmy epzomx xep yid zctvrfj astdj cfg fgc eriuxt\\nrljqgin wzobzrh cuwtx vcsbx tmg tuysq vxipgho\\newp rsrnsj wgeyin lrji ddgt utol xxwut fjiwopa\\nupu ftvqbk tfkvbq fdwga rmu puu hbiasjw\\ncfl lmqkb lfc wbtlfi uqsjs ejgmphi tbliwf nzcela gzb\\nzop unwmiu acull mkwh hvruknw rfk mmhaz iqmenq fifino\\niczua bjut tlgf zicau jtbu\\nmtka ipd mdifj kps\\nirqkysw xfsjl tedx yckkbx iktxb sqxn pbfvubv uudzppz\\nmdrn cihat wcext kufs awwtjok pfjg\\nwdevt tyo zzbp pqlqq wdevt\\nyhatqkv ntuhw tdfd buxazh xbcsv bas gkv rbzi tddf jbj bsa\\nmalip hiiy qezz yhii wlfojre\\nzqnfll bssveq lprwbep bhqml tztbt\\nnpnxotu yupdytb jptqo klfydfe fpucmfq svxcqr unopxnt\\ngdpz gwj iytiohu efk ctjzf asade abhotq brmhu tbtdur zzksbh\\nkxft klzslf tjdzciy lzslkf\\nejei ezmemvg xlt zte tbwhz dgnfpao zotck wus uaz gbwbb\\ndgednf vypmbs eiytot empfmny\\nuopmui uehue wdvzt adpfcif mutl ifaztka vydi xumtz orstno\\ndleero olxiq gxnlfm nfmxlg wloeavr olhrwg hrjd yicj ymyeex qav gxyjgfq\\nhevj rqcne zycgb qgqtn rqcne ptfvu yyyu zlm hevj\\nzrkhuh sttnkt hkuzhr vqtu\\nppsfm kcao qjq dgadglx cxaawjn pbucfu fed qgioarc dfe ricoaqg\\nvmawf oktunea zraoir gkt zraoir jcvkqoq\\nmqgml ecawug ugwace szwul iwbmooj owmiojb\\nauggaw cypcuw npci vuyxijd pofswjx vdkrgx xylk rom ksj\\nqmwx jgsrdj ikva xzxw avik\\nzzhcqu rbg pywjdn wyndpj zchuqz\\nwzd wqycftu yldezp zovuy oydia hovewe\\nkfid qkkk thak qhbf rvzlzvu uuxh pbj hkat gow oeqcw knqqzha\\nsua itv hfpg bdqye bznlrk hfpg bdqye kvir kaai ggtz jqn\\nulggl guitamm tkpckso fupacz otxtqpd jxnqc\\nueesb ndyik vjftz jgqqv nrcf\\nkrh dqpmsw fybzynl zhjbvkw exefc rhs neq ldprb bhhvxm pjwirun\\nymavl qwxr yavml wagwc ekokrpq zewppw iumcgin cxdvwx\\nwwdukav kuawvwd kowv dkwvuwa\\neazot bil tzu vdwwbm fvauwrq\\nesq tixokph yspf ztoxfut lgzush pwv swh pwv auqhuu tixokph\\npdbeyxi poio mugfkb brwbbx aao uszw fokjeb uswz\\nsbs ryjr ptispi tvnhu htunv vthnu\\nczjmg hbdjhvi jrkoy fpgwc syafy aar kvnq eaecsb wqzpx\\ntwtp dvl uvyje qtlzj dsvyr qpjnj eyoigx bhgpccy gwn dtuf\\nmxit xunctu vbyks wmqc jriuupl ybvks uncutx nsoxwrb ykt prc\\nyye mgf uhc irowpc dsdv iwaxod ftavlj dxzp tcch tcch mefz\\nrxe xwrrgl xwrrgl duu rxe xbbgoe\\nucsz akswcd ojrmqq cox hgfh lxwu ltnnf cenikcp\\nopjhdp svwezr svwezr opjhdp\\nqojlkl ircxqnt utfmdg fcvr vehkcvt ufmzcpv xwlh ddavv xel bwlz fii\\nrzkayeh iursm zhily hdnq fqydfvt uwoy hptpiqu tdqy bgr xdr\\nymruz umzry hbltwya jhwhzk flh tahylbw bdbaimb qscbp ntkuf\\nuxpato owsqyao vaog oenomkc usrmnc epua vzkppls\\nqxqczbk qyguz alawj xgjawtw wxtjgwa snfcdmz\\nfjfgos rmpd mgs vbk dlls jkljao eoovdfb ucdvaoq qmjmqku ney porr\\nnmcrqz zcoxpk dlnzksd ymh zyg spxss ruyk bychq gsgv eusiuid mnrqcz\\njbzadnx lzl sdamer okoico frqisrm lxet agriw\\nxceoqr qai vahc jjzifsn exg\\nigjpn wfy ukn aag quro wklsq cjq bgtjrdz gmub wyhh\\nfzlwnm mygfn vkzwvw zvhsex gfki\\nijvzgai ebmeq wssfmbq uguh sfuutm nwkgmex dxael liakdxs rnf sky yowpxc\\nbjzkyjh fced nji esowk qxsubsk qgtts\\nnkdgo bbjfq fgnxnhd gfjchl jetdb xubsgj eiju ldlm oxsx znft bbqfj\\nxovcnob pxfe pmstes yzkdm iqlvha nmcziix fexp ivqalh rxecqps\\nxpyew xudfud wwqe qhfjlcu epv fnrbgyv ihli qngtx yjlfg ozqbzn esp\\ntiml gcohx vqzic gzm shwlkkv icqzv urchuc\\nxpqq gaqzwo cci dowahsr gaqzwo\\njjsagdl umbpxre kyre zvaryft tmw pxpnjy\\naqovcz nunq nnuq xjrvvh autjmit jiatumt\\nelg lps lge zjjot hwz tmqrup xaxxmo zlbzp uftd fukdad kvpymsm\\niokwzal ywti zbdmzbu lprywe wbgbwza ypogbga kzliwao wstqi eqm keaeaj gbabwwz\\nlwfpk mhufe eddzgd ljxyqy vhzkct uemhf\\nlwqil fzugdo faq feppo usl llwqi\\nnje hthr ropq qvcepu bexszfj avmzjvv zajmvvv fhcd xnc cnx qnuaux\\nkvksn dphbyz nsx wrcc ccrw\\nnzpa pzzunfv ygzjy gxrrtcj hrt trh pwxpg yifgjmo fnupzzv wbzx\\naepti rbojui ypvhe ubojri tcema aan dntkw qjx bfvmyos tcm hvoqytn\\nqpwq exu jvsiwj gsw avr vbemldy\\nxsbzpf xbzyvx xax sxh vpxt gccy xxa zhgbwoa hwwxoky fhvdxfc pvtx\\npnsa ovtjolz tyutl eyjjzt jvtoolz owbypvr tytlu ewtzgec\\ncyg dwwk eihsp aeuk bbnay aluwyz hdmv uaek mwt ihpse wjhnkeg\\nfhzx vjetz vjub tejvz\\newwyb jidhu pyvyenn igtnyd tiwr akwkkbi myz xxjwb jjrdeg\\njbkuw kwir rkiw ubwkj\\nbltffuw lftwufb hhsh wfbtulf nrxaa rlszi toijxnz czlci\\nbqrm pga zgblgcw pgwhhn lcgzwbg bcgzlgw yqb\\nmhjj vjoa gnjlc kclcr ito ofksy giavy fpqeioj\\nbkiqmif izidbui sttxxi bswhkxp sduuw\\nmjgnvw mjgwnv ojzyuv gvj\\nqxn kkhc whd fgwk auzugg augzgu kqfov wfgk\\nspdxbnu xpfofsb bpfsoxf ahjywql spbxoff\\nbwqxhlm wbqlxmh kqgpl fyzgf guhkvgx ovk qhmp gnrmu wvd wedj\\nvvwf hcnc vvwsngj qedzoxm hcnc qedzoxm kjthdi cbwqep qtvu\\ngio iqklmro noqablo bab jiqc rwebyg rqkloim wzmgs uunl amqs iwj\\nsnxj szobqt zcgvwv wiyqknu\\nuto jteikwd cew gqsks hmvjtcy sach\\nzpgl qnkoex amhufmr figns upv xezrl rjleak nwrna\\npzkvrdz dtonazj gtr gfxucuf lstjl lsjtl rgkope kzpdzrv lyptn zfxjys ttk\\nddxgm lumlgki jhv doft kok swy ckds swy ddxgm lbfbdv\\nqfs rcufzgz iaiqw qfs qfs\\nnvkbo sgv mquwb ritpye nbkov poex hraorm qrrr qdt qefl\\nirxannd fiud ehyb ggx plqg pvvn uuptop tcvbm abuf bcfnmw\\nqwya ukblz epmbfr vmlon yqwa\\nhlo mmv vmm mvm\\nsvzpxun yugbbe sbbpxs dmy xspbbs zhpovyf fyovhzp cpbt pke\\nzgk gft zybs zrgcoo ypu bue htgo\\nxnesq srsx pkzaoh cfqzugh\\nlntd nvxetbv clykjpd svmibpx evxtvnb yldkpjc\\njsqq tzwak hephg eqwczd ioisa yim tmdifn mceip\\nkuwqz wzkqu zwchmj lfec uexne iztp llityt\\nkvamkpc pvbryqh ion cwizjde gln kcpvmak pzzlw gnl\\nydeqf bfaab sydqhbp smsxdjr pynrs cqymt\\nonb eiab bno nob\\nmqslq scnelxv hyllrf scnelxv mqslq wmnbk\\npttu kubby lgop bbyuk gsk skg ikktlbb inbyvz\\nxznvl zwtdj vbxdyd clhw\\nhgy zudelp ickc drfjgn iyws xhc\\nzzv wik iorhat qkb kjb lykdz vrce yjsjwj\\ngyw xzgbi efus uuy\\nhwcy ujdun bjjuvd jbdvju onnk xeyy mmp onkn qyzl\\njwfm ptjwrbl hhuv uolz adyweh qpj wxyogp igvnojq jmfw pqs fsnirby'"
      ]
     },
     "execution_count": 57,
     "metadata": {},
     "output_type": "execute_result"
    }
   ],
   "source": [
    "day4 = aocd.get_data(day=4)\n",
    "day4"
   ]
  },
  {
   "cell_type": "code",
   "execution_count": 58,
   "metadata": {
    "collapsed": true
   },
   "outputs": [],
   "source": [
    "def valid_pass(u):\n",
    "    toto = u.split(\" \")\n",
    "    n = len(toto)\n",
    "    if n == len(list(set(toto))):\n",
    "        return 1\n",
    "    return 0\n",
    "def day_four(u):\n",
    "    return sum(map(valid_pass, u.split(\"\\n\")))"
   ]
  },
  {
   "cell_type": "code",
   "execution_count": 59,
   "metadata": {
    "collapsed": false
   },
   "outputs": [
    {
     "data": {
      "text/plain": [
       "455"
      ]
     },
     "execution_count": 59,
     "metadata": {},
     "output_type": "execute_result"
    }
   ],
   "source": [
    "day_four(day4)"
   ]
  },
  {
   "cell_type": "code",
   "execution_count": 62,
   "metadata": {
    "collapsed": true
   },
   "outputs": [],
   "source": [
    "def valid_pass(u):\n",
    "    toto = u.split(\" \")\n",
    "    n = len(toto)\n",
    "    tata = [''.join(sorted(tutu)) for tutu in toto]\n",
    "    if n == len(list(set(tata))):\n",
    "        return 1\n",
    "    return 0"
   ]
  },
  {
   "cell_type": "code",
   "execution_count": 63,
   "metadata": {
    "collapsed": false
   },
   "outputs": [
    {
     "data": {
      "text/plain": [
       "186"
      ]
     },
     "execution_count": 63,
     "metadata": {},
     "output_type": "execute_result"
    }
   ],
   "source": [
    "day_four(day4)"
   ]
  },
  {
   "cell_type": "code",
   "execution_count": 82,
   "metadata": {
    "collapsed": false
   },
   "outputs": [
    {
     "data": {
      "text/plain": [
       "u'0\\n1\\n0\\n0\\n1\\n-3\\n0\\n0\\n2\\n-2\\n-6\\n-3\\n2\\n-5\\n-6\\n-3\\n-3\\n0\\n-8\\n-12\\n1\\n-9\\n-12\\n-9\\n0\\n-7\\n-17\\n-6\\n-18\\n-7\\n-6\\n-21\\n-28\\n-14\\n-23\\n-14\\n-17\\n-5\\n-35\\n-17\\n-26\\n-14\\n1\\n-27\\n-19\\n-40\\n-32\\n-44\\n2\\n-14\\n-15\\n-12\\n-35\\n0\\n-49\\n-12\\n-7\\n-46\\n-47\\n-32\\n-33\\n-47\\n-7\\n-62\\n-20\\n-35\\n-4\\n-35\\n-8\\n-3\\n-61\\n-38\\n-63\\n-27\\n-33\\n-57\\n-48\\n-66\\n-68\\n-11\\n-61\\n-50\\n-34\\n-31\\n-36\\n-79\\n-49\\n-71\\n1\\n-34\\n-65\\n-61\\n-91\\n-12\\n-21\\n-82\\n-85\\n-51\\n-89\\n0\\n-83\\n-53\\n-44\\n-7\\n1\\n-19\\n-39\\n-27\\n-94\\n-36\\n-31\\n-35\\n-97\\n-45\\n-90\\n-15\\n-106\\n-30\\n-79\\n-18\\n-25\\n-105\\n-30\\n-63\\n-109\\n-32\\n-91\\n-96\\n-87\\n-121\\n-116\\n-103\\n-71\\n-1\\n-113\\n-10\\n-47\\n-109\\n-107\\n-38\\n-66\\n-26\\n-8\\n-38\\n-31\\n-129\\n-42\\n-91\\n-89\\n-107\\n-125\\n-75\\n-118\\n-81\\n-45\\n-111\\n-27\\n-63\\n-106\\n-110\\n-64\\n-63\\n-80\\n-44\\n-33\\n-130\\n-55\\n-90\\n-144\\n-15\\n-132\\n-122\\n-155\\n-122\\n-94\\n-159\\n-5\\n-89\\n-6\\n-97\\n-129\\n-159\\n-15\\n-44\\n-156\\n-124\\n-113\\n-154\\n-95\\n-96\\n-29\\n-121\\n-30\\n-73\\n-118\\n-57\\n-76\\n-141\\n-138\\n-108\\n-185\\n-56\\n-136\\n-161\\n-138\\n-192\\n2\\n-126\\n-12\\n-39\\n-60\\n-125\\n-149\\n-193\\n-146\\n-116\\n-101\\n-16\\n-207\\n-122\\n-92\\n-204\\n-42\\n-112\\n-28\\n-93\\n-96\\n-57\\n-136\\n-19\\n-36\\n-107\\n-170\\n-19\\n-20\\n-96\\n-229\\n-59\\n-172\\n-58\\n-89\\n-31\\n-57\\n-223\\n-37\\n-189\\n-43\\n-135\\n-90\\n-150\\n-22\\n-152\\n-243\\n-37\\n-231\\n-112\\n-57\\n-168\\n-30\\n-77\\n-162\\n-181\\n-176\\n-202\\n-138\\n-206\\n-183\\n-190\\n-257\\n-181\\n-47\\n-23\\n-248\\n-114\\n-98\\n-77\\n-143\\n-168\\n-166\\n-30\\n-155\\n-237\\n-51\\n-113\\n-243\\n-41\\n-142\\n-231\\n-139\\n-20\\n-190\\n-262\\n-142\\n-238\\n-200\\n-270\\n-113\\n-35\\n-296\\n-146\\n-205\\n-129\\n-198\\n-68\\n-139\\n-56\\n-196\\n-133\\n-16\\n-229\\n-258\\n-91\\n-63\\n-249\\n-274\\n-156\\n-273\\n-182\\n-166\\n-115\\n-154\\n-296\\n-115\\n-89\\n-120\\n-201\\n-44\\n-287\\n-8\\n1\\n-260\\n-297\\n-282\\n-114\\n-323\\n-326\\n-166\\n-241\\n-109\\n-21\\n-236\\n-280\\n-19\\n-80\\n-77\\n-271\\n-292\\n-340\\n-300\\n-206\\n-308\\n-99\\n-156\\n-277\\n-245\\n-132\\n-56\\n-172\\n-53\\n-271\\n-32\\n-5\\n-235\\n-329\\n-1\\n-150\\n-247\\n-268\\n-133\\n-341\\n-221\\n-2\\n-43\\n-229\\n-190\\n-337\\n-40\\n-71\\n-72\\n-149\\n-25\\n-253\\n-44\\n-113\\n-164\\n-370\\n-284\\n-235\\n-9\\n-234\\n-291\\n1\\n-152\\n-302\\n-393\\n-47\\n-289\\n-75\\n-140\\n-349\\n-140\\n-353\\n-298\\n-27\\n-292\\n-380\\n-55\\n-62\\n-208\\n-221\\n-41\\n-316\\n-411\\n-367\\n-220\\n-248\\n-59\\n-177\\n-372\\n-55\\n-241\\n-240\\n-140\\n-315\\n-297\\n-42\\n-118\\n-141\\n-70\\n-183\\n-153\\n-30\\n-63\\n-306\\n-110\\n-8\\n-356\\n-80\\n-314\\n-323\\n-41\\n-176\\n-165\\n-41\\n-230\\n-132\\n-222\\n-2\\n-404\\n-38\\n-130\\n2\\n-16\\n-141\\n-136\\n-336\\n-245\\n-6\\n-348\\n-172\\n-267\\n-208\\n-291\\n-285\\n-67\\n-219\\n-216\\n-136\\n-325\\n-27\\n-382\\n-242\\n-50\\n-284\\n-149\\n-454\\n-336\\n-346\\n-293\\n-402\\n-76\\n-324\\n-219\\n-336\\n-24\\n-446\\n-123\\n-185\\n-196\\n-295\\n-173\\n-400\\n-137\\n-414\\n-14\\n-104\\n-62\\n-252\\n-17\\n-398\\n-490\\n-440\\n-89\\n-347\\n-101\\n-142\\n-228\\n-301\\n-396\\n-320\\n-52\\n-508\\n-122\\n-436\\n-311\\n-344\\n-240\\n-434\\n-220\\n-197\\n-31\\n-295\\n-44\\n-452\\n-269\\n-430\\n-373\\n-409\\n-438\\n-365\\n-13\\n-241\\n-418\\n-20\\n-24\\n-141\\n-1\\n-148\\n-307\\n-63\\n-423\\n-254\\n-8\\n-438\\n-326\\n-19\\n-135\\n-109\\n-394\\n2\\n-398\\n-273\\n-158\\n-453\\n-346\\n-86\\n-431\\n-536\\n-549\\n-379\\n-483\\n-85\\n-476\\n-483\\n-104\\n-87\\n-462\\n-249\\n-540\\n-164\\n-360\\n-100\\n-238\\n-45\\n-390\\n-59\\n-156\\n-248\\n-257\\n-150\\n-164\\n-160\\n-545\\n-520\\n-364\\n-384\\n-237\\n-456\\n-28\\n-366\\n-147\\n0\\n-303\\n-583\\n-420\\n-370\\n-299\\n-154\\n-380\\n-188\\n-491\\n-258\\n-598\\n-429\\n-349\\n-333\\n-569\\n-4\\n-556\\n-421\\n-182\\n-441\\n-407\\n-542\\n-364\\n-370\\n-384\\n1\\n-529\\n-45\\n-319\\n-395\\n-279\\n-160\\n-575\\n-193\\n-25\\n-565\\n-548\\n-445\\n-266\\n-304\\n-361\\n-348\\n-303\\n-159\\n-39\\n-75\\n-437\\n-608\\n-622\\n-556\\n-108\\n-343\\n-283\\n-68\\n-632\\n-393\\n-68\\n-140\\n-126\\n-531\\n-87\\n-519\\n-334\\n-56\\n-70\\n-275\\n-247\\n-370\\n-439\\n-118\\n-497\\n-630\\n-594\\n-612\\n-541\\n-161\\n-646\\n-397\\n-100\\n-284\\n-313\\n0\\n-59\\n-200\\n-601\\n-663\\n-529\\n-676\\n-610\\n-7\\n-228\\n-50\\n-494\\n-382\\n-250\\n-306\\n-274\\n-163\\n-110\\n-375\\n-124\\n-237\\n-98\\n-645\\n-692\\n-495\\n-593\\n-647\\n-178\\n-531\\n-336\\n-697\\n-646\\n-671\\n-633\\n-542\\n-461\\n-200\\n-658\\n-525\\n-389\\n-643\\n-258\\n-329\\n-656\\n-400\\n-692\\n-557\\n-506\\n-594\\n-67\\n-623\\n-113\\n-459\\n-211\\n-713\\n-115\\n-602\\n-131\\n-181\\n-30\\n-227\\n-53\\n-719\\n-631\\n-641\\n-434\\n-552\\n-716\\n-368\\n-19\\n-439\\n-443\\n-552\\n-85\\n-79\\n-449\\n-254\\n-620\\n-474\\n-121\\n-210\\n-285\\n-608\\n-456\\n-513\\n-496\\n-13\\n-418\\n-399\\n-437\\n-258\\n-15\\n-623\\n-178\\n-336\\n-379\\n-721\\n-299\\n-729\\n-742\\n-64\\n-13\\n-438\\n-603\\n-666\\n-278\\n-767\\n-200\\n-686\\n-497\\n-256\\n-541\\n-491\\n-360\\n-615\\n-326\\n-682\\n-759\\n-524\\n-580\\n-323\\n-578\\n-793\\n-478\\n-107\\n-440\\n-657\\n-790\\n-605\\n-21\\n-163\\n-392\\n-560\\n-336\\n-430\\n-613\\n-182\\n-15\\n-782\\n-607\\n-281\\n-269\\n-25\\n-699\\n-89\\n-593\\n-280\\n-269\\n-438\\n-103\\n-359\\n-387\\n-157\\n-747\\n-619\\n-176\\n-772\\n-500\\n-735\\n-691\\n-797\\n-612\\n-573\\n-36\\n-617\\n-630\\n-357\\n-718\\n-210\\n-48\\n-185\\n-20\\n-556\\n-206\\n-722\\n-559\\n-416\\n-578\\n-745\\n-564\\n-273\\n-62\\n-300\\n-218\\n-711\\n-744\\n-805\\n-277\\n-522\\n-346\\n-280\\n-762\\n-438\\n-381\\n-379\\n-198\\n-737\\n-555\\n-466\\n-218\\n-511\\n-334\\n-353\\n-259\\n-225\\n-675\\n-350\\n-585\\n-647\\n-52\\n-395\\n-324\\n-106\\n-826\\n-279\\n-81\\n-396\\n-611\\n-312\\n-529\\n-291\\n-129\\n-594\\n-437\\n-188\\n-649\\n-820\\n-237\\n-673\\n-6\\n-387\\n-195\\n-503\\n-350\\n-83\\n-88\\n-626\\n-30\\n-313\\n-13\\n-633\\n-403\\n-319\\n-832\\n-185\\n-146\\n-839\\n-9\\n-557\\n-799\\n-841\\n-700\\n-465\\n-669\\n-769\\n-235\\n-849\\n-863\\n-819\\n-76\\n-912\\n-931\\n-909\\n-762\\n-607\\n-522\\n-64\\n-769\\n-377\\n-133\\n-414\\n-772\\n-206\\n-746\\n-730\\n-393\\n-901\\n-72\\n-33\\n-811\\n-372\\n-298\\n-835\\n-637\\n-302\\n-481\\n-958\\n-878\\n-867\\n-25\\n-260\\n-448\\n-21\\n-930\\n-903\\n-581\\n-547\\n-664\\n-843\\n-140\\n-337\\n-383\\n-513\\n-368\\n-221\\n-474\\n-169\\n-673\\n-728\\n-266\\n-862\\n-753\\n-815\\n-647\\n-106\\n-15\\n-728\\n-912\\n-147\\n-828\\n-6\\n-694\\n-434\\n-737\\n-335\\n-183\\n-732\\n-841\\n-364\\n-155\\n-116\\n-966\\n-822\\n-65\\n-22\\n-853\\n-208\\n-326\\n-826\\n-472\\n-491\\n-436\\n-771\\n-1009\\n-98\\n-401\\n-915\\n-275\\n-574\\n-313\\n-884\\n-648\\n-935\\n-94\\n-326\\n-553\\n-744\\n-723\\n-782\\n-719\\n-175\\n-868\\n-190\\n-153\\n-48\\n-218\\n-414\\n-721\\n-715\\n-995\\n-991\\n-575\\n-264\\n-70\\n-366\\n-381\\n-130\\n-409\\n-817\\n-258\\n-1028\\n-552\\n-878\\n-449\\n-138\\n-900\\n-45\\n-119\\n-677\\n-844\\n-869\\n-985\\n-1019\\n-60\\n-649\\n-915\\n-93\\n-1053\\n-121\\n-631\\n-156\\n-332\\n-193'"
      ]
     },
     "execution_count": 82,
     "metadata": {},
     "output_type": "execute_result"
    }
   ],
   "source": [
    "day5 = aocd.get_data(day=5)\n",
    "day5"
   ]
  },
  {
   "cell_type": "code",
   "execution_count": 90,
   "metadata": {
    "collapsed": false
   },
   "outputs": [],
   "source": [
    "import math\n",
    "def day_five(u):\n",
    "    toto = map(lambda x: int(x), u.split('\\n'))\n",
    "    count = 0\n",
    "    state = 0\n",
    "    while(state < len(toto)):\n",
    "        count += 1\n",
    "        states = state\n",
    "        state += toto[state]\n",
    "#         if toto[states] >= 3:\n",
    "#             toto[states] -= 1\n",
    "#         else:\n",
    "        toto[states] +=1\n",
    "    return count"
   ]
  },
  {
   "cell_type": "code",
   "execution_count": 91,
   "metadata": {
    "collapsed": false
   },
   "outputs": [
    {
     "data": {
      "text/plain": [
       "372139"
      ]
     },
     "execution_count": 91,
     "metadata": {},
     "output_type": "execute_result"
    }
   ],
   "source": [
    "day_five(day5)"
   ]
  },
  {
   "cell_type": "code",
   "execution_count": null,
   "metadata": {
    "collapsed": true
   },
   "outputs": [],
   "source": []
  }
 ],
 "metadata": {
  "kernelspec": {
   "display_name": "Python 2",
   "language": "python",
   "name": "python2"
  },
  "language_info": {
   "codemirror_mode": {
    "name": "ipython",
    "version": 2
   },
   "file_extension": ".py",
   "mimetype": "text/x-python",
   "name": "python",
   "nbconvert_exporter": "python",
   "pygments_lexer": "ipython2",
   "version": "2.7.10"
  }
 },
 "nbformat": 4,
 "nbformat_minor": 0
}
