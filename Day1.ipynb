{
 "cells": [
  {
   "cell_type": "code",
   "execution_count": 1,
   "metadata": {
    "collapsed": false
   },
   "outputs": [],
   "source": [
    "import aocd"
   ]
  },
  {
   "cell_type": "code",
   "execution_count": 2,
   "metadata": {
    "collapsed": false
   },
   "outputs": [
    {
     "name": "stdout",
     "output_type": "stream",
     "text": [
      "\u001b[31mYou are being rate-limited.\u001b[0m\n",
      "Sleeping 9.981 seconds...\u001b[0m\n",
      "Done.\u001b[0m\n"
     ]
    },
    {
     "data": {
      "text/plain": [
       "u'31813174349235972159811869755166343882958376474278437681632495222499211488649543755655138842553867246131245462881756862736922925752647341673342756514856663979496747158241792857625471323535183222497949751644488277317173496124473893452425118133645984488759128897146498831373795721661696492622276282881218371273973538163779782435211491196616375135472517935481964439956844536136823757764494967297251545389464472794474447941564778733926532741752757865243946976266426548341889873514383464142659425122786667399143335772174973128383869893325977319651839516694295534146668728822393452626321892357192574444856264721585365164945647254645264693957898373214897848424966266582991272496771159583715456714645585576641458358326521858518319315233857473695712238323787254556597566461188452279853766184333696344395818615215846348586541164194624371353556812548945447432787795489443312941687221314432694115847863129826532628228386894683392352799514942665396273726821936346663485499159141368443782475714679953213388375939519711591262489869326145476958378464652451441434846382474578535468433514121336844727988128998543975147649823215332929623574231738442281161294838499441799996857746549441142859199799125595761724782225452394593514388571187279266291364278184761833324476838939898258225748562345853633364314923186685534864178665214135631494876474186833392929124337161222959459117554238429216916532175247326391321525832362274683763488347654497889261543959591212539851835354335598844669618391876623638137926893582131945361264841733341247646125278489995838369127582438419889922365596554237153412394494932582424222479798382932335239274297663365164912953364777876187522324991837775492621675953397843833247525599771974555545348388871578347332456586949283657613841414576976542343934911424716613479249893113961925713317644349946444271959375981158445151659431844142242547191181944395897963146947935463718145169266129118413523541222444997678726644615185324461293228124456118853885552279849917342474792984425629248492847827653133583215539325866881662159421987315186914769478947389188382383546881622246793781846254253759714573354544997853153798862436887889318646643359555663135476261863'"
      ]
     },
     "execution_count": 2,
     "metadata": {},
     "output_type": "execute_result"
    }
   ],
   "source": [
    "day1 = aocd.get_data(day=1)\n",
    "day1"
   ]
  },
  {
   "cell_type": "code",
   "execution_count": 3,
   "metadata": {
    "collapsed": false
   },
   "outputs": [],
   "source": [
    "def circular(u):\n",
    "    return u[-1]+ u[0:-1]\n",
    "def day_one(u):\n",
    "    if len(u) == 0:\n",
    "        return 0\n",
    "    v = circular(u)\n",
    "    if u == v:\n",
    "        return int(u[0]) * len(u)\n",
    "    if u[0] == u[-1]:\n",
    "        return day_one(v)\n",
    "    return sum([int(u[i]) for i in range(len(u)-1) if u[i] == u[i+1] ])"
   ]
  },
  {
   "cell_type": "code",
   "execution_count": 4,
   "metadata": {
    "collapsed": false
   },
   "outputs": [
    {
     "data": {
      "text/plain": [
       "1203"
      ]
     },
     "execution_count": 4,
     "metadata": {},
     "output_type": "execute_result"
    }
   ],
   "source": [
    "day_one(day1)"
   ]
  },
  {
   "cell_type": "code",
   "execution_count": 5,
   "metadata": {
    "collapsed": true
   },
   "outputs": [],
   "source": [
    "def day_one_bis(u):\n",
    "    if len(u) == 0:\n",
    "        return 0\n",
    "    return sum([int(u[i]) for i in range(len(u)/2) if u[i] == u[i+len(u)/2] ]) * 2"
   ]
  },
  {
   "cell_type": "code",
   "execution_count": 6,
   "metadata": {
    "collapsed": false
   },
   "outputs": [
    {
     "data": {
      "text/plain": [
       "1146"
      ]
     },
     "execution_count": 6,
     "metadata": {},
     "output_type": "execute_result"
    }
   ],
   "source": [
    "day_one_bis(day1)"
   ]
  },
  {
   "cell_type": "code",
   "execution_count": 7,
   "metadata": {
    "collapsed": false
   },
   "outputs": [
    {
     "name": "stdout",
     "output_type": "stream",
     "text": [
      "\u001b[31mYou are being rate-limited.\u001b[0m\n",
      "Sleeping 9.453 seconds...\u001b[0m\n",
      "Done.\u001b[0m\n"
     ]
    },
    {
     "data": {
      "text/plain": [
       "u'1208\\t412\\t743\\t57\\t1097\\t53\\t71\\t1029\\t719\\t133\\t258\\t69\\t1104\\t373\\t367\\t365\\n4011\\t4316\\t1755\\t4992\\t228\\t240\\t3333\\t208\\t247\\t3319\\t4555\\t717\\t1483\\t4608\\t1387\\t3542\\n675\\t134\\t106\\t115\\t204\\t437\\t1035\\t1142\\t195\\t1115\\t569\\t140\\t1133\\t190\\t701\\t1016\\n4455\\t2184\\t5109\\t221\\t3794\\t246\\t5214\\t4572\\t3571\\t3395\\t2054\\t5050\\t216\\t878\\t237\\t3880\\n4185\\t5959\\t292\\t2293\\t118\\t5603\\t2167\\t5436\\t3079\\t167\\t243\\t256\\t5382\\t207\\t5258\\t4234\\n94\\t402\\t126\\t1293\\t801\\t1604\\t1481\\t1292\\t1428\\t1051\\t345\\t1510\\t1417\\t684\\t133\\t119\\n120\\t1921\\t115\\t3188\\t82\\t334\\t366\\t3467\\t103\\t863\\t3060\\t2123\\t3429\\t1974\\t557\\t3090\\n53\\t446\\t994\\t71\\t872\\t898\\t89\\t982\\t957\\t789\\t1040\\t100\\t133\\t82\\t84\\t791\\n2297\\t733\\t575\\t2896\\t1470\\t169\\t2925\\t1901\\t195\\t2757\\t1627\\t1216\\t148\\t3037\\t392\\t221\\n1343\\t483\\t67\\t1655\\t57\\t71\\t1562\\t447\\t58\\t1561\\t889\\t1741\\t1338\\t88\\t1363\\t560\\n2387\\t3991\\t3394\\t6300\\t2281\\t6976\\t234\\t204\\t6244\\t854\\t1564\\t210\\t195\\t7007\\t3773\\t3623\\n1523\\t77\\t1236\\t1277\\t112\\t171\\t70\\t1198\\t86\\t1664\\t1767\\t75\\t315\\t143\\t1450\\t1610\\n168\\t2683\\t1480\\t200\\t1666\\t1999\\t3418\\t2177\\t156\\t430\\t2959\\t3264\\t2989\\t136\\t110\\t3526\\n8702\\t6973\\t203\\t4401\\t8135\\t7752\\t1704\\t8890\\t182\\t9315\\t255\\t229\\t6539\\t647\\t6431\\t6178\\n2290\\t157\\t2759\\t3771\\t4112\\t2063\\t153\\t3538\\t3740\\t130\\t3474\\t1013\\t180\\t2164\\t170\\t189\\n525\\t1263\\t146\\t954\\t188\\t232\\t1019\\t918\\t268\\t172\\t1196\\t1091\\t1128\\t234\\t650\\t420'"
      ]
     },
     "execution_count": 7,
     "metadata": {},
     "output_type": "execute_result"
    }
   ],
   "source": [
    "day2 = aocd.get_data(day=2)\n",
    "day2"
   ]
  },
  {
   "cell_type": "code",
   "execution_count": 8,
   "metadata": {
    "collapsed": true
   },
   "outputs": [],
   "source": [
    "def check_diff(u):\n",
    "    toto = map(lambda x: int(x), u.split(\"\\t\"))\n",
    "    return max(toto) - min(toto)\n",
    "def day_two(u):\n",
    "    return sum(map(check_diff, u.split(\"\\n\")))"
   ]
  },
  {
   "cell_type": "code",
   "execution_count": 9,
   "metadata": {
    "collapsed": false
   },
   "outputs": [
    {
     "data": {
      "text/plain": [
       "54426"
      ]
     },
     "execution_count": 9,
     "metadata": {},
     "output_type": "execute_result"
    }
   ],
   "source": [
    "day_two(day2)"
   ]
  },
  {
   "cell_type": "code",
   "execution_count": 10,
   "metadata": {
    "collapsed": true
   },
   "outputs": [],
   "source": [
    "def divides(a,b):\n",
    "    aa = int(a)\n",
    "    bb = int(b)\n",
    "    if (aa* 1.0 / bb == aa/bb):\n",
    "        return aa/bb\n",
    "    return False\n",
    "def check_diff(u):\n",
    "    toto = u.split(\"\\t\")\n",
    "    for t in toto:\n",
    "        for tt in toto:\n",
    "            if t != tt:\n",
    "                t1 = divides(t,tt)\n",
    "                t2 = divides(tt,t)\n",
    "                if t1:\n",
    "                    return t1\n",
    "                if t2:\n",
    "                    return t2\n",
    "    return 1"
   ]
  },
  {
   "cell_type": "code",
   "execution_count": 11,
   "metadata": {
    "collapsed": false
   },
   "outputs": [
    {
     "data": {
      "text/plain": [
       "333"
      ]
     },
     "execution_count": 11,
     "metadata": {},
     "output_type": "execute_result"
    }
   ],
   "source": [
    "day_two(day2)"
   ]
  },
  {
   "cell_type": "code",
   "execution_count": 12,
   "metadata": {
    "collapsed": false
   },
   "outputs": [
    {
     "name": "stdout",
     "output_type": "stream",
     "text": [
      "\u001b[31mYou are being rate-limited.\u001b[0m\n",
      "Sleeping 9.658 seconds...\u001b[0m\n",
      "Done.\u001b[0m\n"
     ]
    },
    {
     "data": {
      "text/plain": [
       "u'289326'"
      ]
     },
     "execution_count": 12,
     "metadata": {},
     "output_type": "execute_result"
    }
   ],
   "source": [
    "day3 = aocd.get_data(day=3)\n",
    "day3"
   ]
  },
  {
   "cell_type": "code",
   "execution_count": 13,
   "metadata": {
    "collapsed": true
   },
   "outputs": [],
   "source": [
    "import math\n",
    "def day_three(u):\n",
    "    uu = int(u)\n",
    "    toto = int(math.sqrt(uu))\n",
    "    ttt = uu - toto * toto\n",
    "    rest = ttt % (toto+1)\n",
    "    d = toto /2 +1\n",
    "    return d + abs(d - rest)"
   ]
  },
  {
   "cell_type": "code",
   "execution_count": 14,
   "metadata": {
    "collapsed": false
   },
   "outputs": [
    {
     "data": {
      "text/plain": [
       "419"
      ]
     },
     "execution_count": 14,
     "metadata": {},
     "output_type": "execute_result"
    }
   ],
   "source": [
    "day_three(day3)"
   ]
  },
  {
   "cell_type": "code",
   "execution_count": 15,
   "metadata": {
    "collapsed": false
   },
   "outputs": [],
   "source": [
    "r0 = [1]\n",
    "r1 = [1,2,4,5,10,11,23,25]\n",
    "def build_sub_ring(u, curr):\n",
    "    # u contains a construction from the lower level subgrid\n",
    "    rep = []\n",
    "    for i in range(len(u)):\n",
    "        curr += sum(u[max(i-1,0):i+2])\n",
    "        rep.append(curr)\n",
    "    return rep    \n",
    "    \n",
    "def ring(r): # returns the next ring from the previous ring\n",
    "    n = len(r) / 4 # this must be the index\n",
    "    rep = []\n",
    "    print n\n",
    "    \n",
    "    curr = 0\n",
    "    vect = [r[-1]]\n",
    "    for ttt in r[0:n]:\n",
    "        vect.append(ttt)\n",
    "    vect.append(0)\n",
    "    for ttt in build_sub_ring(vect,curr):\n",
    "        rep.append(ttt)\n",
    "    curr = rep[-1] + rep[-2]\n",
    "    \n",
    "    vect = []\n",
    "    for ttt in r[n-1:2*n]:\n",
    "        vect.append(ttt)\n",
    "    vect.append(0)\n",
    "    for ttt in build_sub_ring(vect,curr):\n",
    "        rep.append(ttt)\n",
    "    curr = rep[-1] + rep[-2]\n",
    "    \n",
    "    vect = []\n",
    "    for ttt in r[2*n-1:3*n]:\n",
    "        vect.append(ttt)\n",
    "    vect.append(0)\n",
    "    for ttt in build_sub_ring(vect,curr):\n",
    "        rep.append(ttt)\n",
    "    curr = rep[-1] + rep[-2]\n",
    "    \n",
    "    vect = []\n",
    "    for ttt in r[3*n-1:4*n]:\n",
    "        vect.append(ttt)\n",
    "    vect.append(rep[0])\n",
    "    for ttt in build_sub_ring(vect,curr):\n",
    "        rep.append(ttt)\n",
    "    curr = rep[-1] + rep[-2]\n",
    "        \n",
    "    return rep\n",
    "def day_three_bis(u):\n",
    "    uu = int(u)\n",
    "    r = r1\n",
    "    while(uu > r[-1]):\n",
    "        print r\n",
    "        r = ring(r)\n",
    "    print r\n",
    "    for rr in r:\n",
    "        if rr >= uu:\n",
    "            return rr"
   ]
  },
  {
   "cell_type": "code",
   "execution_count": 16,
   "metadata": {
    "collapsed": false
   },
   "outputs": [
    {
     "data": {
      "text/plain": [
       "u'289326'"
      ]
     },
     "execution_count": 16,
     "metadata": {},
     "output_type": "execute_result"
    }
   ],
   "source": [
    "day3"
   ]
  },
  {
   "cell_type": "code",
   "execution_count": null,
   "metadata": {
    "collapsed": false,
    "scrolled": true
   },
   "outputs": [
    {
     "name": "stdout",
     "output_type": "stream",
     "text": [
      "[1, 2, 4, 5, 10, 11, 23, 25]\n",
      "2\n",
      "[26, 54, 57, 59, 122, 133, 142, 147, 304, 330, 351, 362, 747, 806, 880, 931]\n",
      "4\n",
      "[957, 1968, 2105, 2275, 2391, 2450, 5022, 5336, 5733, 6155, 6444, 6591, 13486, 14267, 15252, 16295, 17008, 17370, 35487, 37402, 39835, 42452, 45220, 47108]\n",
      "6\n",
      "[48065, 98098, 103128, 109476, 116247, 123363, 128204, 130654, 266330, 279138, 295229, 312453, 330785, 349975, 363010, 369601, 752688, 787032, 830037, 875851, 924406, 975079, 1009457, 1026827, 2089141, 2179400, 2292124, 2411813, 2539320, 2674100, 2814493, 2909666]\n"
     ]
    },
    {
     "data": {
      "text/plain": [
       "295229"
      ]
     },
     "execution_count": 17,
     "metadata": {},
     "output_type": "execute_result"
    }
   ],
   "source": [
    "day_three_bis(day3)"
   ]
  },
  {
   "cell_type": "code",
   "execution_count": null,
   "metadata": {
    "collapsed": false
   },
   "outputs": [],
   "source": [
    "day4 = aocd.get_data(day=4)\n",
    "day4"
   ]
  },
  {
   "cell_type": "code",
   "execution_count": null,
   "metadata": {
    "collapsed": true
   },
   "outputs": [],
   "source": [
    "def valid_pass(u):\n",
    "    toto = u.split(\" \")\n",
    "    n = len(toto)\n",
    "    if n == len(list(set(toto))):\n",
    "        return 1\n",
    "    return 0\n",
    "def day_four(u):\n",
    "    return sum(map(valid_pass, u.split(\"\\n\")))"
   ]
  },
  {
   "cell_type": "code",
   "execution_count": null,
   "metadata": {
    "collapsed": false
   },
   "outputs": [],
   "source": [
    "day_four(day4)"
   ]
  },
  {
   "cell_type": "code",
   "execution_count": null,
   "metadata": {
    "collapsed": true
   },
   "outputs": [],
   "source": [
    "def valid_pass(u):\n",
    "    toto = u.split(\" \")\n",
    "    n = len(toto)\n",
    "    tata = [''.join(sorted(tutu)) for tutu in toto]\n",
    "    if n == len(list(set(tata))):\n",
    "        return 1\n",
    "    return 0"
   ]
  },
  {
   "cell_type": "code",
   "execution_count": null,
   "metadata": {
    "collapsed": false
   },
   "outputs": [],
   "source": [
    "day_four(day4)"
   ]
  },
  {
   "cell_type": "code",
   "execution_count": null,
   "metadata": {
    "collapsed": false
   },
   "outputs": [],
   "source": [
    "day5 = aocd.get_data(day=5)\n",
    "day5"
   ]
  },
  {
   "cell_type": "code",
   "execution_count": null,
   "metadata": {
    "collapsed": false
   },
   "outputs": [],
   "source": [
    "import math\n",
    "def day_five(u):\n",
    "    toto = map(lambda x: int(x), u.split('\\n'))\n",
    "    count = 0\n",
    "    state = 0\n",
    "    while(state < len(toto)):\n",
    "        count += 1\n",
    "        states = state\n",
    "        state += toto[state]\n",
    "#         if toto[states] >= 3:\n",
    "#             toto[states] -= 1\n",
    "#         else:\n",
    "        toto[states] +=1\n",
    "    return count"
   ]
  },
  {
   "cell_type": "code",
   "execution_count": null,
   "metadata": {
    "collapsed": false
   },
   "outputs": [],
   "source": [
    "day_five(day5)"
   ]
  },
  {
   "cell_type": "code",
   "execution_count": null,
   "metadata": {
    "collapsed": true
   },
   "outputs": [],
   "source": []
  }
 ],
 "metadata": {
  "kernelspec": {
   "display_name": "Python 2",
   "language": "python",
   "name": "python2"
  },
  "language_info": {
   "codemirror_mode": {
    "name": "ipython",
    "version": 2
   },
   "file_extension": ".py",
   "mimetype": "text/x-python",
   "name": "python",
   "nbconvert_exporter": "python",
   "pygments_lexer": "ipython2",
   "version": "2.7.10"
  }
 },
 "nbformat": 4,
 "nbformat_minor": 0
}
