{
 "cells": [
  {
   "cell_type": "code",
   "execution_count": 1,
   "metadata": {
    "collapsed": false
   },
   "outputs": [],
   "source": [
    "import aocd"
   ]
  },
  {
   "cell_type": "code",
   "execution_count": 2,
   "metadata": {
    "collapsed": false
   },
   "outputs": [
    {
     "data": {
      "text/plain": [
       "u'{{{{{<>},{{<u!>},<!!!!!!!><!!u!!\"!>!!!!!>!>},<,!!o>},{}},{<!>},<{!!a!a!!!!,!{i!!!>>,{<!!!!i!!!>>}}},{{{{{<<{!>,<!>,<o!>},<!!<!,i!!<,!>,<!>}e>}}},{{},<!!}\\',!>},<!>},<e,!>,<!!!><>},{}},{{{{{<}i>,{{}}},{<!>},<oe!>},<<,!!a\\'}{\"!!!!!>\"\\'u!>,<!!!>\\'>,{{<!!u!!!!!>!>!!!>,}\\'u,!{!>,<}!>},<}u>}}}},{<{!\"}!>!!u!>},<!>},<eoi!!}o\"\"i!!u}e>},{<\"{>,{{<>}}}},{{<{!,>},{<e!\\'\"!,u}>,{<>}},{{},{{<!>,<!<e!>i!!!>o!!!>>}}}},{{},{{{},{<!>!>u<\"\\'o\"\\'!}!>,<!>,<\"ea<i{!!a>,{<a!!!!!>!>,<a!!!>\"ei!!<iu!!!!,>}}},{<a!oe!!!>eauu\\'>}}},{{{'"
      ]
     },
     "execution_count": 2,
     "metadata": {},
     "output_type": "execute_result"
    }
   ],
   "source": [
    "day9 = aocd.get_data(day=9)\n",
    "day9[:500]"
   ]
  },
  {
   "cell_type": "code",
   "execution_count": 41,
   "metadata": {
    "collapsed": false
   },
   "outputs": [],
   "source": [
    "import re\n",
    "def score(u,n=1):\n",
    "    if u == \"\":\n",
    "        return 0\n",
    "    if u == \"{}\":\n",
    "        return n\n",
    "    content = [] # u[1:-1].split(',')\n",
    "    begin = 1\n",
    "    end = 1\n",
    "    count = 0\n",
    "    while end < len(u):\n",
    "        while count > 0 or begin == end:\n",
    "            if u[end] == \"{\":\n",
    "                count += 1\n",
    "            if u[end] == \"}\":\n",
    "                count -= 1\n",
    "            end += 1\n",
    "        content.append(u[begin:end])\n",
    "        begin = end + 1\n",
    "#         print u[end]\n",
    "#         print content\n",
    "        end = begin\n",
    "        count = 0\n",
    "#     print content\n",
    "    return sum(map(lambda x: score(x,n+1),content)) + n\n",
    "def day_nine(u):\n",
    "    cleared = re.sub(r'<((!.)*[^>!]*)*>','<>',u)\n",
    "#     print cleared\n",
    "    cleared1 = re.sub(r'<>,','',cleared)\n",
    "    cleared2 = re.sub(r',<>','',cleared1)\n",
    "    cleared3 = re.sub(r'{<>}','{}',cleared2)\n",
    "    cleared4 = re.sub(r'{}','',cleared3)\n",
    "    cleared5 = re.sub(r',','+',cleared4)\n",
    "#     print cleared3\n",
    "    return score(cleared3)"
   ]
  },
  {
   "cell_type": "code",
   "execution_count": 42,
   "metadata": {
    "collapsed": false,
    "scrolled": true
   },
   "outputs": [
    {
     "data": {
      "text/plain": [
       "13154"
      ]
     },
     "execution_count": 42,
     "metadata": {},
     "output_type": "execute_result"
    }
   ],
   "source": [
    "day_nine(day9)"
   ]
  },
  {
   "cell_type": "code",
   "execution_count": 48,
   "metadata": {
    "collapsed": true
   },
   "outputs": [],
   "source": [
    "def day_nine_bis(u):\n",
    "    print re.match(r'<((!.)*[^>!]*)*>', u)\n",
    "    return len(u)"
   ]
  },
  {
   "cell_type": "code",
   "execution_count": 49,
   "metadata": {
    "collapsed": false
   },
   "outputs": [
    {
     "name": "stdout",
     "output_type": "stream",
     "text": [
      "None\n"
     ]
    },
    {
     "data": {
      "text/plain": [
       "19433"
      ]
     },
     "execution_count": 49,
     "metadata": {},
     "output_type": "execute_result"
    }
   ],
   "source": [
    "day_nine_bis(day9)"
   ]
  },
  {
   "cell_type": "code",
   "execution_count": null,
   "metadata": {
    "collapsed": true
   },
   "outputs": [],
   "source": []
  }
 ],
 "metadata": {
  "kernelspec": {
   "display_name": "Python 2",
   "language": "python",
   "name": "python2"
  },
  "language_info": {
   "codemirror_mode": {
    "name": "ipython",
    "version": 2
   },
   "file_extension": ".py",
   "mimetype": "text/x-python",
   "name": "python",
   "nbconvert_exporter": "python",
   "pygments_lexer": "ipython2",
   "version": "2.7.10"
  }
 },
 "nbformat": 4,
 "nbformat_minor": 0
}
